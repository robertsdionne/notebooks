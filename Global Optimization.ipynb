{
 "metadata": {
  "name": "",
  "signature": "sha256:316452449ba6b22cbcf4a95bbecd41f62fc5046cd4b24d7340ab72f921eec171"
 },
 "nbformat": 3,
 "nbformat_minor": 0,
 "worksheets": [
  {
   "cells": [
    {
     "cell_type": "heading",
     "level": 1,
     "metadata": {},
     "source": [
      "Global Optimization by Integration"
     ]
    },
    {
     "cell_type": "markdown",
     "metadata": {},
     "source": [
      "I was reading about [Lebesgue Integration](http://en.wikipedia.org/wiki/Lebesgue_integration) when I saw that for a non-negative real-valued function $f:\\mathbb{R}\\rightarrow\\mathbb{R^+}$,\n",
      "$$\\int_\\mathbb{R} f(x)\\,d\\mu=\\int_0^\\infty f^*(t)\\,dt \\quad\\text{where}\\quad f^*(t)=\\mu(\\{x\\mid x\\in\\mathbb{R},\\,f(x) > t\\})$$\n",
      "(see [1](http://en.wikipedia.org/wiki/Lebesgue_integration#Towards_a_formal_definition)) where $\\mu$ is a [measure](http://en.wikipedia.org/wiki/Measure_%28mathematics%29) and I realized that one could do a binary search on $t$ to identify the value of a global optimum of $f$ if one exists.\n",
      "\n",
      "This is true because if $f$ is bounded above by $\\alpha^*$ (its global maximum) then as $\\tau\\rightarrow\\infty$ the integral,\n",
      "$$\\int_0^\\tau f^*(t)\\,dt$$\n",
      "stops accumulating area when $\\tau$ crosses $\\alpha^*$. Thus,\n",
      "$$\\int_0^\\infty f^*(t)\\,dt=\\int_0^{\\alpha^*} f^*(t)\\,dt$$\n",
      "\n",
      "Subsequently, I saw that knowing the value of a global optimum allows one to binary search on $x$ to find a coordinate that yields that optimum value. To do this, subdivide the domain $H^*$ into two subdomains $H_0$ and $H_1$ along the $x$ direction, and for each, calculate $\\alpha_i^*$ from binary search over $t$,\n",
      "$$\\int_{H_i\\,\\cap\\,\\mathbb{R}} f(x)\\,d\\mu=\\int_0^{\\alpha_i^*} f_{H_i}^*(t)\\,dt$$\n",
      "\n",
      "Now, compare each $\\alpha_i^*$ to the global $\\alpha^*$ to decide which of the two subdomains $H_i$ contains a global optimum of value $\\alpha^*$. If both subdomains contain an optimum, choose one arbitrarily. Let $H^*$ be the chosen subdomain and recurse, splitting $H^*$ into two subdomains and repeating the procedure, until subdomain $H^*$ has $\\mu(H^*)<\\epsilon$. Finally, $x^*\\in H^*$.\n",
      "\n",
      "In multiple dimensions, $\\textbf{x}=(x_1,x_2,\\ldots,x_N)$, and the optimization procedure narrows the domain progressively along each direction $x_i$. Thus, the running time for the procedure should be\n",
      "$$N\\lg^2\\frac{1}{\\epsilon}I+\\lg\\frac{1}{\\epsilon}I=\\Theta\\big(N\\lg^2\\frac{1}{\\epsilon}I\\big)$$\n",
      "since for $N$ dimensions it must perform binary search on $x$ to within $\\epsilon$ accuracy, with the binary search on $x$ aided at each iteration by another binary search on $t$ to find $\\alpha_i^*$, also within $\\epsilon$. In order to find each $\\alpha_i^*$ and the global $\\alpha^*$ the procedure must calculate, $\\lg\\frac{1}{\\epsilon}$ times, an integral with running time $I$.\n",
      "\n",
      "Before I implemented the above thoughts, I looked for some research into similar methods and found two papers:\n",
      "* [A sufficient and necessary condition for global optimization](http://www.sciencedirect.com/science/article/pii/S0893965909002869)\n",
      "* [A Level-Value Estimation Method and Stochastic Implementation for Global Optimization](http://link.springer.com/article/10.1007%2Fs10957-012-0151-1#page-1)\n",
      "\n",
      "The first, **A sufficient and necessary condition for global optimization**, characterizes how to turn the above formulation for finding $\\alpha^*$ from a maximization problem to a minimization problem in terms of a \"deviation function\" $V_{m,f}(\\alpha)$.\n",
      "\n",
      "The second, **A Level-Value Estimation Method and Stochastic Implementation for Global Optimization**, describes an abstract algorithm and a concrete implementation that differs, I believe, from the one I describe above. I will read this second paper in the future to understand their method. However, the second paper demonstrated the feasibility of calculating the integral using a Monte Carlo method, for which the error is proportional to $O\\big(\\frac{1}{\\sqrt S}\\big)$ and independent of the dimension $N$ of the domain, where $S$ is the number of samples chosen to approximate the integral.\n",
      "\n",
      "In the code that follows, I demonstrate solving a one-dimensional global minimization problem on $f(x)=\\frac{\\sin x}{x}$ shifted in the $x$ and $y$ directions a tiny bit to make the search more interesting."
     ]
    },
    {
     "cell_type": "code",
     "collapsed": false,
     "input": [
      "%matplotlib inline\n",
      "from matplotlib import pyplot as plt\n",
      "import numpy"
     ],
     "language": "python",
     "metadata": {},
     "outputs": [],
     "prompt_number": 4
    },
    {
     "cell_type": "code",
     "collapsed": false,
     "input": [
      "def f(x):\n",
      "    return -numpy.sin(x - 25)/(x - 25) + 2"
     ],
     "language": "python",
     "metadata": {},
     "outputs": [],
     "prompt_number": 63
    },
    {
     "cell_type": "code",
     "collapsed": false,
     "input": [
      "x = numpy.arange(-100, 100, 0.1)\n",
      "plt.plot(x, f(x))"
     ],
     "language": "python",
     "metadata": {},
     "outputs": [
      {
       "metadata": {},
       "output_type": "pyout",
       "prompt_number": 64,
       "text": [
        "[<matplotlib.lines.Line2D at 0x10939e710>]"
       ]
      },
      {
       "metadata": {},
       "output_type": "display_data",
       "png": "[encoded data removed]",
       "text": [
        "<matplotlib.figure.Figure at 0x108d3f390>"
       ]
      }
     ],
     "prompt_number": 64
    },
    {
     "cell_type": "code",
     "collapsed": false,
     "input": [
      "# Creates a deviation function argument function (the inside of the deviation function integral)\n",
      "# from \"A sufficient and necessary condition for global optimization.\"\n",
      "def Deviation(m, f):\n",
      "    return lambda alpha, x: (alpha - numpy.minimum(f(x), alpha))**m"
     ],
     "language": "python",
     "metadata": {},
     "outputs": [],
     "prompt_number": 102
    },
    {
     "cell_type": "code",
     "collapsed": false,
     "input": [
      "V = Deviation(1, f)"
     ],
     "language": "python",
     "metadata": {},
     "outputs": [],
     "prompt_number": 66
    },
    {
     "cell_type": "code",
     "collapsed": false,
     "input": [
      "# Plot our deviation function argument function over x at \\alpha = 2.\n",
      "plt.plot(x, V(2, x))"
     ],
     "language": "python",
     "metadata": {},
     "outputs": [
      {
       "metadata": {},
       "output_type": "pyout",
       "prompt_number": 106,
       "text": [
        "[<matplotlib.lines.Line2D at 0x109c9d110>]"
       ]
      },
      {
       "metadata": {},
       "output_type": "display_data",
       "png": "[encoded data removed]",
       "text": [
        "<matplotlib.figure.Figure at 0x109b91150>"
       ]
      }
     ],
     "prompt_number": 106
    },
    {
     "cell_type": "code",
     "collapsed": false,
     "input": [
      "# Generic uniform Monte Carlo estimator for the deviation function.\n",
      "def Estimator(V, alpha, N, a, b):\n",
      "    samples = (b - a) * numpy.random.random_sample(N) + a\n",
      "    return (b - a) / float(N) * V(alpha, samples).sum()"
     ],
     "language": "python",
     "metadata": {},
     "outputs": [],
     "prompt_number": 104
    },
    {
     "cell_type": "code",
     "collapsed": false,
     "input": [
      "Estimator(V, 1.001, 100000, -100, 100)"
     ],
     "language": "python",
     "metadata": {},
     "outputs": [
      {
       "metadata": {},
       "output_type": "pyout",
       "prompt_number": 79,
       "text": [
        "9.5239228235190161e-05"
       ]
      }
     ],
     "prompt_number": 79
    },
    {
     "cell_type": "code",
     "collapsed": false,
     "input": [
      "# Evaluate the deviation function over \\alpha \\in (-2, 2)\n",
      "y = numpy.arange(-2, 2, 0.01)\n",
      "alpha = numpy.arange(-2, 2, 0.01)\n",
      "for i in xrange(0, y.size):\n",
      "    alpha[i] = Estimator(V, y[i], 10000, -100, 100)\n",
      "plt.plot(y, alpha)"
     ],
     "language": "python",
     "metadata": {},
     "outputs": [
      {
       "metadata": {},
       "output_type": "pyout",
       "prompt_number": 105,
       "text": [
        "[<matplotlib.lines.Line2D at 0x109c4fe90>]"
       ]
      },
      {
       "metadata": {},
       "output_type": "display_data",
       "png": "[encoded data removed]",
       "text": [
        "<matplotlib.figure.Figure at 0x109ac54d0>"
       ]
      }
     ],
     "prompt_number": 105
    },
    {
     "cell_type": "code",
     "collapsed": false,
     "input": [
      "# Binary search over the range of f to find \\alpha^*\n",
      "def FindEssentialInfimum(f, N, a, b, epsilon):\n",
      "    V = Deviation(1, f)\n",
      "    delta = 1.0\n",
      "    alpha_max = f(numpy.random.random_sample())\n",
      "    alpha = alpha_max - delta\n",
      "    alpha_min = -float('inf')\n",
      "    expand = True\n",
      "    while expand:\n",
      "        integral = Estimator(V, alpha, N, a, b)\n",
      "        if integral > 0:\n",
      "            delta *= 2.0\n",
      "            alpha_max = alpha\n",
      "            alpha = alpha - delta\n",
      "        else:\n",
      "            delta /= 2.0\n",
      "            alpha_min = alpha\n",
      "            alpha = alpha + delta\n",
      "            expand = False\n",
      "    while alpha_max - alpha_min > epsilon:\n",
      "        integral = Estimator(V, alpha, N, a, b)\n",
      "        if integral > 0:\n",
      "            alpha_max = alpha\n",
      "        else:\n",
      "            alpha_min = alpha\n",
      "        alpha = (alpha_min + alpha_max) / 2.0\n",
      "    return alpha"
     ],
     "language": "python",
     "metadata": {},
     "outputs": [],
     "prompt_number": 107
    },
    {
     "cell_type": "code",
     "collapsed": false,
     "input": [
      "FindEssentialInfimum(f, 1000000, -100, 100, 1e-10)"
     ],
     "language": "python",
     "metadata": {},
     "outputs": [
      {
       "metadata": {},
       "output_type": "pyout",
       "prompt_number": 84,
       "text": [
        "1.0000000015702439"
       ]
      }
     ],
     "prompt_number": 84
    },
    {
     "cell_type": "code",
     "collapsed": false,
     "input": [
      "# Binary search over parameter x to find the subdomain containing the global optimum coordinate x^* and value \\alpha^*\n",
      "def FindMinimizingParameter(f, N, a, b, epsilon, delta):\n",
      "    alpha_star = FindEssentialInfimum(f, N, a, b, epsilon)\n",
      "    x_max = b\n",
      "    x_min = a\n",
      "    print 'locating x* within', (x_min, x_max)\n",
      "    while x_max - x_min > epsilon:\n",
      "        x = (x_min + x_max) / 2.0\n",
      "        alpha_left = FindEssentialInfimum(f, N, x_min, x, epsilon)\n",
      "        alpha_right = FindEssentialInfimum(f, N, x, x_max, epsilon)\n",
      "        if abs(alpha_star - alpha_left) < delta:\n",
      "            x_max = x\n",
      "            print 'f(x_max)=', f(x_max), (x_min, x_max), x_max - x_min\n",
      "        elif abs(alpha_star - alpha_right) < delta:\n",
      "            x_min = x\n",
      "            print 'f(x_min)=', f(x_min), (x_min, x_max), x_max - x_min\n",
      "        else:\n",
      "            break\n",
      "    return (x_min, x_max)"
     ],
     "language": "python",
     "metadata": {},
     "outputs": [],
     "prompt_number": 108
    },
    {
     "cell_type": "code",
     "collapsed": false,
     "input": [
      "FindMinimizingParameter(f, 1000000, -100, 100, 1e-10, 1e-7)"
     ],
     "language": "python",
     "metadata": {},
     "outputs": [
      {
       "output_type": "stream",
       "stream": "stdout",
       "text": [
        "locating x* within (-100, 100)\n",
        "f(x_min)="
       ]
      },
      {
       "output_type": "stream",
       "stream": "stdout",
       "text": [
        " 2.00529407 (0.0, 100) 100.0\n",
        "f(x_max)="
       ]
      },
      {
       "output_type": "stream",
       "stream": "stdout",
       "text": [
        " 2.00529407 (0.0, 50.0) 50.0\n",
        "f(x_max)="
       ]
      },
      {
       "output_type": "stream",
       "stream": "stdout",
       "text": [
        " nan (0.0, 25.0) 25.0\n",
        "f(x_min)="
       ]
      },
      {
       "output_type": "stream",
       "stream": "stdout",
       "text": [
        " 2.00530575179 (12.5, 25.0) 12.5\n",
        "f(x_min)="
       ]
      },
      {
       "output_type": "stream",
       "stream": "stdout",
       "text": [
        " 2.00530867465 (18.75, 25.0) 6.25\n",
        "f(x_min)="
       ]
      },
      {
       "output_type": "stream",
       "stream": "stdout",
       "text": [
        " 1.99469059449 (21.875, 25.0) 3.125\n",
        "f(x_min)="
       ]
      },
      {
       "output_type": "stream",
       "stream": "stdout",
       "text": [
        " 1.36002202517 (23.4375, 25.0) 1.5625\n",
        "f(x_min)="
       ]
      },
      {
       "output_type": "stream",
       "stream": "stdout",
       "text": [
        " 1.09866558534 (24.21875, 25.0) 0.78125\n",
        "f(x_min)="
       ]
      },
      {
       "output_type": "stream",
       "stream": "stdout",
       "text": [
        " 1.02523799298 (24.609375, 25.0) 0.390625\n",
        "f(x_min)="
       ]
      },
      {
       "output_type": "stream",
       "stream": "stdout",
       "text": [
        " 1.00634571319 (24.8046875, 25.0) 0.1953125\n",
        "f(x_min)="
       ]
      },
      {
       "output_type": "stream",
       "stream": "stdout",
       "text": [
        " 1.00158869945 (24.90234375, 25.0) 0.09765625\n",
        "f(x_min)="
       ]
      },
      {
       "output_type": "stream",
       "stream": "stdout",
       "text": [
        " 1.00039731693 (24.951171875, 25.0) 0.048828125\n",
        "f(x_min)="
       ]
      },
      {
       "output_type": "stream",
       "stream": "stdout",
       "text": [
        " 1.00009933811 (24.9755859375, 25.0) 0.0244140625\n",
        "f(x_min)="
       ]
      },
      {
       "output_type": "stream",
       "stream": "stdout",
       "text": [
        " 1.00002483508 (24.98779296875, 25.0) 0.01220703125\n",
        "f(x_min)="
       ]
      },
      {
       "output_type": "stream",
       "stream": "stdout",
       "text": [
        " 1.00000620881 (24.993896484375, 25.0) 0.006103515625\n",
        "f(x_min)="
       ]
      },
      {
       "output_type": "stream",
       "stream": "stdout",
       "text": [
        " 1.0000015522 (24.9969482421875, 25.0) 0.0030517578125\n",
        "f(x_min)="
       ]
      },
      {
       "output_type": "stream",
       "stream": "stdout",
       "text": [
        " 1.00000038805 (24.99847412109375, 25.0) 0.00152587890625\n",
        "f(x_max)="
       ]
      },
      {
       "output_type": "stream",
       "stream": "stdout",
       "text": [
        " 1.00000009701 (24.99847412109375, 24.999237060546875) 0.000762939453125\n",
        "f(x_min)="
       ]
      },
      {
       "output_type": "stream",
       "stream": "stdout",
       "text": [
        " 1.00000021828 (24.998855590820312, 24.999237060546875) 0.000381469726562\n",
        "f(x_min)="
       ]
      },
      {
       "output_type": "stream",
       "stream": "stdout",
       "text": [
        " 1.00000015158 (24.999046325683594, 24.999237060546875) 0.000190734863281\n",
        "f(x_min)="
       ]
      },
      {
       "output_type": "stream",
       "stream": "stdout",
       "text": [
        " 1.00000012278 (24.999141693115234, 24.999237060546875) 9.53674316406e-05\n",
        "f(x_min)="
       ]
      },
      {
       "output_type": "stream",
       "stream": "stdout",
       "text": [
        " 1.00000010952 (24.999189376831055, 24.999237060546875) 4.76837158203e-05\n",
        "f(x_min)="
       ]
      },
      {
       "output_type": "stream",
       "stream": "stdout",
       "text": [
        " 1.00000010317 (24.999213218688965, 24.999237060546875) 2.38418579102e-05\n",
        "f(x_max)="
       ]
      },
      {
       "output_type": "stream",
       "stream": "stdout",
       "text": [
        " 1.00000010007 (24.999213218688965, 24.99922513961792) 1.19209289551e-05\n",
        "f(x_min)="
       ]
      },
      {
       "output_type": "stream",
       "stream": "stdout",
       "text": [
        " 1.00000010161 (24.999219179153442, 24.99922513961792) 5.96046447754e-06\n",
        "f(x_min)="
       ]
      },
      {
       "output_type": "stream",
       "stream": "stdout",
       "text": [
        " 1.00000010084 (24.99922215938568, 24.99922513961792) 2.98023223877e-06\n",
        "f(x_min)="
       ]
      },
      {
       "output_type": "stream",
       "stream": "stdout",
       "text": [
        " 1.00000010045 (24.9992236495018, 24.99922513961792) 1.49011611938e-06\n",
        "f(x_min)="
       ]
      },
      {
       "output_type": "stream",
       "stream": "stdout",
       "text": [
        " 1.00000010026 (24.99922439455986, 24.99922513961792) 7.45058059692e-07\n",
        "f(x_min)="
       ]
      },
      {
       "output_type": "stream",
       "stream": "stdout",
       "text": [
        " 1.00000010016 (24.99922476708889, 24.99922513961792) 3.72529029846e-07\n",
        "f(x_max)="
       ]
      },
      {
       "output_type": "stream",
       "stream": "stdout",
       "text": [
        " 1.00000010012 (24.99922476708889, 24.999224953353405) 1.86264514923e-07\n",
        "f(x_min)="
       ]
      },
      {
       "output_type": "stream",
       "stream": "stdout",
       "text": [
        " 1.00000010014 (24.999224860221148, 24.999224953353405) 9.31322574615e-08\n",
        "f(x_max)="
       ]
      },
      {
       "output_type": "stream",
       "stream": "stdout",
       "text": [
        " 1.00000010013 (24.999224860221148, 24.999224906787276) 4.65661287308e-08\n",
        "f(x_max)="
       ]
      },
      {
       "output_type": "stream",
       "stream": "stdout",
       "text": [
        " 1.00000010013 (24.999224860221148, 24.999224883504212) 2.32830643654e-08\n",
        "f(x_max)="
       ]
      },
      {
       "output_type": "stream",
       "stream": "stdout",
       "text": [
        " 1.00000010014 (24.999224860221148, 24.99922487186268) 1.16415321827e-08\n",
        "f(x_max)="
       ]
      },
      {
       "output_type": "stream",
       "stream": "stdout",
       "text": [
        " 1.00000010014 (24.999224860221148, 24.999224866041914) 5.82076609135e-09\n",
        "f(x_max)="
       ]
      },
      {
       "output_type": "stream",
       "stream": "stdout",
       "text": [
        " 1.00000010014 (24.999224860221148, 24.99922486313153) 2.91038304567e-09\n",
        "f(x_max)="
       ]
      },
      {
       "output_type": "stream",
       "stream": "stdout",
       "text": [
        " 1.00000010014 (24.999224860221148, 24.99922486167634) 1.45519152284e-09\n",
        "f(x_max)="
       ]
      },
      {
       "output_type": "stream",
       "stream": "stdout",
       "text": [
        " 1.00000010014 (24.999224860221148, 24.999224860948743) 7.27595761418e-10\n",
        "f(x_max)="
       ]
      },
      {
       "output_type": "stream",
       "stream": "stdout",
       "text": [
        " 1.00000010014 (24.999224860221148, 24.999224860584945) 3.63797880709e-10\n",
        "f(x_max)="
       ]
      },
      {
       "output_type": "stream",
       "stream": "stdout",
       "text": [
        " 1.00000010014 (24.999224860221148, 24.999224860403046) 1.81898940355e-10\n",
        "f(x_max)="
       ]
      },
      {
       "output_type": "stream",
       "stream": "stdout",
       "text": [
        " 1.00000010014 (24.999224860221148, 24.999224860312097) 9.09494701773e-11\n"
       ]
      },
      {
       "metadata": {},
       "output_type": "pyout",
       "prompt_number": 97,
       "text": [
        "(24.999224860221148, 24.999224860312097)"
       ]
      }
     ],
     "prompt_number": 97
    },
    {
     "cell_type": "code",
     "collapsed": false,
     "input": [
      "import random\n",
      "x_star = random.uniform(24.999224860221148, 24.999224860312097)\n",
      "print x_star\n",
      "print f(x_star)"
     ],
     "language": "python",
     "metadata": {},
     "outputs": [
      {
       "output_type": "stream",
       "stream": "stdout",
       "text": [
        "24.9992248603\n",
        "1.00000010014\n"
       ]
      }
     ],
     "prompt_number": 98
    },
    {
     "cell_type": "code",
     "collapsed": false,
     "input": [],
     "language": "python",
     "metadata": {},
     "outputs": []
    }
   ],
   "metadata": {}
  }
 ]
}