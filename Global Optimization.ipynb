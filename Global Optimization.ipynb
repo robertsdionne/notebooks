{
 "metadata": {
  "name": "",
  "signature": "sha256:4d01c8f25a389f0c12b6f7c5cc756985effbaa34ae787f752db61b9f6779a20c"
 },
 "nbformat": 3,
 "nbformat_minor": 0,
 "worksheets": [
  {
   "cells": [
    {
     "cell_type": "heading",
     "level": 1,
     "metadata": {},
     "source": [
      "Global Optimization by Integration"
     ]
    },
    {
     "cell_type": "markdown",
     "metadata": {},
     "source": [
      "I was reading about [Lebesgue Integration](http://en.wikipedia.org/wiki/Lebesgue_integration) when I saw that for a non-negative real-valued function $f:\\mathbb{R}\\rightarrow\\mathbb{R^+}$,\n",
      "$$\\int_\\mathbb{R} f(x)\\,d\\mu=\\int_0^\\infty f^*(t)\\,dt \\quad\\text{where}\\quad f^*(t)=\\mu(\\{x\\mid x\\in\\mathbb{R},\\,f(x) > t\\})$$\n",
      "(see [1](http://en.wikipedia.org/wiki/Lebesgue_integration#Towards_a_formal_definition)) where $\\mu$ is a [measure](http://en.wikipedia.org/wiki/Measure_%28mathematics%29) and I realized that one could do a binary search on $t$ to identify the value of a global optimum of $f$ if one exists.\n",
      "\n",
      "This is true because if $f$ is bounded above by $\\alpha^*$ (its global maximum) then as $\\tau\\rightarrow\\infty$ the integral,\n",
      "$$\\int_0^\\tau f^*(t)\\,dt$$\n",
      "stops accumulating area when $\\tau$ crosses $\\alpha^*$. Thus,\n",
      "$$\\int_0^\\infty f^*(t)\\,dt=\\int_0^{\\alpha^*} f^*(t)\\,dt$$\n",
      "\n",
      "Subsequently, I saw that knowing the value of a global optimum allows one to binary search on $x$ to find a coordinate that yields that optimum value. To do this, subdivide the domain $H^*$ into two subdomains $H_0$ and $H_1$ along the $x$ direction, and for each, calculate $\\alpha_i^*$ from binary search over $t$,\n",
      "$$\\int_{H_i\\,\\cap\\,\\mathbb{R}} f(x)\\,d\\mu=\\int_0^{\\alpha_i^*} f_{H_i}^*(t)\\,dt$$\n",
      "\n",
      "Now, compare each $\\alpha_i^*$ to the global $\\alpha^*$ to decide which of the two subdomains $H_i$ contains a global optimum of value $\\alpha^*$. If both subdomains contain an optimum, choose one arbitrarily. Let $H^*$ be the chosen subdomain and recurse, splitting $H^*$ into two subdomains and repeating the procedure, until subdomain $H^*$ has $\\mu(H^*)<\\epsilon$. Finally, $x^*\\in H^*$.\n",
      "\n",
      "In multiple dimensions, $\\textbf{x}=(x_1,x_2,\\ldots,x_N)$, and the optimization procedure narrows the domain progressively along each direction $x_i$. Thus, the running time for the procedure should be\n",
      "$$N\\lg^2\\frac{1}{\\epsilon}I+\\lg\\frac{1}{\\epsilon}I=\\Theta\\big(N\\lg^2\\frac{1}{\\epsilon}I\\big)$$\n",
      "since for $N$ dimensions it must perform binary search on $x$ to within $\\epsilon$ accuracy, with the binary search on $x$ aided at each iteration by another binary search on $t$ to find $\\alpha_i^*$, also within $\\epsilon$. In order to find each $\\alpha_i^*$ and the global $\\alpha^*$ the procedure must calculate, $\\lg\\frac{1}{\\epsilon}$ times, an integral with running time $I$.\n",
      "\n",
      "Before I implemented the above thoughts, I looked for some research into similar methods and found two papers:\n",
      "* [A sufficient and necessary condition for global optimization](http://www.sciencedirect.com/science/article/pii/S0893965909002869)\n",
      "* [A Level-Value Estimation Method and Stochastic Implementation for Global Optimization](http://link.springer.com/article/10.1007%2Fs10957-012-0151-1#page-1)\n",
      "\n",
      "The first, **A sufficient and necessary condition for global optimization**, characterizes how to turn the above formulation for finding $\\alpha^*$ from a maximization problem to a minimization problem in terms of a \"deviation function\" $V_{m,f}(\\alpha)$.\n",
      "\n",
      "The second, **A Level-Value Estimation Method and Stochastic Implementation for Global Optimization**, describes an abstract algorithm and a concrete implementation that differs, I believe, from the one I describe above. I will read this second paper in the future to understand their method. However, the second paper demonstrated the feasibility of calculating the integral using a Monte Carlo method, for which the error is proportional to $O\\big(\\frac{1}{\\sqrt S}\\big)$ and independent of the dimension $N$ of the domain, where $S$ is the number of samples chosen to approximate the integral.\n",
      "\n",
      "In the future, I hope to test this technique for optimizing deep neural networks. Initially, I'd like to compare error performance of a deep network trained on a dataset with stochastic gradient descent against the global minimum $\\alpha^*$ calculated through the above integrals. If the difference is interestingly large, then perhaps I will modify this proposed algorithm to calculate the network's connection weights instead of using a local optimization algorithm like stochastic gradient descent.\n",
      "\n",
      "In the code that follows, I demonstrate solving a one-dimensional global minimization problem on $f(x)=\\frac{\\sin x}{x}$ shifted in the $x$ and $y$ directions a tiny bit to make the search more interesting.\n",
      "\n",
      "I extended my results to a 2D Ackley function, as seen here: [Global Optimization 2D](http://nbviewer.ipython.org/github/robertsdionne/notebooks/blob/master/Global%20Optimization%202D.ipynb)\n",
      "\n",
      "And now I've extended the results to an ND Ackley function, here: [Global Optimization ND](http://nbviewer.ipython.org/github/robertsdionne/notebooks/blob/master/Global%20Optimization%20ND.ipynb)"
     ]
    },
    {
     "cell_type": "heading",
     "level": 2,
     "metadata": {},
     "source": [
      "Globally Optimize -sin(x)/x"
     ]
    },
    {
     "cell_type": "code",
     "collapsed": false,
     "input": [
      "%matplotlib inline\n",
      "from matplotlib import pyplot as plt\n",
      "import numpy\n",
      "import math"
     ],
     "language": "python",
     "metadata": {},
     "outputs": [],
     "prompt_number": 15
    },
    {
     "cell_type": "code",
     "collapsed": false,
     "input": [
      "def f(x):\n",
      "    return numpy.sin(x - 25)/(x - 25) + 2"
     ],
     "language": "python",
     "metadata": {},
     "outputs": [],
     "prompt_number": 16
    },
    {
     "cell_type": "code",
     "collapsed": false,
     "input": [
      "x = numpy.arange(-100, 100, 0.1)\n",
      "plt.plot(x, f(x))"
     ],
     "language": "python",
     "metadata": {},
     "outputs": [
      {
       "metadata": {},
       "output_type": "pyout",
       "prompt_number": 17,
       "text": [
        "[<matplotlib.lines.Line2D at 0x10b689290>]"
       ]
      },
      {
       "metadata": {},
       "output_type": "display_data",
       "png": "[encoded data removed]",
       "text": [
        "<matplotlib.figure.Figure at 0x10b2a1110>"
       ]
      }
     ],
     "prompt_number": 17
    },
    {
     "cell_type": "code",
     "collapsed": false,
     "input": [
      "# Creates a deviation function argument function (the inside of the deviation function integral)\n",
      "# from \"A sufficient and necessary condition for global optimization.\"\n",
      "def Deviation(m, f):\n",
      "    return lambda alpha, x: (alpha - numpy.minimum(f(x), alpha))**m"
     ],
     "language": "python",
     "metadata": {},
     "outputs": [],
     "prompt_number": 18
    },
    {
     "cell_type": "code",
     "collapsed": false,
     "input": [
      "V = Deviation(1, f)"
     ],
     "language": "python",
     "metadata": {},
     "outputs": [],
     "prompt_number": 19
    },
    {
     "cell_type": "code",
     "collapsed": false,
     "input": [
      "# Plot our deviation function argument function over x at \\alpha = 2.\n",
      "plt.plot(x, V(2, x))"
     ],
     "language": "python",
     "metadata": {},
     "outputs": [
      {
       "metadata": {},
       "output_type": "pyout",
       "prompt_number": 20,
       "text": [
        "[<matplotlib.lines.Line2D at 0x10d599e50>]"
       ]
      },
      {
       "metadata": {},
       "output_type": "display_data",
       "png": "[encoded data removed]",
       "text": [
        "<matplotlib.figure.Figure at 0x10b6900d0>"
       ]
      }
     ],
     "prompt_number": 20
    },
    {
     "cell_type": "code",
     "collapsed": false,
     "input": [
      "# Generic uniform Monte Carlo estimator for the deviation function.\n",
      "def Estimator(V, alpha, N, a, b):\n",
      "    samples = (b - a) * numpy.random.random_sample(N) + a\n",
      "    return (b - a) / float(N) * V(alpha, samples).sum()"
     ],
     "language": "python",
     "metadata": {},
     "outputs": [],
     "prompt_number": 21
    },
    {
     "cell_type": "code",
     "collapsed": false,
     "input": [
      "Estimator(V, 2.0, 100000, -100, 100)"
     ],
     "language": "python",
     "metadata": {},
     "outputs": [
      {
       "metadata": {},
       "output_type": "pyout",
       "prompt_number": 25,
       "text": [
        "2.4379187540748797"
       ]
      }
     ],
     "prompt_number": 25
    },
    {
     "cell_type": "code",
     "collapsed": false,
     "input": [
      "# Evaluate the deviation function over \\alpha \\in (-2, 2)\n",
      "y = numpy.linspace(0, 2.0, 100)\n",
      "alpha = y.copy()\n",
      "for i in xrange(0, y.size):\n",
      "    alpha[i] = Estimator(V, y[i], 10000, -100, 100)\n",
      "plt.plot(y, alpha)"
     ],
     "language": "python",
     "metadata": {},
     "outputs": [
      {
       "metadata": {},
       "output_type": "pyout",
       "prompt_number": 40,
       "text": [
        "[<matplotlib.lines.Line2D at 0x10dd19c50>]"
       ]
      },
      {
       "metadata": {},
       "output_type": "display_data",
       "png": "[encoded data removed]",
       "text": [
        "<matplotlib.figure.Figure at 0x10dbedb10>"
       ]
      }
     ],
     "prompt_number": 40
    },
    {
     "cell_type": "code",
     "collapsed": false,
     "input": [
      "# Binary search over the range of f to find \\alpha^*\n",
      "def FindEssentialInfimum(f, N, a, b, epsilon):\n",
      "    V = Deviation(1, f)\n",
      "    delta = 1.0\n",
      "    alpha_max = f((b - a) * numpy.random.random_sample() + a)\n",
      "    alpha = alpha_max - delta\n",
      "    alpha_min = -float('inf')\n",
      "    expand = True\n",
      "    while expand:\n",
      "        integral = Estimator(V, alpha, N, a, b)\n",
      "        if integral > 0:\n",
      "            delta *= 2.0\n",
      "            alpha_max = alpha\n",
      "            alpha = alpha - delta\n",
      "        else:\n",
      "            delta /= 2.0\n",
      "            alpha_min = alpha\n",
      "            alpha = alpha + delta\n",
      "            expand = False\n",
      "    while alpha_max - alpha_min > epsilon:\n",
      "        integral = Estimator(V, alpha, N, a, b)\n",
      "        if integral > 0:\n",
      "            alpha_max = alpha\n",
      "        else:\n",
      "            alpha_min = alpha\n",
      "        alpha = (alpha_min + alpha_max) / 2.0\n",
      "    return alpha"
     ],
     "language": "python",
     "metadata": {},
     "outputs": [],
     "prompt_number": 41
    },
    {
     "cell_type": "code",
     "collapsed": false,
     "input": [
      "FindEssentialInfimum(f, 1000000, -100, 100, 1e-10)"
     ],
     "language": "python",
     "metadata": {},
     "outputs": [
      {
       "metadata": {},
       "output_type": "pyout",
       "prompt_number": 42,
       "text": [
        "1.7827663726899621"
       ]
      }
     ],
     "prompt_number": 42
    },
    {
     "cell_type": "code",
     "collapsed": false,
     "input": [
      "# Binary search over parameter x to find the subdomain containing the global optimum coordinate x^* and value \\alpha^*\n",
      "def FindMinimizingParameter(f, N, a, b, epsilon):\n",
      "    alpha_star = FindEssentialInfimum(f, N, a, b, epsilon)\n",
      "    x_max = b\n",
      "    x_min = a\n",
      "    while x_max - x_min > epsilon:\n",
      "        alpha_star = float('inf')\n",
      "        print\n",
      "        print u'locating x\\u207a within', (x_min, x_max)\n",
      "        while True:\n",
      "            x = (x_min + x_max) / 2.0\n",
      "            potential_alpha_star = FindEssentialInfimum(f, N, x_min, x_max, epsilon)\n",
      "            if potential_alpha_star < alpha_star:\n",
      "                alpha_star = potential_alpha_star\n",
      "            else:\n",
      "                break\n",
      "            print u'\\u03b1\\u207a', alpha_star\n",
      "            alpha_left = FindEssentialInfimum(f, N, x_min, x, epsilon)\n",
      "            alpha_right = FindEssentialInfimum(f, N, x, x_max, epsilon)\n",
      "            if abs(alpha_star - alpha_left) < abs(alpha_star - alpha_right):\n",
      "                x_max = x\n",
      "                print 'x in', (x_min, x_max), 'dx', x_max - x_min, u'd\\u03b1', abs(alpha_star - alpha_left)\n",
      "            else:\n",
      "                x_min = x\n",
      "                print 'x in', (x_min, x_max), 'dx', x_max - x_min, u'd\\u03b1', abs(alpha_star - alpha_right)\n",
      "    return (x_min, x_max)"
     ],
     "language": "python",
     "metadata": {},
     "outputs": [],
     "prompt_number": 74
    },
    {
     "cell_type": "code",
     "collapsed": false,
     "input": [
      "FindMinimizingParameter(f, 2**16, -100, 100, 1e-10)"
     ],
     "language": "python",
     "metadata": {},
     "outputs": [
      {
       "output_type": "stream",
       "stream": "stdout",
       "text": [
        "\n",
        "locating x\u207a within (-100, 100)\n",
        "\u03b1\u207a"
       ]
      },
      {
       "output_type": "stream",
       "stream": "stdout",
       "text": [
        " 1.78276645201\n",
        "x in"
       ]
      },
      {
       "output_type": "stream",
       "stream": "stdout",
       "text": [
        " (0.0, 100) dx 100.0 d\u03b1 7.93717052083e-08\n",
        "\u03b1\u207a"
       ]
      },
      {
       "output_type": "stream",
       "stream": "stdout",
       "text": [
        " 1.78276638475\n",
        "x in"
       ]
      },
      {
       "output_type": "stream",
       "stream": "stdout",
       "text": [
        " (0.0, 50.0) dx 50.0 d\u03b1 9.29591470467e-09\n",
        "\u03b1\u207a"
       ]
      },
      {
       "output_type": "stream",
       "stream": "stdout",
       "text": [
        " 1.78276637509\n",
        "x in"
       ]
      },
      {
       "output_type": "stream",
       "stream": "stdout",
       "text": [
        " (0.0, 25.0) dx 25.0 d\u03b1 5.04721597849e-10\n",
        "\n"
       ]
      },
      {
       "output_type": "stream",
       "stream": "stdout",
       "text": [
        "locating x\u207a within (0.0, 25.0)\n",
        "\u03b1\u207a"
       ]
      },
      {
       "output_type": "stream",
       "stream": "stdout",
       "text": [
        " 1.78276637915\n",
        "x in"
       ]
      },
      {
       "output_type": "stream",
       "stream": "stdout",
       "text": [
        " (12.5, 25.0) dx 12.5 d\u03b1 4.88388374187e-09\n",
        "\u03b1\u207a"
       ]
      },
      {
       "output_type": "stream",
       "stream": "stdout",
       "text": [
        " 1.78276637741\n",
        "x in"
       ]
      },
      {
       "output_type": "stream",
       "stream": "stdout",
       "text": [
        " (18.75, 25.0) dx 6.25 d\u03b1 5.1073769658e-09\n",
        "\u03b1\u207a"
       ]
      },
      {
       "output_type": "stream",
       "stream": "stdout",
       "text": [
        " 1.78276637214\n",
        "x in"
       ]
      },
      {
       "output_type": "stream",
       "stream": "stdout",
       "text": [
        " (18.75, 21.875) dx 3.125 d\u03b1 1.44564138438e-10\n",
        "\u03b1\u207a"
       ]
      },
      {
       "output_type": "stream",
       "stream": "stdout",
       "text": [
        " 1.78276637194\n",
        "x in"
       ]
      },
      {
       "output_type": "stream",
       "stream": "stdout",
       "text": [
        " (20.3125, 21.875) dx 1.5625 d\u03b1 1.36789246596e-10\n",
        "\u03b1\u207a"
       ]
      },
      {
       "output_type": "stream",
       "stream": "stdout",
       "text": [
        " 1.78276637183\n",
        "x in"
       ]
      },
      {
       "output_type": "stream",
       "stream": "stdout",
       "text": [
        " (20.3125, 21.09375) dx 0.78125 d\u03b1 1.53481671816e-11\n",
        "\u03b1\u207a"
       ]
      },
      {
       "output_type": "stream",
       "stream": "stdout",
       "text": [
        " 1.78276637178\n",
        "x in"
       ]
      },
      {
       "output_type": "stream",
       "stream": "stdout",
       "text": [
        " (20.3125, 20.703125) dx 0.390625 d\u03b1 8.4174889281e-12\n",
        "\u03b1\u207a"
       ]
      },
      {
       "output_type": "stream",
       "stream": "stdout",
       "text": [
        " 1.78276637177\n",
        "x in"
       ]
      },
      {
       "output_type": "stream",
       "stream": "stdout",
       "text": [
        " (20.3125, 20.5078125) dx 0.1953125 d\u03b1 1.17506004926e-12\n",
        "\n"
       ]
      },
      {
       "output_type": "stream",
       "stream": "stdout",
       "text": [
        "locating x\u207a within (20.3125, 20.5078125)\n",
        "\u03b1\u207a"
       ]
      },
      {
       "output_type": "stream",
       "stream": "stdout",
       "text": [
        " 1.78276637179\n",
        "x in"
       ]
      },
      {
       "output_type": "stream",
       "stream": "stdout",
       "text": [
        " (20.41015625, 20.5078125) dx 0.09765625 d\u03b1 3.23918669665e-12\n",
        "\n"
       ]
      },
      {
       "output_type": "stream",
       "stream": "stdout",
       "text": [
        "locating x\u207a within (20.41015625, 20.5078125)\n",
        "\u03b1\u207a"
       ]
      },
      {
       "output_type": "stream",
       "stream": "stdout",
       "text": [
        " 1.78276637179\n",
        "x in"
       ]
      },
      {
       "output_type": "stream",
       "stream": "stdout",
       "text": [
        " (20.458984375, 20.5078125) dx 0.048828125 d\u03b1 6.84163836695e-12\n",
        "\u03b1\u207a"
       ]
      },
      {
       "output_type": "stream",
       "stream": "stdout",
       "text": [
        " 1.78276637176\n",
        "x in"
       ]
      },
      {
       "output_type": "stream",
       "stream": "stdout",
       "text": [
        " (20.4833984375, 20.5078125) dx 0.0244140625 d\u03b1 1.85367277084e-11\n",
        "\n"
       ]
      },
      {
       "output_type": "stream",
       "stream": "stdout",
       "text": [
        "locating x\u207a within (20.4833984375, 20.5078125)\n",
        "\u03b1\u207a"
       ]
      },
      {
       "output_type": "stream",
       "stream": "stdout",
       "text": [
        " 1.78276637178\n",
        "x in"
       ]
      },
      {
       "output_type": "stream",
       "stream": "stdout",
       "text": [
        " (20.49560546875, 20.5078125) dx 0.01220703125 d\u03b1 1.34390276685e-11\n",
        "\n"
       ]
      },
      {
       "output_type": "stream",
       "stream": "stdout",
       "text": [
        "locating x\u207a within (20.49560546875, 20.5078125)\n",
        "\u03b1\u207a"
       ]
      },
      {
       "output_type": "stream",
       "stream": "stdout",
       "text": [
        " 1.78276637179\n",
        "x in"
       ]
      },
      {
       "output_type": "stream",
       "stream": "stdout",
       "text": [
        " (20.501708984375, 20.5078125) dx 0.006103515625 d\u03b1 2.99400504389e-11\n",
        "\u03b1\u207a"
       ]
      },
      {
       "output_type": "stream",
       "stream": "stdout",
       "text": [
        " 1.78276637178\n",
        "x in"
       ]
      },
      {
       "output_type": "stream",
       "stream": "stdout",
       "text": [
        " (20.5047607421875, 20.5078125) dx 0.0030517578125 d\u03b1 2.29418706255e-11\n",
        "\n"
       ]
      },
      {
       "output_type": "stream",
       "stream": "stdout",
       "text": [
        "locating x\u207a within (20.5047607421875, 20.5078125)\n",
        "\u03b1\u207a"
       ]
      },
      {
       "output_type": "stream",
       "stream": "stdout",
       "text": [
        " 1.78276637178\n",
        "x in"
       ]
      },
      {
       "output_type": "stream",
       "stream": "stdout",
       "text": [
        " (20.50628662109375, 20.5078125) dx 0.00152587890625 d\u03b1 1.72322156544e-11\n",
        "\n"
       ]
      },
      {
       "output_type": "stream",
       "stream": "stdout",
       "text": [
        "locating x\u207a within (20.50628662109375, 20.5078125)\n",
        "\u03b1\u207a"
       ]
      },
      {
       "output_type": "stream",
       "stream": "stdout",
       "text": [
        " 1.78276637179\n",
        "x in"
       ]
      },
      {
       "output_type": "stream",
       "stream": "stdout",
       "text": [
        " (20.50628662109375, 20.507049560546875) dx 0.000762939453125 d\u03b1 1.8404833213e-11\n",
        "\u03b1\u207a"
       ]
      },
      {
       "output_type": "stream",
       "stream": "stdout",
       "text": [
        " 1.78276637176\n",
        "x in"
       ]
      },
      {
       "output_type": "stream",
       "stream": "stdout",
       "text": [
        " (20.50628662109375, 20.506668090820312) dx 0.000381469726562 d\u03b1 1.49813494943e-12\n",
        "\n"
       ]
      },
      {
       "output_type": "stream",
       "stream": "stdout",
       "text": [
        "locating x\u207a within (20.50628662109375, 20.506668090820312)\n",
        "\u03b1\u207a"
       ]
      },
      {
       "output_type": "stream",
       "stream": "stdout",
       "text": [
        " 1.78276637179\n",
        "x in"
       ]
      },
      {
       "output_type": "stream",
       "stream": "stdout",
       "text": [
        " (20.50647735595703, 20.506668090820312) dx 0.000190734863281 d\u03b1 1.07105435632e-11\n",
        "\u03b1\u207a"
       ]
      },
      {
       "output_type": "stream",
       "stream": "stdout",
       "text": [
        " 1.78276637177\n",
        "x in"
       ]
      },
      {
       "output_type": "stream",
       "stream": "stdout",
       "text": [
        " (20.506572723388672, 20.506668090820312) dx 9.53674316406e-05 d\u03b1 3.63609142795e-11\n",
        "\n"
       ]
      },
      {
       "output_type": "stream",
       "stream": "stdout",
       "text": [
        "locating x\u207a within (20.506572723388672, 20.506668090820312)\n",
        "\u03b1\u207a"
       ]
      },
      {
       "output_type": "stream",
       "stream": "stdout",
       "text": [
        " 1.78276637176\n",
        "x in"
       ]
      },
      {
       "output_type": "stream",
       "stream": "stdout",
       "text": [
        " (20.506572723388672, 20.506620407104492) dx 4.76837158203e-05 d\u03b1 1.425592977e-11\n",
        "\n"
       ]
      },
      {
       "output_type": "stream",
       "stream": "stdout",
       "text": [
        "locating x\u207a within (20.506572723388672, 20.506620407104492)\n",
        "\u03b1\u207a"
       ]
      },
      {
       "output_type": "stream",
       "stream": "stdout",
       "text": [
        " 1.78276637177\n",
        "x in"
       ]
      },
      {
       "output_type": "stream",
       "stream": "stdout",
       "text": [
        " (20.506572723388672, 20.506596565246582) dx 2.38418579102e-05 d\u03b1 9.78128689155e-12\n",
        "\u03b1\u207a"
       ]
      },
      {
       "output_type": "stream",
       "stream": "stdout",
       "text": [
        " 1.78276637176\n",
        "x in"
       ]
      },
      {
       "output_type": "stream",
       "stream": "stdout",
       "text": [
        " (20.506584644317627, 20.506596565246582) dx 1.19209289551e-05 d\u03b1 1.71640479607e-13\n",
        "\u03b1\u207a"
       ]
      },
      {
       "output_type": "stream",
       "stream": "stdout",
       "text": [
        " 1.78276637176\n",
        "x in"
       ]
      },
      {
       "output_type": "stream",
       "stream": "stdout",
       "text": [
        " (20.506590604782104, 20.506596565246582) dx 5.96046447754e-06 d\u03b1 2.49888998383e-12\n",
        "\u03b1\u207a"
       ]
      },
      {
       "output_type": "stream",
       "stream": "stdout",
       "text": [
        " 1.78276637176\n",
        "x in"
       ]
      },
      {
       "output_type": "stream",
       "stream": "stdout",
       "text": [
        " (20.506590604782104, 20.506593585014343) dx 2.98023223877e-06 d\u03b1 3.73034936274e-13\n",
        "\u03b1\u207a"
       ]
      },
      {
       "output_type": "stream",
       "stream": "stdout",
       "text": [
        " 1.78276637176\n",
        "x in"
       ]
      },
      {
       "output_type": "stream",
       "stream": "stdout",
       "text": [
        " (20.506590604782104, 20.506592094898224) dx 1.49011611938e-06 d\u03b1 1.64535052249e-13\n",
        "\u03b1\u207a"
       ]
      },
      {
       "output_type": "stream",
       "stream": "stdout",
       "text": [
        " 1.78276637176\n",
        "x in"
       ]
      },
      {
       "output_type": "stream",
       "stream": "stdout",
       "text": [
        " (20.506590604782104, 20.506591349840164) dx 7.45058059692e-07 d\u03b1 3.33066907388e-15\n",
        "\n"
       ]
      },
      {
       "output_type": "stream",
       "stream": "stdout",
       "text": [
        "locating x\u207a within (20.506590604782104, 20.506591349840164)\n",
        "\u03b1\u207a"
       ]
      },
      {
       "output_type": "stream",
       "stream": "stdout",
       "text": [
        " 1.78276637176\n",
        "x in"
       ]
      },
      {
       "output_type": "stream",
       "stream": "stdout",
       "text": [
        " (20.506590604782104, 20.506590977311134) dx 3.72529029846e-07 d\u03b1 1.55431223448e-15\n",
        "\u03b1\u207a"
       ]
      },
      {
       "output_type": "stream",
       "stream": "stdout",
       "text": [
        " 1.78276637176\n",
        "x in"
       ]
      },
      {
       "output_type": "stream",
       "stream": "stdout",
       "text": [
        " (20.506590604782104, 20.50659079104662) dx 1.86264514923e-07 d\u03b1 3.33066907388e-15\n",
        "\n"
       ]
      },
      {
       "output_type": "stream",
       "stream": "stdout",
       "text": [
        "locating x\u207a within (20.506590604782104, 20.50659079104662)\n",
        "\u03b1\u207a"
       ]
      },
      {
       "output_type": "stream",
       "stream": "stdout",
       "text": [
        " 1.78276637176\n",
        "x in"
       ]
      },
      {
       "output_type": "stream",
       "stream": "stdout",
       "text": [
        " (20.506590697914362, 20.50659079104662) dx 9.31322574615e-08 d\u03b1 8.881784197e-16\n",
        "\u03b1\u207a"
       ]
      },
      {
       "output_type": "stream",
       "stream": "stdout",
       "text": [
        " 1.78276637176\n",
        "x in"
       ]
      },
      {
       "output_type": "stream",
       "stream": "stdout",
       "text": [
        " (20.506590697914362, 20.50659074448049) dx 4.65661287308e-08 d\u03b1 8.881784197e-16\n",
        "\n"
       ]
      },
      {
       "output_type": "stream",
       "stream": "stdout",
       "text": [
        "locating x\u207a within (20.506590697914362, 20.50659074448049)\n",
        "\u03b1\u207a"
       ]
      },
      {
       "output_type": "stream",
       "stream": "stdout",
       "text": [
        " 1.78276637176\n",
        "x in"
       ]
      },
      {
       "output_type": "stream",
       "stream": "stdout",
       "text": [
        " (20.506590697914362, 20.506590721197426) dx 2.32830643654e-08 d\u03b1 4.4408920985e-16\n",
        "\u03b1\u207a"
       ]
      },
      {
       "output_type": "stream",
       "stream": "stdout",
       "text": [
        " 1.78276637176\n",
        "x in"
       ]
      },
      {
       "output_type": "stream",
       "stream": "stdout",
       "text": [
        " (20.506590697914362, 20.506590709555894) dx 1.16415321827e-08 d\u03b1 2.22044604925e-16\n",
        "\n"
       ]
      },
      {
       "output_type": "stream",
       "stream": "stdout",
       "text": [
        "locating x\u207a within (20.506590697914362, 20.506590709555894)\n",
        "\u03b1\u207a"
       ]
      },
      {
       "output_type": "stream",
       "stream": "stdout",
       "text": [
        " 1.78276637176\n",
        "x in"
       ]
      },
      {
       "output_type": "stream",
       "stream": "stdout",
       "text": [
        " (20.506590697914362, 20.506590703735128) dx 5.82076609135e-09 d\u03b1 0.0\n",
        "\n"
       ]
      },
      {
       "output_type": "stream",
       "stream": "stdout",
       "text": [
        "locating x\u207a within (20.506590697914362, 20.506590703735128)\n",
        "\u03b1\u207a"
       ]
      },
      {
       "output_type": "stream",
       "stream": "stdout",
       "text": [
        " 1.78276637176\n",
        "x in"
       ]
      },
      {
       "output_type": "stream",
       "stream": "stdout",
       "text": [
        " (20.506590700824745, 20.506590703735128) dx 2.91038304567e-09 d\u03b1 0.0\n",
        "\n"
       ]
      },
      {
       "output_type": "stream",
       "stream": "stdout",
       "text": [
        "locating x\u207a within (20.506590700824745, 20.506590703735128)\n",
        "\u03b1\u207a"
       ]
      },
      {
       "output_type": "stream",
       "stream": "stdout",
       "text": [
        " 1.78276637176\n",
        "x in"
       ]
      },
      {
       "output_type": "stream",
       "stream": "stdout",
       "text": [
        " (20.506590702279937, 20.506590703735128) dx 1.45519152284e-09 d\u03b1 0.0\n",
        "\n"
       ]
      },
      {
       "output_type": "stream",
       "stream": "stdout",
       "text": [
        "locating x\u207a within (20.506590702279937, 20.506590703735128)\n",
        "\u03b1\u207a"
       ]
      },
      {
       "output_type": "stream",
       "stream": "stdout",
       "text": [
        " 1.78276637176\n",
        "x in"
       ]
      },
      {
       "output_type": "stream",
       "stream": "stdout",
       "text": [
        " (20.506590703007532, 20.506590703735128) dx 7.27595761418e-10 d\u03b1 0.0\n",
        "\n"
       ]
      },
      {
       "output_type": "stream",
       "stream": "stdout",
       "text": [
        "locating x\u207a within (20.506590703007532, 20.506590703735128)\n",
        "\u03b1\u207a"
       ]
      },
      {
       "output_type": "stream",
       "stream": "stdout",
       "text": [
        " 1.78276637176\n",
        "x in"
       ]
      },
      {
       "output_type": "stream",
       "stream": "stdout",
       "text": [
        " (20.50659070337133, 20.506590703735128) dx 3.63797880709e-10 d\u03b1 0.0\n",
        "\n"
       ]
      },
      {
       "output_type": "stream",
       "stream": "stdout",
       "text": [
        "locating x\u207a within (20.50659070337133, 20.506590703735128)\n",
        "\u03b1\u207a"
       ]
      },
      {
       "output_type": "stream",
       "stream": "stdout",
       "text": [
        " 1.78276637176\n",
        "x in"
       ]
      },
      {
       "output_type": "stream",
       "stream": "stdout",
       "text": [
        " (20.50659070355323, 20.506590703735128) dx 1.81898940355e-10 d\u03b1 0.0\n",
        "\n"
       ]
      },
      {
       "output_type": "stream",
       "stream": "stdout",
       "text": [
        "locating x\u207a within (20.50659070355323, 20.506590703735128)\n",
        "\u03b1\u207a"
       ]
      },
      {
       "output_type": "stream",
       "stream": "stdout",
       "text": [
        " 1.78276637176\n",
        "x in"
       ]
      },
      {
       "output_type": "stream",
       "stream": "stdout",
       "text": [
        " (20.50659070364418, 20.506590703735128) dx 9.09494701773e-11 d\u03b1 0.0\n"
       ]
      },
      {
       "metadata": {},
       "output_type": "pyout",
       "prompt_number": 75,
       "text": [
        "(20.50659070364418, 20.506590703735128)"
       ]
      }
     ],
     "prompt_number": 75
    },
    {
     "cell_type": "code",
     "collapsed": false,
     "input": [
      "f(20.50659070364418)"
     ],
     "language": "python",
     "metadata": {},
     "outputs": [
      {
       "metadata": {},
       "output_type": "pyout",
       "prompt_number": 76,
       "text": [
        "1.7827663717887812"
       ]
      }
     ],
     "prompt_number": 76
    },
    {
     "cell_type": "code",
     "collapsed": false,
     "input": [
      "import random\n",
      "x_star = random.uniform(24.999220855534077, 24.999220855625026)\n",
      "print x_star\n",
      "print f(x_star)"
     ],
     "language": "python",
     "metadata": {},
     "outputs": [
      {
       "output_type": "stream",
       "stream": "stdout",
       "text": [
        "24.9992208556\n",
        "2.99999989882\n"
       ]
      }
     ],
     "prompt_number": 77
    },
    {
     "cell_type": "heading",
     "level": 2,
     "metadata": {},
     "source": [
      "Globally Optimize the 1D Ackley Function"
     ]
    },
    {
     "cell_type": "code",
     "collapsed": false,
     "input": [
      "def Ackley(x):\n",
      "    n, a, b, c = 1.0, 20.0, 0.2, 2.0 * math.pi\n",
      "    s1, s2 = 0, 0\n",
      "    s1 += x**2\n",
      "    s2 += numpy.cos(c * x)\n",
      "    return -a * numpy.exp(-b * numpy.sqrt(1.0 / n * s1)) - numpy.exp(1.0 / n * s2) + a + math.e"
     ],
     "language": "python",
     "metadata": {},
     "outputs": [],
     "prompt_number": 78
    },
    {
     "cell_type": "code",
     "collapsed": false,
     "input": [
      "x2 = numpy.arange(-15, 30, 0.01)\n",
      "plt.plot(x2, Ackley(x2))"
     ],
     "language": "python",
     "metadata": {},
     "outputs": [
      {
       "metadata": {},
       "output_type": "pyout",
       "prompt_number": 79,
       "text": [
        "[<matplotlib.lines.Line2D at 0x10ddb1250>]"
       ]
      },
      {
       "metadata": {},
       "output_type": "display_data",
       "png": "[encoded data removed]",
       "text": [
        "<matplotlib.figure.Figure at 0x10dcf4d90>"
       ]
      }
     ],
     "prompt_number": 79
    },
    {
     "cell_type": "code",
     "collapsed": false,
     "input": [
      "V2 = Deviation(1, Ackley)"
     ],
     "language": "python",
     "metadata": {},
     "outputs": [],
     "prompt_number": 80
    },
    {
     "cell_type": "code",
     "collapsed": false,
     "input": [
      "plt.plot(x2, V2(20, x2))"
     ],
     "language": "python",
     "metadata": {},
     "outputs": [
      {
       "metadata": {},
       "output_type": "pyout",
       "prompt_number": 81,
       "text": [
        "[<matplotlib.lines.Line2D at 0x10de20610>]"
       ]
      },
      {
       "metadata": {},
       "output_type": "display_data",
       "png": "[encoded data removed]",
       "text": [
        "<matplotlib.figure.Figure at 0x10dd0a350>"
       ]
      }
     ],
     "prompt_number": 81
    },
    {
     "cell_type": "code",
     "collapsed": false,
     "input": [
      "# Evaluate the deviation function over \\alpha \\in (-2, 2)\n",
      "y = numpy.linspace(-20, 20, 1000)\n",
      "alpha = y.copy()\n",
      "for i in xrange(0, y.size):\n",
      "    alpha[i] = Estimator(V2, y[i], 10000, -15, 30)\n",
      "plt.plot(y, alpha)"
     ],
     "language": "python",
     "metadata": {},
     "outputs": [
      {
       "metadata": {},
       "output_type": "pyout",
       "prompt_number": 83,
       "text": [
        "[<matplotlib.lines.Line2D at 0x10e76b310>]"
       ]
      },
      {
       "metadata": {},
       "output_type": "display_data",
       "png": "[encoded data removed]",
       "text": [
        "<matplotlib.figure.Figure at 0x10dcf6d50>"
       ]
      }
     ],
     "prompt_number": 83
    },
    {
     "cell_type": "code",
     "collapsed": false,
     "input": [
      "FindEssentialInfimum(Ackley, 2**16, -15, 30, 1e-10)"
     ],
     "language": "python",
     "metadata": {},
     "outputs": [
      {
       "metadata": {},
       "output_type": "pyout",
       "prompt_number": 88,
       "text": [
        "0.0016426907068449736"
       ]
      }
     ],
     "prompt_number": 88
    },
    {
     "cell_type": "code",
     "collapsed": false,
     "input": [
      "FindMinimizingParameter(Ackley, 2**16, -15, 30, 1e-10)"
     ],
     "language": "python",
     "metadata": {},
     "outputs": [
      {
       "output_type": "stream",
       "stream": "stdout",
       "text": [
        "\n",
        "locating x\u207a within (-15, 30)\n",
        "\u03b1\u207a"
       ]
      },
      {
       "output_type": "stream",
       "stream": "stdout",
       "text": [
        " 0.00176766409742\n",
        "x in"
       ]
      },
      {
       "output_type": "stream",
       "stream": "stdout",
       "text": [
        " (-15, 7.5) dx 22.5 d\u03b1 0.000614770187106\n",
        "\u03b1\u207a"
       ]
      },
      {
       "output_type": "stream",
       "stream": "stdout",
       "text": [
        " 0.000341103151831\n",
        "x in"
       ]
      },
      {
       "output_type": "stream",
       "stream": "stdout",
       "text": [
        " (-3.75, 7.5) dx 11.25 d\u03b1 0.000156548927672\n",
        "\n"
       ]
      },
      {
       "output_type": "stream",
       "stream": "stdout",
       "text": [
        "locating x\u207a within (-3.75, 7.5)\n",
        "\u03b1\u207a"
       ]
      },
      {
       "output_type": "stream",
       "stream": "stdout",
       "text": [
        " 0.000347030640111\n",
        "x in"
       ]
      },
      {
       "output_type": "stream",
       "stream": "stdout",
       "text": [
        " (-3.75, 1.875) dx 5.625 d\u03b1 0.000156103001416\n",
        "\u03b1\u207a"
       ]
      },
      {
       "output_type": "stream",
       "stream": "stdout",
       "text": [
        " 0.000148945284334\n",
        "x in"
       ]
      },
      {
       "output_type": "stream",
       "stream": "stdout",
       "text": [
        " (-0.9375, 1.875) dx 2.8125 d\u03b1 0.000105440679202\n",
        "\u03b1\u207a"
       ]
      },
      {
       "output_type": "stream",
       "stream": "stdout",
       "text": [
        " 0.000120840377559\n",
        "x in"
       ]
      },
      {
       "output_type": "stream",
       "stream": "stdout",
       "text": [
        " (-0.9375, 0.46875) dx 1.40625 d\u03b1 0.000113796882257\n",
        "\u03b1\u207a"
       ]
      },
      {
       "output_type": "stream",
       "stream": "stdout",
       "text": [
        " 7.36600535234e-06\n",
        "x in"
       ]
      },
      {
       "output_type": "stream",
       "stream": "stdout",
       "text": [
        " (-0.234375, 0.46875) dx 0.703125 d\u03b1 4.25772316293e-06\n",
        "\n"
       ]
      },
      {
       "output_type": "stream",
       "stream": "stdout",
       "text": [
        "locating x\u207a within (-0.234375, 0.46875)\n",
        "\u03b1\u207a"
       ]
      },
      {
       "output_type": "stream",
       "stream": "stdout",
       "text": [
        " 9.88964718163e-06\n",
        "x in"
       ]
      },
      {
       "output_type": "stream",
       "stream": "stdout",
       "text": [
        " (-0.234375, 0.1171875) dx 0.3515625 d\u03b1 2.39927583578e-06\n",
        "\u03b1\u207a"
       ]
      },
      {
       "output_type": "stream",
       "stream": "stdout",
       "text": [
        " 9.17725045868e-06\n",
        "x in"
       ]
      },
      {
       "output_type": "stream",
       "stream": "stdout",
       "text": [
        " (-0.05859375, 0.1171875) dx 0.17578125 d\u03b1 4.7254950708e-06\n",
        "\n"
       ]
      },
      {
       "output_type": "stream",
       "stream": "stdout",
       "text": [
        "locating x\u207a within (-0.05859375, 0.1171875)\n",
        "\u03b1\u207a"
       ]
      },
      {
       "output_type": "stream",
       "stream": "stdout",
       "text": [
        " 2.12529864685e-06\n",
        "x in"
       ]
      },
      {
       "output_type": "stream",
       "stream": "stdout",
       "text": [
        " (-0.05859375, 0.029296875) dx 0.087890625 d\u03b1 3.92897224089e-07\n",
        "\u03b1\u207a"
       ]
      },
      {
       "output_type": "stream",
       "stream": "stdout",
       "text": [
        " 1.1554752537e-06\n",
        "x in"
       ]
      },
      {
       "output_type": "stream",
       "stream": "stdout",
       "text": [
        " (-0.0146484375, 0.029296875) dx 0.0439453125 d\u03b1 2.92814515745e-07\n",
        "\u03b1\u207a"
       ]
      },
      {
       "output_type": "stream",
       "stream": "stdout",
       "text": [
        " 8.16431736883e-07\n",
        "x in"
       ]
      },
      {
       "output_type": "stream",
       "stream": "stdout",
       "text": [
        " (-0.0146484375, 0.00732421875) dx 0.02197265625 d\u03b1 8.86532568245e-07\n",
        "\u03b1\u207a"
       ]
      },
      {
       "output_type": "stream",
       "stream": "stdout",
       "text": [
        " 2.50264147628e-07\n",
        "x in"
       ]
      },
      {
       "output_type": "stream",
       "stream": "stdout",
       "text": [
        " (-0.003662109375, 0.00732421875) dx 0.010986328125 d\u03b1 2.63110937482e-07\n",
        "\n"
       ]
      },
      {
       "output_type": "stream",
       "stream": "stdout",
       "text": [
        "locating x\u207a within (-0.003662109375, 0.00732421875)\n",
        "\u03b1\u207a"
       ]
      },
      {
       "output_type": "stream",
       "stream": "stdout",
       "text": [
        " 5.080028882e-07\n",
        "x in"
       ]
      },
      {
       "output_type": "stream",
       "stream": "stdout",
       "text": [
        " (-0.003662109375, 0.0018310546875) dx 0.0054931640625 d\u03b1 3.64293374133e-07\n",
        "\u03b1\u207a"
       ]
      },
      {
       "output_type": "stream",
       "stream": "stdout",
       "text": [
        " 5.07814026385e-08\n",
        "x in"
       ]
      },
      {
       "output_type": "stream",
       "stream": "stdout",
       "text": [
        " (-0.00091552734375, 0.0018310546875) dx 0.00274658203125 d\u03b1 2.19150635417e-08\n",
        "\n"
       ]
      },
      {
       "output_type": "stream",
       "stream": "stdout",
       "text": [
        "locating x\u207a within (-0.00091552734375, 0.0018310546875)\n",
        "\u03b1\u207a"
       ]
      },
      {
       "output_type": "stream",
       "stream": "stdout",
       "text": [
        " 3.0432716347e-08\n",
        "x in"
       ]
      },
      {
       "output_type": "stream",
       "stream": "stdout",
       "text": [
        " (-0.00091552734375, 0.000457763671875) dx 0.00137329101562 d\u03b1 1.91778042335e-08\n",
        "\n"
       ]
      },
      {
       "output_type": "stream",
       "stream": "stdout",
       "text": [
        "locating x\u207a within (-0.00091552734375, 0.000457763671875)\n",
        "\u03b1\u207a"
       ]
      },
      {
       "output_type": "stream",
       "stream": "stdout",
       "text": [
        " 7.01180669083e-09\n",
        "x in"
       ]
      },
      {
       "output_type": "stream",
       "stream": "stdout",
       "text": [
        " (-0.0002288818359375, 0.000457763671875) dx 0.000686645507812 d\u03b1 7.76185160589e-09\n",
        "\n"
       ]
      },
      {
       "output_type": "stream",
       "stream": "stdout",
       "text": [
        "locating x\u207a within (-0.0002288818359375, 0.000457763671875)\n",
        "\u03b1\u207a"
       ]
      },
      {
       "output_type": "stream",
       "stream": "stdout",
       "text": [
        " 1.42269844794e-08\n",
        "x in"
       ]
      },
      {
       "output_type": "stream",
       "stream": "stdout",
       "text": [
        " (-0.0002288818359375, 0.00011444091796875) dx 0.000343322753906 d\u03b1 1.22626495624e-08\n",
        "\u03b1\u207a"
       ]
      },
      {
       "output_type": "stream",
       "stream": "stdout",
       "text": [
        " 8.61384297224e-10\n",
        "x in"
       ]
      },
      {
       "output_type": "stream",
       "stream": "stdout",
       "text": [
        " (-5.7220458984375e-05, 0.00011444091796875) dx 0.000171661376953 d\u03b1 2.5733974951e-09\n",
        "\n"
       ]
      },
      {
       "output_type": "stream",
       "stream": "stdout",
       "text": [
        "locating x\u207a within (-5.7220458984375e-05, 0.00011444091796875)\n",
        "\u03b1\u207a"
       ]
      },
      {
       "output_type": "stream",
       "stream": "stdout",
       "text": [
        " 1.27910024794e-08\n",
        "x in"
       ]
      },
      {
       "output_type": "stream",
       "stream": "stdout",
       "text": [
        " (-5.7220458984375e-05, 2.86102294921875e-05) dx 8.58306884766e-05 d\u03b1 1.19307266289e-08\n",
        "\u03b1\u207a"
       ]
      },
      {
       "output_type": "stream",
       "stream": "stdout",
       "text": [
        " 9.83277903543e-10\n",
        "x in"
       ]
      },
      {
       "output_type": "stream",
       "stream": "stdout",
       "text": [
        " (-1.430511474609375e-05, 2.86102294921875e-05) dx 4.29153442383e-05 d\u03b1 2.46274112214e-11\n",
        "\u03b1\u207a"
       ]
      },
      {
       "output_type": "stream",
       "stream": "stdout",
       "text": [
        " 6.45233644292e-10\n",
        "x in"
       ]
      },
      {
       "output_type": "stream",
       "stream": "stdout",
       "text": [
        " (-1.430511474609375e-05, 7.152557373046875e-06) dx 2.14576721191e-05 d\u03b1 5.02712538264e-10\n",
        "\u03b1\u207a"
       ]
      },
      {
       "output_type": "stream",
       "stream": "stdout",
       "text": [
        " -6.56807941368e-13\n",
        "x in"
       ]
      },
      {
       "output_type": "stream",
       "stream": "stdout",
       "text": [
        " (-3.5762786865234375e-06, 7.152557373046875e-06) dx 1.07288360596e-05 d\u03b1 6.37815134041e-10\n",
        "\n"
       ]
      },
      {
       "output_type": "stream",
       "stream": "stdout",
       "text": [
        "locating x\u207a within (-3.5762786865234375e-06, 7.152557373046875e-06)\n",
        "\u03b1\u207a"
       ]
      },
      {
       "output_type": "stream",
       "stream": "stdout",
       "text": [
        " 4.48082904114e-10\n",
        "x in"
       ]
      },
      {
       "output_type": "stream",
       "stream": "stdout",
       "text": [
        " (-3.5762786865234375e-06, 1.7881393432617188e-06) dx 5.36441802979e-06 d\u03b1 2.26265228775e-10\n",
        "\u03b1\u207a"
       ]
      },
      {
       "output_type": "stream",
       "stream": "stdout",
       "text": [
        " 9.51492218348e-11\n",
        "x in"
       ]
      },
      {
       "output_type": "stream",
       "stream": "stdout",
       "text": [
        " (-8.940696716308594e-07, 1.7881393432617188e-06) dx 2.68220901489e-06 d\u03b1 4.98445729136e-12\n",
        "\u03b1\u207a"
       ]
      },
      {
       "output_type": "stream",
       "stream": "stdout",
       "text": [
        " 6.81414924486e-11\n",
        "x in"
       ]
      },
      {
       "output_type": "stream",
       "stream": "stdout",
       "text": [
        " (-8.940696716308594e-07, 4.470348358154297e-07) dx 1.34110450745e-06 d\u03b1 5.24700283222e-11\n",
        "\u03b1\u207a"
       ]
      },
      {
       "output_type": "stream",
       "stream": "stdout",
       "text": [
        " 1.72808434229e-11\n",
        "x in"
       ]
      },
      {
       "output_type": "stream",
       "stream": "stdout",
       "text": [
        " (-2.2351741790771484e-07, 4.470348358154297e-07) dx 6.70552253723e-07 d\u03b1 1.48148160406e-11\n",
        "\u03b1\u207a"
       ]
      },
      {
       "output_type": "stream",
       "stream": "stdout",
       "text": [
        " -2.02393657389e-11\n",
        "x in"
       ]
      },
      {
       "output_type": "stream",
       "stream": "stdout",
       "text": [
        " (-2.2351741790771484e-07, 1.1175870895385742e-07) dx 3.35276126862e-07 d\u03b1 2.63860044925e-11\n",
        "\n"
       ]
      },
      {
       "output_type": "stream",
       "stream": "stdout",
       "text": [
        "locating x\u207a within (-2.2351741790771484e-07, 1.1175870895385742e-07)\n",
        "\u03b1\u207a"
       ]
      },
      {
       "output_type": "stream",
       "stream": "stdout",
       "text": [
        " -2.71316302758e-11\n",
        "x in"
       ]
      },
      {
       "output_type": "stream",
       "stream": "stdout",
       "text": [
        " (-5.587935447692871e-08, 1.1175870895385742e-07) dx 1.67638063431e-07 d\u03b1 1.1425527191e-11\n",
        "\n"
       ]
      },
      {
       "output_type": "stream",
       "stream": "stdout",
       "text": [
        "locating x\u207a within (-5.587935447692871e-08, 1.1175870895385742e-07)\n",
        "\u03b1\u207a"
       ]
      },
      {
       "output_type": "stream",
       "stream": "stdout",
       "text": [
        " 3.13140624542e-11\n",
        "x in"
       ]
      },
      {
       "output_type": "stream",
       "stream": "stdout",
       "text": [
        " (-5.587935447692871e-08, 2.7939677238464355e-08) dx 8.38190317154e-08 d\u03b1 4.22879509188e-11\n",
        "\u03b1\u207a"
       ]
      },
      {
       "output_type": "stream",
       "stream": "stdout",
       "text": [
        " 2.11319850507e-11\n",
        "x in"
       ]
      },
      {
       "output_type": "stream",
       "stream": "stdout",
       "text": [
        " (-1.3969838619232178e-08, 2.7939677238464355e-08) dx 4.19095158577e-08 d\u03b1 3.00097724448e-11\n",
        "\u03b1\u207a"
       ]
      },
      {
       "output_type": "stream",
       "stream": "stdout",
       "text": [
        " 8.39550651222e-12\n",
        "x in"
       ]
      },
      {
       "output_type": "stream",
       "stream": "stdout",
       "text": [
        " (-1.3969838619232178e-08, 6.984919309616089e-09) dx 2.09547579288e-08 d\u03b1 1.25304211451e-11\n",
        "\u03b1\u207a"
       ]
      },
      {
       "output_type": "stream",
       "stream": "stdout",
       "text": [
        " 3.9901415505e-12\n",
        "x in"
       ]
      },
      {
       "output_type": "stream",
       "stream": "stdout",
       "text": [
        " (-3.4924596548080444e-09, 6.984919309616089e-09) dx 1.04773789644e-08 d\u03b1 9.35429511628e-12\n",
        "\n"
       ]
      },
      {
       "output_type": "stream",
       "stream": "stdout",
       "text": [
        "locating x\u207a within (-3.4924596548080444e-09, 6.984919309616089e-09)\n",
        "\u03b1\u207a"
       ]
      },
      {
       "output_type": "stream",
       "stream": "stdout",
       "text": [
        " -2.31592522937e-12\n",
        "x in"
       ]
      },
      {
       "output_type": "stream",
       "stream": "stdout",
       "text": [
        " (-3.4924596548080444e-09, 1.7462298274040222e-09) dx 5.23868948221e-09 d\u03b1 2.9565683235e-11\n",
        "\n"
       ]
      },
      {
       "output_type": "stream",
       "stream": "stdout",
       "text": [
        "locating x\u207a within (-3.4924596548080444e-09, 1.7462298274040222e-09)\n",
        "\u03b1\u207a"
       ]
      },
      {
       "output_type": "stream",
       "stream": "stdout",
       "text": [
        " -2.12980744152e-11\n",
        "x in"
       ]
      },
      {
       "output_type": "stream",
       "stream": "stdout",
       "text": [
        " (-8.731149137020111e-10, 1.7462298274040222e-09) dx 2.61934474111e-09 d\u03b1 4.57731630377e-11\n",
        "\n"
       ]
      },
      {
       "output_type": "stream",
       "stream": "stdout",
       "text": [
        "locating x\u207a within (-8.731149137020111e-10, 1.7462298274040222e-09)\n",
        "\u03b1\u207a"
       ]
      },
      {
       "output_type": "stream",
       "stream": "stdout",
       "text": [
        " -2.67728061942e-11\n",
        "x in"
       ]
      },
      {
       "output_type": "stream",
       "stream": "stdout",
       "text": [
        " (-8.731149137020111e-10, 4.3655745685100555e-10) dx 1.30967237055e-09 d\u03b1 1.23563381749e-11\n",
        "\n"
       ]
      },
      {
       "output_type": "stream",
       "stream": "stdout",
       "text": [
        "locating x\u207a within (-8.731149137020111e-10, 4.3655745685100555e-10)\n",
        "\u03b1\u207a"
       ]
      },
      {
       "output_type": "stream",
       "stream": "stdout",
       "text": [
        " -1.3027356971e-11\n",
        "x in"
       ]
      },
      {
       "output_type": "stream",
       "stream": "stdout",
       "text": [
        " (-2.1827872842550278e-10, 4.3655745685100555e-10) dx 6.54836185277e-10 d\u03b1 2.39559483362e-11\n",
        "\u03b1\u207a"
       ]
      },
      {
       "output_type": "stream",
       "stream": "stdout",
       "text": [
        " -1.93014493277e-11\n",
        "x in"
       ]
      },
      {
       "output_type": "stream",
       "stream": "stdout",
       "text": [
        " (-2.1827872842550278e-10, 1.0913936421275139e-10) dx 3.27418092638e-10 d\u03b1 4.22311074999e-11\n",
        "\n"
       ]
      },
      {
       "output_type": "stream",
       "stream": "stdout",
       "text": [
        "locating x\u207a within (-2.1827872842550278e-10, 1.0913936421275139e-10)\n",
        "\u03b1\u207a"
       ]
      },
      {
       "output_type": "stream",
       "stream": "stdout",
       "text": [
        " -1.20037313422e-12\n",
        "x in"
       ]
      },
      {
       "output_type": "stream",
       "stream": "stdout",
       "text": [
        " (-5.4569682106375694e-11, 1.0913936421275139e-10) dx 1.63709046319e-10 d\u03b1 2.01794136956e-12\n",
        "\u03b1\u207a"
       ]
      },
      {
       "output_type": "stream",
       "stream": "stdout",
       "text": [
        " -1.47291068231e-11\n",
        "x in"
       ]
      },
      {
       "output_type": "stream",
       "stream": "stdout",
       "text": [
        " (-5.4569682106375694e-11, 2.7284841053187847e-11) dx 8.18545231596e-11 d\u03b1 6.96331881045e-13\n"
       ]
      },
      {
       "metadata": {},
       "output_type": "pyout",
       "prompt_number": 90,
       "text": [
        "(-5.4569682106375694e-11, 2.7284841053187847e-11)"
       ]
      }
     ],
     "prompt_number": 90
    },
    {
     "cell_type": "heading",
     "level": 2,
     "metadata": {},
     "source": [
      "Globally Optimize a Neuron with Rectified Linear Activation"
     ]
    },
    {
     "cell_type": "code",
     "collapsed": false,
     "input": [
      "data = numpy.random.random_sample(10)\n",
      "data"
     ],
     "language": "python",
     "metadata": {},
     "outputs": [
      {
       "metadata": {},
       "output_type": "pyout",
       "prompt_number": 91,
       "text": [
        "array([ 0.24527734,  0.32162004,  0.93406636,  0.47883288,  0.5054492 ,\n",
        "        0.46898937,  0.46097406,  0.27291269,  0.91343286,  0.26628361])"
       ]
      }
     ],
     "prompt_number": 91
    },
    {
     "cell_type": "code",
     "collapsed": false,
     "input": [
      "def Neuron(theta):\n",
      "    return 1.0 / 2.0 * ((data - numpy.maximum(0, numpy.outer(theta, data)))**2).sum(axis=1)"
     ],
     "language": "python",
     "metadata": {},
     "outputs": [],
     "prompt_number": 92
    },
    {
     "cell_type": "code",
     "collapsed": false,
     "input": [
      "theta = numpy.arange(-10, 10, 0.01)\n",
      "plt.plot(theta, Neuron(theta))"
     ],
     "language": "python",
     "metadata": {},
     "outputs": [
      {
       "metadata": {},
       "output_type": "pyout",
       "prompt_number": 93,
       "text": [
        "[<matplotlib.lines.Line2D at 0x10725c110>]"
       ]
      },
      {
       "metadata": {},
       "output_type": "display_data",
       "png": "[encoded data removed]",
       "text": [
        "<matplotlib.figure.Figure at 0x10dcf52d0>"
       ]
      }
     ],
     "prompt_number": 93
    },
    {
     "cell_type": "code",
     "collapsed": false,
     "input": [
      "V3 = Deviation(1, Neuron)"
     ],
     "language": "python",
     "metadata": {},
     "outputs": [],
     "prompt_number": 94
    },
    {
     "cell_type": "code",
     "collapsed": false,
     "input": [
      "plt.plot(theta, V3(10, theta))"
     ],
     "language": "python",
     "metadata": {},
     "outputs": [
      {
       "metadata": {},
       "output_type": "pyout",
       "prompt_number": 95,
       "text": [
        "[<matplotlib.lines.Line2D at 0x10728a650>]"
       ]
      },
      {
       "metadata": {},
       "output_type": "display_data",
       "png": "[encoded data removed]",
       "text": [
        "<matplotlib.figure.Figure at 0x10dcf4e10>"
       ]
      }
     ],
     "prompt_number": 95
    },
    {
     "cell_type": "code",
     "collapsed": false,
     "input": [
      "# Evaluate the deviation function over \\alpha \\in (-2, 2)\n",
      "y = numpy.linspace(-10, 10, 200)\n",
      "alpha = y.copy()\n",
      "for i in xrange(0, y.size):\n",
      "    alpha[i] = Estimator(V3, y[i], 10000, -10, 10)\n",
      "plt.plot(y, alpha)"
     ],
     "language": "python",
     "metadata": {},
     "outputs": [
      {
       "metadata": {},
       "output_type": "pyout",
       "prompt_number": 99,
       "text": [
        "[<matplotlib.lines.Line2D at 0x10bee2d10>]"
       ]
      },
      {
       "metadata": {},
       "output_type": "display_data",
       "png": "[encoded data removed]",
       "text": [
        "<matplotlib.figure.Figure at 0x107242e10>"
       ]
      }
     ],
     "prompt_number": 99
    },
    {
     "cell_type": "code",
     "collapsed": false,
     "input": [
      "FindEssentialInfimum(Neuron, 2**16, -10, 10, 1e-10)"
     ],
     "language": "python",
     "metadata": {},
     "outputs": [
      {
       "metadata": {},
       "output_type": "pyout",
       "prompt_number": 100,
       "text": [
        "array([  9.38442213e-08])"
       ]
      }
     ],
     "prompt_number": 100
    },
    {
     "cell_type": "code",
     "collapsed": false,
     "input": [
      "FindMinimizingParameter(Neuron, 2**16, -10, 10, 1e-10)"
     ],
     "language": "python",
     "metadata": {},
     "outputs": [
      {
       "output_type": "stream",
       "stream": "stdout",
       "text": [
        "\n",
        "locating x\u207a within (-10, 10)\n",
        "\u03b1\u207a"
       ]
      },
      {
       "output_type": "stream",
       "stream": "stdout",
       "text": [
        " [  1.21873143e-07]\n",
        "x in"
       ]
      },
      {
       "output_type": "stream",
       "stream": "stdout",
       "text": [
        " (0.0, 10) dx 10.0 d\u03b1 [  1.21467480e-07]\n",
        "\u03b1\u207a"
       ]
      },
      {
       "output_type": "stream",
       "stream": "stdout",
       "text": [
        " [  8.90442031e-09]\n",
        "x in"
       ]
      },
      {
       "output_type": "stream",
       "stream": "stdout",
       "text": [
        " (0.0, 5.0) dx 5.0 d\u03b1 [  8.45060022e-09]\n",
        "\u03b1\u207a"
       ]
      },
      {
       "output_type": "stream",
       "stream": "stdout",
       "text": [
        " [  7.65910346e-09]\n",
        "x in"
       ]
      },
      {
       "output_type": "stream",
       "stream": "stdout",
       "text": [
        " (0.0, 2.5) dx 2.5 d\u03b1 [  5.27944743e-09]\n",
        "\u03b1\u207a"
       ]
      },
      {
       "output_type": "stream",
       "stream": "stdout",
       "text": [
        " [  7.30598027e-10]\n",
        "x in"
       ]
      },
      {
       "output_type": "stream",
       "stream": "stdout",
       "text": [
        " (0.0, 1.25) dx 1.25 d\u03b1 [  6.04155614e-10]\n",
        "\u03b1\u207a"
       ]
      },
      {
       "output_type": "stream",
       "stream": "stdout",
       "text": [
        " [  1.48481227e-12]\n",
        "x in"
       ]
      },
      {
       "output_type": "stream",
       "stream": "stdout",
       "text": [
        " (0.625, 1.25) dx 0.625 d\u03b1 [  5.89843887e-13]\n",
        "\n"
       ]
      },
      {
       "output_type": "stream",
       "stream": "stdout",
       "text": [
        "locating x\u207a within (0.625, 1.25)\n",
        "\u03b1\u207a"
       ]
      },
      {
       "output_type": "stream",
       "stream": "stdout",
       "text": [
        " [  8.03524873e-11]\n",
        "x in"
       ]
      },
      {
       "output_type": "stream",
       "stream": "stdout",
       "text": [
        " (0.9375, 1.25) dx 0.3125 d\u03b1 [  1.09174675e-10]\n",
        "\u03b1\u207a"
       ]
      },
      {
       "output_type": "stream",
       "stream": "stdout",
       "text": [
        " [  1.93760454e-11]\n",
        "x in"
       ]
      },
      {
       "output_type": "stream",
       "stream": "stdout",
       "text": [
        " (0.9375, 1.09375) dx 0.15625 d\u03b1 [  7.03716319e-12]\n",
        "\u03b1\u207a"
       ]
      },
      {
       "output_type": "stream",
       "stream": "stdout",
       "text": [
        " [  1.09692356e-11]\n",
        "x in"
       ]
      },
      {
       "output_type": "stream",
       "stream": "stdout",
       "text": [
        " (0.9375, 1.015625) dx 0.078125 d\u03b1 [  1.62964435e-11]\n",
        "\u03b1\u207a"
       ]
      },
      {
       "output_type": "stream",
       "stream": "stdout",
       "text": [
        " [  1.56476416e-12]\n",
        "x in"
       ]
      },
      {
       "output_type": "stream",
       "stream": "stdout",
       "text": [
        " (0.9765625, 1.015625) dx 0.0390625 d\u03b1 [  5.62090997e-12]\n",
        "\u03b1\u207a"
       ]
      },
      {
       "output_type": "stream",
       "stream": "stdout",
       "text": [
        " [ -2.31269775e-11]\n",
        "x in"
       ]
      },
      {
       "output_type": "stream",
       "stream": "stdout",
       "text": [
        " (0.99609375, 1.015625) dx 0.01953125 d\u03b1 [  3.71459242e-11]\n",
        "\n"
       ]
      },
      {
       "output_type": "stream",
       "stream": "stdout",
       "text": [
        "locating x\u207a within (0.99609375, 1.015625)\n",
        "\u03b1\u207a"
       ]
      },
      {
       "output_type": "stream",
       "stream": "stdout",
       "text": [
        " [ -2.14083950e-11]\n",
        "x in"
       ]
      },
      {
       "output_type": "stream",
       "stream": "stdout",
       "text": [
        " (0.99609375, 1.005859375) dx 0.009765625 d\u03b1 [  2.81536471e-11]\n",
        "\n"
       ]
      },
      {
       "output_type": "stream",
       "stream": "stdout",
       "text": [
        "locating x\u207a within (0.99609375, 1.005859375)\n",
        "\u03b1\u207a"
       ]
      },
      {
       "output_type": "stream",
       "stream": "stdout",
       "text": [
        " [ -3.63462701e-12]\n",
        "x in"
       ]
      },
      {
       "output_type": "stream",
       "stream": "stdout",
       "text": [
        " (0.99609375, 1.0009765625) dx 0.0048828125 d\u03b1 [  2.21890556e-11]\n",
        "\u03b1\u207a"
       ]
      },
      {
       "output_type": "stream",
       "stream": "stdout",
       "text": [
        " [ -2.45421000e-11]\n",
        "x in"
       ]
      },
      {
       "output_type": "stream",
       "stream": "stdout",
       "text": [
        " (0.99853515625, 1.0009765625) dx 0.00244140625 d\u03b1 [  1.33279718e-11]\n",
        "\n"
       ]
      },
      {
       "output_type": "stream",
       "stream": "stdout",
       "text": [
        "locating x\u207a within (0.99853515625, 1.0009765625)\n",
        "\u03b1\u207a"
       ]
      },
      {
       "output_type": "stream",
       "stream": "stdout",
       "text": [
        " [ -7.00946397e-12]\n",
        "x in"
       ]
      },
      {
       "output_type": "stream",
       "stream": "stdout",
       "text": [
        " (0.999755859375, 1.0009765625) dx 0.001220703125 d\u03b1 [  2.60975404e-11]\n",
        "\u03b1\u207a"
       ]
      },
      {
       "output_type": "stream",
       "stream": "stdout",
       "text": [
        " [ -1.43394591e-11]\n",
        "x in"
       ]
      },
      {
       "output_type": "stream",
       "stream": "stdout",
       "text": [
        " (0.999755859375, 1.0003662109375) dx 0.0006103515625 d\u03b1 [  1.16742751e-11]\n",
        "\n"
       ]
      },
      {
       "output_type": "stream",
       "stream": "stdout",
       "text": [
        "locating x\u207a within (0.999755859375, 1.0003662109375)\n",
        "\u03b1\u207a"
       ]
      },
      {
       "output_type": "stream",
       "stream": "stdout",
       "text": [
        " [ -1.92723529e-11]\n",
        "x in"
       ]
      },
      {
       "output_type": "stream",
       "stream": "stdout",
       "text": [
        " (0.999755859375, 1.00006103515625) dx 0.00030517578125 d\u03b1 [  2.04252720e-11]\n",
        "\n"
       ]
      },
      {
       "output_type": "stream",
       "stream": "stdout",
       "text": [
        "locating x\u207a within (0.999755859375, 1.00006103515625)\n",
        "\u03b1\u207a"
       ]
      },
      {
       "output_type": "stream",
       "stream": "stdout",
       "text": [
        " [  1.96300193e-11]\n",
        "x in"
       ]
      },
      {
       "output_type": "stream",
       "stream": "stdout",
       "text": [
        " (0.999908447265625, 1.00006103515625) dx 0.000152587890625 d\u03b1 [  4.41077515e-11]\n",
        "\u03b1\u207a"
       ]
      },
      {
       "output_type": "stream",
       "stream": "stdout",
       "text": [
        " [  1.54279362e-11]\n",
        "x in"
       ]
      },
      {
       "output_type": "stream",
       "stream": "stdout",
       "text": [
        " (0.9999847412109375, 1.00006103515625) dx 7.62939453125e-05 d\u03b1 [  3.47302649e-11]\n",
        "\u03b1\u207a"
       ]
      },
      {
       "output_type": "stream",
       "stream": "stdout",
       "text": [
        " [ -2.59309027e-12]\n",
        "x in"
       ]
      },
      {
       "output_type": "stream",
       "stream": "stdout",
       "text": [
        " (0.9999847412109375, 1.0000228881835938) dx 3.81469726562e-05 d\u03b1 [  8.42100661e-12]\n",
        "\u03b1\u207a"
       ]
      },
      {
       "output_type": "stream",
       "stream": "stdout",
       "text": [
        " [ -1.68478643e-11]\n",
        "x in"
       ]
      },
      {
       "output_type": "stream",
       "stream": "stdout",
       "text": [
        " (1.0000038146972656, 1.0000228881835938) dx 1.90734863281e-05 d\u03b1 [  1.73965410e-11]\n",
        "\n"
       ]
      },
      {
       "output_type": "stream",
       "stream": "stdout",
       "text": [
        "locating x\u207a within (1.0000038146972656, 1.0000228881835938)\n",
        "\u03b1\u207a"
       ]
      },
      {
       "output_type": "stream",
       "stream": "stdout",
       "text": [
        " [  2.58591185e-11]\n",
        "x in"
       ]
      },
      {
       "output_type": "stream",
       "stream": "stdout",
       "text": [
        " (1.0000038146972656, 1.0000133514404297) dx 9.53674316406e-06 d\u03b1 [  1.97909475e-11]\n",
        "\u03b1\u207a"
       ]
      },
      {
       "output_type": "stream",
       "stream": "stdout",
       "text": [
        " [ -3.33723688e-13]\n",
        "x in"
       ]
      },
      {
       "output_type": "stream",
       "stream": "stdout",
       "text": [
        " (1.0000038146972656, 1.0000085830688477) dx 4.76837158203e-06 d\u03b1 [  6.90010834e-12]\n",
        "\n"
       ]
      },
      {
       "output_type": "stream",
       "stream": "stdout",
       "text": [
        "locating x\u207a within (1.0000038146972656, 1.0000085830688477)\n",
        "\u03b1\u207a"
       ]
      },
      {
       "output_type": "stream",
       "stream": "stdout",
       "text": [
        " [  1.66692972e-11]\n",
        "x in"
       ]
      },
      {
       "output_type": "stream",
       "stream": "stdout",
       "text": [
        " (1.0000038146972656, 1.0000061988830566) dx 2.38418579102e-06 d\u03b1 [  1.49414198e-11]\n",
        "\n"
       ]
      },
      {
       "output_type": "stream",
       "stream": "stdout",
       "text": [
        "locating x\u207a within (1.0000038146972656, 1.0000061988830566)\n",
        "\u03b1\u207a"
       ]
      },
      {
       "output_type": "stream",
       "stream": "stdout",
       "text": [
        " [ -7.60502809e-12]\n",
        "x in"
       ]
      },
      {
       "output_type": "stream",
       "stream": "stdout",
       "text": [
        " (1.0000038146972656, 1.0000050067901611) dx 1.19209289551e-06 d\u03b1 [  1.30929138e-11]\n",
        "\n"
       ]
      },
      {
       "output_type": "stream",
       "stream": "stdout",
       "text": [
        "locating x\u207a within (1.0000038146972656, 1.0000050067901611)\n",
        "\u03b1\u207a"
       ]
      },
      {
       "output_type": "stream",
       "stream": "stdout",
       "text": [
        " [  1.15979765e-12]\n",
        "x in"
       ]
      },
      {
       "output_type": "stream",
       "stream": "stdout",
       "text": [
        " (1.0000044107437134, 1.0000050067901611) dx 5.96046447754e-07 d\u03b1 [  1.46223948e-12]\n",
        "\n"
       ]
      },
      {
       "output_type": "stream",
       "stream": "stdout",
       "text": [
        "locating x\u207a within (1.0000044107437134, 1.0000050067901611)\n",
        "\u03b1\u207a"
       ]
      },
      {
       "output_type": "stream",
       "stream": "stdout",
       "text": [
        " [  4.81229011e-12]\n",
        "x in"
       ]
      },
      {
       "output_type": "stream",
       "stream": "stdout",
       "text": [
        " (1.0000047087669373, 1.0000050067901611) dx 2.98023223877e-07 d\u03b1 [  1.00024339e-12]\n",
        "\n"
       ]
      },
      {
       "output_type": "stream",
       "stream": "stdout",
       "text": [
        "locating x\u207a within (1.0000047087669373, 1.0000050067901611)\n",
        "\u03b1\u207a"
       ]
      },
      {
       "output_type": "stream",
       "stream": "stdout",
       "text": [
        " [  3.47818703e-12]\n",
        "x in"
       ]
      },
      {
       "output_type": "stream",
       "stream": "stdout",
       "text": [
        " (1.0000047087669373, 1.0000048577785492) dx 1.49011611938e-07 d\u03b1 [  1.55688109e-12]\n",
        "\n"
       ]
      },
      {
       "output_type": "stream",
       "stream": "stdout",
       "text": [
        "locating x\u207a within (1.0000047087669373, 1.0000048577785492)\n",
        "\u03b1\u207a"
       ]
      },
      {
       "output_type": "stream",
       "stream": "stdout",
       "text": [
        " [  4.90438757e-12]\n",
        "x in"
       ]
      },
      {
       "output_type": "stream",
       "stream": "stdout",
       "text": [
        " (1.0000047832727432, 1.0000048577785492) dx 7.45058059692e-08 d\u03b1 [  3.91904363e-13]\n",
        "\u03b1\u207a"
       ]
      },
      {
       "output_type": "stream",
       "stream": "stdout",
       "text": [
        " [  4.86512357e-12]\n",
        "x in"
       ]
      },
      {
       "output_type": "stream",
       "stream": "stdout",
       "text": [
        " (1.0000047832727432, 1.0000048205256462) dx 3.72529029846e-08 d\u03b1 [  3.91873314e-13]\n",
        "\u03b1\u207a"
       ]
      },
      {
       "output_type": "stream",
       "stream": "stdout",
       "text": [
        " [  4.73319543e-12]\n",
        "x in"
       ]
      },
      {
       "output_type": "stream",
       "stream": "stdout",
       "text": [
        " (1.0000048018991947, 1.0000048205256462) dx 1.86264514923e-08 d\u03b1 [  1.74852972e-14]\n",
        "\n"
       ]
      },
      {
       "output_type": "stream",
       "stream": "stdout",
       "text": [
        "locating x\u207a within (1.0000048018991947, 1.0000048205256462)\n",
        "\u03b1\u207a"
       ]
      },
      {
       "output_type": "stream",
       "stream": "stdout",
       "text": [
        " [  4.76073146e-12]\n",
        "x in"
       ]
      },
      {
       "output_type": "stream",
       "stream": "stdout",
       "text": [
        " (1.0000048018991947, 1.0000048112124205) dx 9.31322574615e-09 d\u03b1 [  3.70697880e-14]\n",
        "\n"
       ]
      },
      {
       "output_type": "stream",
       "stream": "stdout",
       "text": [
        "locating x\u207a within (1.0000048018991947, 1.0000048112124205)\n",
        "\u03b1\u207a"
       ]
      },
      {
       "output_type": "stream",
       "stream": "stdout",
       "text": [
        " [  4.75714566e-12]\n",
        "x in"
       ]
      },
      {
       "output_type": "stream",
       "stream": "stdout",
       "text": [
        " (1.0000048018991947, 1.0000048065558076) dx 4.65661287308e-09 d\u03b1 [  1.48479738e-14]\n",
        "\u03b1\u207a"
       ]
      },
      {
       "output_type": "stream",
       "stream": "stdout",
       "text": [
        " [  4.74972723e-12]\n",
        "x in"
       ]
      },
      {
       "output_type": "stream",
       "stream": "stdout",
       "text": [
        " (1.0000048042275012, 1.0000048065558076) dx 2.32830643654e-09 d\u03b1 [  9.66984118e-15]\n",
        "\n"
       ]
      },
      {
       "output_type": "stream",
       "stream": "stdout",
       "text": [
        "locating x\u207a within (1.0000048042275012, 1.0000048065558076)\n",
        "\u03b1\u207a"
       ]
      },
      {
       "output_type": "stream",
       "stream": "stdout",
       "text": [
        " [  4.77558980e-12]\n",
        "x in"
       ]
      },
      {
       "output_type": "stream",
       "stream": "stdout",
       "text": [
        " (1.0000048053916544, 1.0000048065558076) dx 1.16415321827e-09 d\u03b1 [  1.47699940e-14]\n",
        "\u03b1\u207a"
       ]
      },
      {
       "output_type": "stream",
       "stream": "stdout",
       "text": [
        " [  4.76768213e-12]\n",
        "x in"
       ]
      },
      {
       "output_type": "stream",
       "stream": "stdout",
       "text": [
        " (1.0000048053916544, 1.000004805973731) dx 5.82076609135e-10 d\u03b1 [  3.57968817e-15]\n",
        "\n"
       ]
      },
      {
       "output_type": "stream",
       "stream": "stdout",
       "text": [
        "locating x\u207a within (1.0000048053916544, 1.000004805973731)\n",
        "\u03b1\u207a"
       ]
      },
      {
       "output_type": "stream",
       "stream": "stdout",
       "text": [
        " [  4.76825086e-12]\n",
        "x in"
       ]
      },
      {
       "output_type": "stream",
       "stream": "stdout",
       "text": [
        " (1.0000048056826927, 1.000004805973731) dx 2.91038304567e-10 d\u03b1 [  1.40251403e-15]\n",
        "\u03b1\u207a"
       ]
      },
      {
       "output_type": "stream",
       "stream": "stdout",
       "text": [
        " [  4.76612313e-12]\n",
        "x in"
       ]
      },
      {
       "output_type": "stream",
       "stream": "stdout",
       "text": [
        " (1.0000048056826927, 1.0000048058282118) dx 1.45519152284e-10 d\u03b1 [  3.97415132e-16]\n",
        "\u03b1\u207a"
       ]
      },
      {
       "output_type": "stream",
       "stream": "stdout",
       "text": [
        " [  4.76607083e-12]\n",
        "x in"
       ]
      },
      {
       "output_type": "stream",
       "stream": "stdout",
       "text": [
        " (1.0000048056826927, 1.0000048057554523) dx 7.27595761418e-11 d\u03b1 [  5.12420522e-16]\n",
        "\u03b1\u207a"
       ]
      },
      {
       "output_type": "stream",
       "stream": "stdout",
       "text": [
        " [  4.76520730e-12]\n",
        "x in"
       ]
      },
      {
       "output_type": "stream",
       "stream": "stdout",
       "text": [
        " (1.0000048056826927, 1.0000048057190725) dx 3.63797880709e-11 d\u03b1 [  2.50614107e-16]\n",
        "\u03b1\u207a"
       ]
      },
      {
       "output_type": "stream",
       "stream": "stdout",
       "text": [
        " [  4.76514819e-12]\n",
        "x in"
       ]
      },
      {
       "output_type": "stream",
       "stream": "stdout",
       "text": [
        " (1.0000048057008826, 1.0000048057190725) dx 1.81898940355e-11 d\u03b1 [  1.11320420e-16]\n"
       ]
      },
      {
       "metadata": {},
       "output_type": "pyout",
       "prompt_number": 101,
       "text": [
        "(1.0000048057008826, 1.0000048057190725)"
       ]
      }
     ],
     "prompt_number": 101
    },
    {
     "cell_type": "heading",
     "level": 2,
     "metadata": {},
     "source": [
      "Globally Optimize a Stack of Two Neurons with Rectified Linear Activation (Incomplete)"
     ]
    },
    {
     "cell_type": "code",
     "collapsed": false,
     "input": [
      "Neuron(1.0000048057008826)"
     ],
     "language": "python",
     "metadata": {},
     "outputs": [
      {
       "metadata": {},
       "output_type": "pyout",
       "prompt_number": 105,
       "text": [
        "array([  3.38688851e-11])"
       ]
      }
     ],
     "prompt_number": 105
    },
    {
     "cell_type": "code",
     "collapsed": false,
     "input": [
      "def Neuron2(theta):\n",
      "    numpy.maximum(0, numpy.outer(theta[0], data))\n",
      "    return 1.0 / 2.0 * ((data - numpy.maximum(0, numpy.outer(theta[1], numpy.maximum(0, numpy.outer(theta[0], data)))))**2).sum(axis=0)"
     ],
     "language": "python",
     "metadata": {},
     "outputs": [],
     "prompt_number": 29
    },
    {
     "cell_type": "code",
     "collapsed": false,
     "input": [
      "theta = numpy.arange(-10, 10, 1)\n",
      "x, y = numpy.meshgrid(theta, theta)\n",
      "grid = numpy.array([x, y])\n",
      "grid"
     ],
     "language": "python",
     "metadata": {},
     "outputs": [
      {
       "metadata": {},
       "output_type": "pyout",
       "prompt_number": 43,
       "text": [
        "array([[[-10,  -9,  -8,  -7,  -6,  -5,  -4,  -3,  -2,  -1,   0,   1,   2,\n",
        "           3,   4,   5,   6,   7,   8,   9],\n",
        "        [-10,  -9,  -8,  -7,  -6,  -5,  -4,  -3,  -2,  -1,   0,   1,   2,\n",
        "           3,   4,   5,   6,   7,   8,   9],\n",
        "        [-10,  -9,  -8,  -7,  -6,  -5,  -4,  -3,  -2,  -1,   0,   1,   2,\n",
        "           3,   4,   5,   6,   7,   8,   9],\n",
        "        [-10,  -9,  -8,  -7,  -6,  -5,  -4,  -3,  -2,  -1,   0,   1,   2,\n",
        "           3,   4,   5,   6,   7,   8,   9],\n",
        "        [-10,  -9,  -8,  -7,  -6,  -5,  -4,  -3,  -2,  -1,   0,   1,   2,\n",
        "           3,   4,   5,   6,   7,   8,   9],\n",
        "        [-10,  -9,  -8,  -7,  -6,  -5,  -4,  -3,  -2,  -1,   0,   1,   2,\n",
        "           3,   4,   5,   6,   7,   8,   9],\n",
        "        [-10,  -9,  -8,  -7,  -6,  -5,  -4,  -3,  -2,  -1,   0,   1,   2,\n",
        "           3,   4,   5,   6,   7,   8,   9],\n",
        "        [-10,  -9,  -8,  -7,  -6,  -5,  -4,  -3,  -2,  -1,   0,   1,   2,\n",
        "           3,   4,   5,   6,   7,   8,   9],\n",
        "        [-10,  -9,  -8,  -7,  -6,  -5,  -4,  -3,  -2,  -1,   0,   1,   2,\n",
        "           3,   4,   5,   6,   7,   8,   9],\n",
        "        [-10,  -9,  -8,  -7,  -6,  -5,  -4,  -3,  -2,  -1,   0,   1,   2,\n",
        "           3,   4,   5,   6,   7,   8,   9],\n",
        "        [-10,  -9,  -8,  -7,  -6,  -5,  -4,  -3,  -2,  -1,   0,   1,   2,\n",
        "           3,   4,   5,   6,   7,   8,   9],\n",
        "        [-10,  -9,  -8,  -7,  -6,  -5,  -4,  -3,  -2,  -1,   0,   1,   2,\n",
        "           3,   4,   5,   6,   7,   8,   9],\n",
        "        [-10,  -9,  -8,  -7,  -6,  -5,  -4,  -3,  -2,  -1,   0,   1,   2,\n",
        "           3,   4,   5,   6,   7,   8,   9],\n",
        "        [-10,  -9,  -8,  -7,  -6,  -5,  -4,  -3,  -2,  -1,   0,   1,   2,\n",
        "           3,   4,   5,   6,   7,   8,   9],\n",
        "        [-10,  -9,  -8,  -7,  -6,  -5,  -4,  -3,  -2,  -1,   0,   1,   2,\n",
        "           3,   4,   5,   6,   7,   8,   9],\n",
        "        [-10,  -9,  -8,  -7,  -6,  -5,  -4,  -3,  -2,  -1,   0,   1,   2,\n",
        "           3,   4,   5,   6,   7,   8,   9],\n",
        "        [-10,  -9,  -8,  -7,  -6,  -5,  -4,  -3,  -2,  -1,   0,   1,   2,\n",
        "           3,   4,   5,   6,   7,   8,   9],\n",
        "        [-10,  -9,  -8,  -7,  -6,  -5,  -4,  -3,  -2,  -1,   0,   1,   2,\n",
        "           3,   4,   5,   6,   7,   8,   9],\n",
        "        [-10,  -9,  -8,  -7,  -6,  -5,  -4,  -3,  -2,  -1,   0,   1,   2,\n",
        "           3,   4,   5,   6,   7,   8,   9],\n",
        "        [-10,  -9,  -8,  -7,  -6,  -5,  -4,  -3,  -2,  -1,   0,   1,   2,\n",
        "           3,   4,   5,   6,   7,   8,   9]],\n",
        "\n",
        "       [[-10, -10, -10, -10, -10, -10, -10, -10, -10, -10, -10, -10, -10,\n",
        "         -10, -10, -10, -10, -10, -10, -10],\n",
        "        [ -9,  -9,  -9,  -9,  -9,  -9,  -9,  -9,  -9,  -9,  -9,  -9,  -9,\n",
        "          -9,  -9,  -9,  -9,  -9,  -9,  -9],\n",
        "        [ -8,  -8,  -8,  -8,  -8,  -8,  -8,  -8,  -8,  -8,  -8,  -8,  -8,\n",
        "          -8,  -8,  -8,  -8,  -8,  -8,  -8],\n",
        "        [ -7,  -7,  -7,  -7,  -7,  -7,  -7,  -7,  -7,  -7,  -7,  -7,  -7,\n",
        "          -7,  -7,  -7,  -7,  -7,  -7,  -7],\n",
        "        [ -6,  -6,  -6,  -6,  -6,  -6,  -6,  -6,  -6,  -6,  -6,  -6,  -6,\n",
        "          -6,  -6,  -6,  -6,  -6,  -6,  -6],\n",
        "        [ -5,  -5,  -5,  -5,  -5,  -5,  -5,  -5,  -5,  -5,  -5,  -5,  -5,\n",
        "          -5,  -5,  -5,  -5,  -5,  -5,  -5],\n",
        "        [ -4,  -4,  -4,  -4,  -4,  -4,  -4,  -4,  -4,  -4,  -4,  -4,  -4,\n",
        "          -4,  -4,  -4,  -4,  -4,  -4,  -4],\n",
        "        [ -3,  -3,  -3,  -3,  -3,  -3,  -3,  -3,  -3,  -3,  -3,  -3,  -3,\n",
        "          -3,  -3,  -3,  -3,  -3,  -3,  -3],\n",
        "        [ -2,  -2,  -2,  -2,  -2,  -2,  -2,  -2,  -2,  -2,  -2,  -2,  -2,\n",
        "          -2,  -2,  -2,  -2,  -2,  -2,  -2],\n",
        "        [ -1,  -1,  -1,  -1,  -1,  -1,  -1,  -1,  -1,  -1,  -1,  -1,  -1,\n",
        "          -1,  -1,  -1,  -1,  -1,  -1,  -1],\n",
        "        [  0,   0,   0,   0,   0,   0,   0,   0,   0,   0,   0,   0,   0,\n",
        "           0,   0,   0,   0,   0,   0,   0],\n",
        "        [  1,   1,   1,   1,   1,   1,   1,   1,   1,   1,   1,   1,   1,\n",
        "           1,   1,   1,   1,   1,   1,   1],\n",
        "        [  2,   2,   2,   2,   2,   2,   2,   2,   2,   2,   2,   2,   2,\n",
        "           2,   2,   2,   2,   2,   2,   2],\n",
        "        [  3,   3,   3,   3,   3,   3,   3,   3,   3,   3,   3,   3,   3,\n",
        "           3,   3,   3,   3,   3,   3,   3],\n",
        "        [  4,   4,   4,   4,   4,   4,   4,   4,   4,   4,   4,   4,   4,\n",
        "           4,   4,   4,   4,   4,   4,   4],\n",
        "        [  5,   5,   5,   5,   5,   5,   5,   5,   5,   5,   5,   5,   5,\n",
        "           5,   5,   5,   5,   5,   5,   5],\n",
        "        [  6,   6,   6,   6,   6,   6,   6,   6,   6,   6,   6,   6,   6,\n",
        "           6,   6,   6,   6,   6,   6,   6],\n",
        "        [  7,   7,   7,   7,   7,   7,   7,   7,   7,   7,   7,   7,   7,\n",
        "           7,   7,   7,   7,   7,   7,   7],\n",
        "        [  8,   8,   8,   8,   8,   8,   8,   8,   8,   8,   8,   8,   8,\n",
        "           8,   8,   8,   8,   8,   8,   8],\n",
        "        [  9,   9,   9,   9,   9,   9,   9,   9,   9,   9,   9,   9,   9,\n",
        "           9,   9,   9,   9,   9,   9,   9]]])"
       ]
      }
     ],
     "prompt_number": 43
    },
    {
     "cell_type": "code",
     "collapsed": false,
     "input": [
      "gr = numpy.array([[2], [-1]])\n",
      "intermediate = numpy.maximum(0, numpy.outer(theta[0], data))\n",
      "print intermediate\n",
      "print numpy.maximum(0, numpy.outer(theta[1], intermediate))"
     ],
     "language": "python",
     "metadata": {},
     "outputs": [
      {
       "output_type": "stream",
       "stream": "stdout",
       "text": [
        "[[ 0.5801773   1.15345547  0.56762483  0.04085465  0.00538174  1.87471406\n",
        "   1.95737547  0.25832243  0.07096325  0.43022457]]\n",
        "[[ 0.  0.  0.  0.  0.  0.  0.  0.  0.  0.]]\n"
       ]
      }
     ],
     "prompt_number": 41
    }
   ],
   "metadata": {}
  }
 ]
}