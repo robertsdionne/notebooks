{
 "metadata": {
  "name": "",
  "signature": "sha256:2412821df5583752af7f5bc212550ca65fdfdc40a4aba673a224ce0b2792e447"
 },
 "nbformat": 3,
 "nbformat_minor": 0,
 "worksheets": [
  {
   "cells": [
    {
     "cell_type": "code",
     "collapsed": false,
     "input": [
      "%matplotlib inline\n",
      "from matplotlib import pyplot as plt\n",
      "import numpy"
     ],
     "language": "python",
     "metadata": {},
     "outputs": [],
     "prompt_number": 4
    },
    {
     "cell_type": "code",
     "collapsed": false,
     "input": [
      "def f(x):\n",
      "    return -numpy.sin(x - 25)/(x - 25) + 2"
     ],
     "language": "python",
     "metadata": {},
     "outputs": [],
     "prompt_number": 5
    },
    {
     "cell_type": "code",
     "collapsed": false,
     "input": [
      "x = numpy.arange(-100, 100, 0.1)\n",
      "plt.plot(x, f(x))"
     ],
     "language": "python",
     "metadata": {},
     "outputs": [
      {
       "metadata": {},
       "output_type": "pyout",
       "prompt_number": 6,
       "text": [
        "[<matplotlib.lines.Line2D at 0x105e05090>]"
       ]
      },
      {
       "metadata": {},
       "output_type": "display_data",
       "png": "[encoded data removed]",
       "text": [
        "<matplotlib.figure.Figure at 0x105ddb7d0>"
       ]
      }
     ],
     "prompt_number": 6
    },
    {
     "cell_type": "code",
     "collapsed": false,
     "input": [
      "def Deviation(m, f):\n",
      "    return lambda alpha, x: (alpha - numpy.minimum(f(x), alpha))**m"
     ],
     "language": "python",
     "metadata": {},
     "outputs": [],
     "prompt_number": 7
    },
    {
     "cell_type": "code",
     "collapsed": false,
     "input": [
      "V = Deviation(1, f)"
     ],
     "language": "python",
     "metadata": {},
     "outputs": [],
     "prompt_number": 8
    },
    {
     "cell_type": "code",
     "collapsed": false,
     "input": [
      "plt.plot(x, V(2, x))"
     ],
     "language": "python",
     "metadata": {},
     "outputs": [
      {
       "metadata": {},
       "output_type": "pyout",
       "prompt_number": 9,
       "text": [
        "[<matplotlib.lines.Line2D at 0x105e37310>]"
       ]
      },
      {
       "metadata": {},
       "output_type": "display_data",
       "png": "[encoded data removed]",
       "text": [
        "<matplotlib.figure.Figure at 0x105e12ed0>"
       ]
      }
     ],
     "prompt_number": 9
    },
    {
     "cell_type": "code",
     "collapsed": false,
     "input": [
      "def Estimator(V, alpha, N, a, b):\n",
      "    samples = (b - a) * numpy.random.random_sample(N) + a\n",
      "    return (b - a) / float(N) * V(alpha, samples).sum()"
     ],
     "language": "python",
     "metadata": {},
     "outputs": [],
     "prompt_number": 10
    },
    {
     "cell_type": "code",
     "collapsed": false,
     "input": [
      "Estimator(V, 1.001, 100000, -100, 100)"
     ],
     "language": "python",
     "metadata": {},
     "outputs": [
      {
       "metadata": {},
       "output_type": "pyout",
       "prompt_number": 11,
       "text": [
        "0.00010369099434992135"
       ]
      }
     ],
     "prompt_number": 11
    },
    {
     "cell_type": "code",
     "collapsed": false,
     "input": [
      "y = numpy.arange(-2, 2, 0.001)\n",
      "alpha = numpy.arange(-2, 2, 0.001)\n",
      "for i in xrange(0, y.size):\n",
      "    alpha[i] = Estimator(V, y[i], 10000, -100, 100)\n",
      "plt.plot(y, alpha)"
     ],
     "language": "python",
     "metadata": {},
     "outputs": [
      {
       "metadata": {},
       "output_type": "pyout",
       "prompt_number": 12,
       "text": [
        "[<matplotlib.lines.Line2D at 0x105edaad0>]"
       ]
      },
      {
       "metadata": {},
       "output_type": "display_data",
       "png": "[encoded data removed]",
       "text": [
        "<matplotlib.figure.Figure at 0x102502490>"
       ]
      }
     ],
     "prompt_number": 12
    },
    {
     "cell_type": "code",
     "collapsed": false,
     "input": [
      "def FindEssentialInfimum(f, N, a, b, epsilon):\n",
      "    V = Deviation(1, f)\n",
      "    delta = 1.0\n",
      "    alpha_max = f(numpy.random.random_sample())\n",
      "    alpha = alpha_max - delta\n",
      "    alpha_min = -float('inf')\n",
      "    expand = True\n",
      "    while expand:\n",
      "        integral = Estimator(V, alpha, N, a, b)\n",
      "        if integral > 0:\n",
      "            delta *= 2.0\n",
      "            alpha_max = alpha\n",
      "            alpha = alpha - delta\n",
      "        else:\n",
      "            delta /= 2.0\n",
      "            alpha_min = alpha\n",
      "            alpha = alpha + delta\n",
      "            expand = False\n",
      "    while alpha_max - alpha_min > epsilon:\n",
      "        integral = Estimator(V, alpha, N, a, b)\n",
      "        if integral > 0:\n",
      "            alpha_max = alpha\n",
      "        else:\n",
      "            alpha_min = alpha\n",
      "        alpha = (alpha_min + alpha_max) / 2.0\n",
      "    return alpha"
     ],
     "language": "python",
     "metadata": {},
     "outputs": [],
     "prompt_number": 13
    },
    {
     "cell_type": "code",
     "collapsed": false,
     "input": [
      "FindEssentialInfimum(f, 1000000, -100, 100, 1e-10)"
     ],
     "language": "python",
     "metadata": {},
     "outputs": [
      {
       "metadata": {},
       "output_type": "pyout",
       "prompt_number": 14,
       "text": [
        "1.0000000008367005"
       ]
      }
     ],
     "prompt_number": 14
    },
    {
     "cell_type": "code",
     "collapsed": false,
     "input": [
      "def FindMinimizingParameter(f, N, a, b, epsilon, delta):\n",
      "    alpha_star = FindEssentialInfimum(f, N, a, b, epsilon)\n",
      "    x_max = b\n",
      "    x_min = a\n",
      "    print 'locating x* within', (x_min, x_max)\n",
      "    while x_max - x_min > epsilon:\n",
      "        x = (x_min + x_max) / 2.0\n",
      "        alpha_left = FindEssentialInfimum(f, N, x_min, x, epsilon)\n",
      "        alpha_right = FindEssentialInfimum(f, N, x, x_max, epsilon)\n",
      "        if abs(alpha_star - alpha_left) < delta:\n",
      "            x_max = x\n",
      "            print 'going left', (x_min, x_max), x_max - x_min\n",
      "        elif abs(alpha_star - alpha_right) < delta:\n",
      "            x_min = x\n",
      "            print 'going right', (x_min, x_max), x_max - x_min\n",
      "        else:\n",
      "            break\n",
      "    return (x_min, x_max)"
     ],
     "language": "python",
     "metadata": {},
     "outputs": [],
     "prompt_number": 25
    },
    {
     "cell_type": "code",
     "collapsed": false,
     "input": [
      "FindMinimizingParameter(f, 1000000, -100, 100, 1e-10, 1e-7)"
     ],
     "language": "python",
     "metadata": {},
     "outputs": [
      {
       "output_type": "stream",
       "stream": "stdout",
       "text": [
        "locating x* within (-100, 100)\n",
        "going right"
       ]
      },
      {
       "output_type": "stream",
       "stream": "stdout",
       "text": [
        " (0.0, 100) 100.0\n",
        "going left"
       ]
      },
      {
       "output_type": "stream",
       "stream": "stdout",
       "text": [
        " (0.0, 50.0) 50.0\n",
        "going left"
       ]
      },
      {
       "output_type": "stream",
       "stream": "stdout",
       "text": [
        " (0.0, 25.0) 25.0\n",
        "going right"
       ]
      },
      {
       "output_type": "stream",
       "stream": "stdout",
       "text": [
        " (12.5, 25.0) 12.5\n",
        "going right"
       ]
      },
      {
       "output_type": "stream",
       "stream": "stdout",
       "text": [
        " (18.75, 25.0) 6.25\n",
        "going right"
       ]
      },
      {
       "output_type": "stream",
       "stream": "stdout",
       "text": [
        " (21.875, 25.0) 3.125\n",
        "going right"
       ]
      },
      {
       "output_type": "stream",
       "stream": "stdout",
       "text": [
        " (23.4375, 25.0) 1.5625\n",
        "going right"
       ]
      },
      {
       "output_type": "stream",
       "stream": "stdout",
       "text": [
        " (24.21875, 25.0) 0.78125\n",
        "going right"
       ]
      },
      {
       "output_type": "stream",
       "stream": "stdout",
       "text": [
        " (24.609375, 25.0) 0.390625\n",
        "going right"
       ]
      },
      {
       "output_type": "stream",
       "stream": "stdout",
       "text": [
        " (24.8046875, 25.0) 0.1953125\n",
        "going right"
       ]
      },
      {
       "output_type": "stream",
       "stream": "stdout",
       "text": [
        " (24.90234375, 25.0) 0.09765625\n",
        "going right"
       ]
      },
      {
       "output_type": "stream",
       "stream": "stdout",
       "text": [
        " (24.951171875, 25.0) 0.048828125\n",
        "going right"
       ]
      },
      {
       "output_type": "stream",
       "stream": "stdout",
       "text": [
        " (24.9755859375, 25.0) 0.0244140625\n",
        "going right"
       ]
      },
      {
       "output_type": "stream",
       "stream": "stdout",
       "text": [
        " (24.98779296875, 25.0) 0.01220703125\n",
        "going right"
       ]
      },
      {
       "output_type": "stream",
       "stream": "stdout",
       "text": [
        " (24.993896484375, 25.0) 0.006103515625\n",
        "going right"
       ]
      },
      {
       "output_type": "stream",
       "stream": "stdout",
       "text": [
        " (24.9969482421875, 25.0) 0.0030517578125\n",
        "going right"
       ]
      },
      {
       "output_type": "stream",
       "stream": "stdout",
       "text": [
        " (24.99847412109375, 25.0) 0.00152587890625\n",
        "going left"
       ]
      },
      {
       "output_type": "stream",
       "stream": "stdout",
       "text": [
        " (24.99847412109375, 24.999237060546875) 0.000762939453125\n",
        "going right"
       ]
      },
      {
       "output_type": "stream",
       "stream": "stdout",
       "text": [
        " (24.998855590820312, 24.999237060546875) 0.000381469726562\n",
        "going right"
       ]
      },
      {
       "output_type": "stream",
       "stream": "stdout",
       "text": [
        " (24.999046325683594, 24.999237060546875) 0.000190734863281\n",
        "going right"
       ]
      },
      {
       "output_type": "stream",
       "stream": "stdout",
       "text": [
        " (24.999141693115234, 24.999237060546875) 9.53674316406e-05\n",
        "going right"
       ]
      },
      {
       "output_type": "stream",
       "stream": "stdout",
       "text": [
        " (24.999189376831055, 24.999237060546875) 4.76837158203e-05\n",
        "going left"
       ]
      },
      {
       "output_type": "stream",
       "stream": "stdout",
       "text": [
        " (24.999189376831055, 24.999213218688965) 2.38418579102e-05\n",
        "going right"
       ]
      },
      {
       "output_type": "stream",
       "stream": "stdout",
       "text": [
        " (24.99920129776001, 24.999213218688965) 1.19209289551e-05\n",
        "going right"
       ]
      },
      {
       "output_type": "stream",
       "stream": "stdout",
       "text": [
        " (24.999207258224487, 24.999213218688965) 5.96046447754e-06\n",
        "going left"
       ]
      },
      {
       "output_type": "stream",
       "stream": "stdout",
       "text": [
        " (24.999207258224487, 24.999210238456726) 2.98023223877e-06\n",
        "going right"
       ]
      },
      {
       "output_type": "stream",
       "stream": "stdout",
       "text": [
        " (24.999208748340607, 24.999210238456726) 1.49011611938e-06\n",
        "going left"
       ]
      },
      {
       "output_type": "stream",
       "stream": "stdout",
       "text": [
        " (24.999208748340607, 24.999209493398666) 7.45058059692e-07\n",
        "going right"
       ]
      },
      {
       "output_type": "stream",
       "stream": "stdout",
       "text": [
        " (24.999209120869637, 24.999209493398666) 3.72529029846e-07\n"
       ]
      },
      {
       "metadata": {},
       "output_type": "pyout",
       "prompt_number": 26,
       "text": [
        "(24.999209120869637, 24.999209493398666)"
       ]
      }
     ],
     "prompt_number": 26
    },
    {
     "cell_type": "code",
     "collapsed": false,
     "input": [
      "import random\n",
      "x_star = random.uniform(24.999209120869637, 24.999209493398666)\n",
      "print x_star\n",
      "print f(x_star)"
     ],
     "language": "python",
     "metadata": {},
     "outputs": [
      {
       "output_type": "stream",
       "stream": "stdout",
       "text": [
        "24.9992093176\n",
        "1.0000001042\n"
       ]
      }
     ],
     "prompt_number": 27
    },
    {
     "cell_type": "code",
     "collapsed": false,
     "input": [],
     "language": "python",
     "metadata": {},
     "outputs": []
    }
   ],
   "metadata": {}
  }
 ]
}