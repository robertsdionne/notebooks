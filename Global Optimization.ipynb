{
 "metadata": {
  "name": "",
  "signature": "sha256:c0015a183948068a578d994e2ee47edea40885fafc3eb4e5ffdf53a524892e88"
 },
 "nbformat": 3,
 "nbformat_minor": 0,
 "worksheets": [
  {
   "cells": [
    {
     "cell_type": "heading",
     "level": 1,
     "metadata": {},
     "source": [
      "Global Optimization by Integration"
     ]
    },
    {
     "cell_type": "markdown",
     "metadata": {},
     "source": [
      "I was reading about [Lebesgue Integration](http://en.wikipedia.org/wiki/Lebesgue_integration) when I saw that for a non-negative real-valued function $f:\\mathbb{R}\\rightarrow\\mathbb{R^+}$,\n",
      "$$\\int_\\mathbb{R} f(x)\\,d\\mu=\\int_0^\\infty f^*(t)\\,dt \\quad\\text{where}\\quad f^*(t)=\\mu(\\{x\\mid x\\in\\mathbb{R},\\,f(x) > t\\})$$\n",
      "(see [1](http://en.wikipedia.org/wiki/Lebesgue_integration#Towards_a_formal_definition)) where $\\mu$ is a [measure](http://en.wikipedia.org/wiki/Measure_%28mathematics%29) and I realized that one could do a binary search on $t$ to identify the value of a global optimum of $f$ if one exists.\n",
      "\n",
      "This is true because if $f$ is bounded above by $\\alpha^*$ (its global maximum) then as $\\tau\\rightarrow\\infty$ the integral,\n",
      "$$\\int_0^\\tau f^*(t)\\,dt$$\n",
      "stops accumulating area when $\\tau$ crosses $\\alpha^*$. Thus,\n",
      "$$\\int_0^\\infty f^*(t)\\,dt=\\int_0^{\\alpha^*} f^*(t)\\,dt$$\n",
      "\n",
      "Subsequently, I saw that knowing the value of a global optimum allows one to binary search on $x$ to find a coordinate that yields that optimum value. To do this, subdivide the domain $H^*$ into two subdomains $H_0$ and $H_1$ along the $x$ direction, and for each, calculate $\\alpha_i^*$ from binary search over $t$,\n",
      "$$\\int_{H_i\\,\\cap\\,\\mathbb{R}} f(x)\\,d\\mu=\\int_0^{\\alpha_i^*} f_{H_i}^*(t)\\,dt$$\n",
      "\n",
      "Now, compare each $\\alpha_i^*$ to the global $\\alpha^*$ to decide which of the two subdomains $H_i$ contains a global optimum of value $\\alpha^*$. If both subdomains contain an optimum, choose one arbitrarily. Let $H^*$ be the chosen subdomain and recurse, splitting $H^*$ into two subdomains and repeating the procedure, until subdomain $H^*$ has $\\mu(H^*)<\\epsilon$. Finally, $x^*\\in H^*$.\n",
      "\n",
      "In multiple dimensions, $\\textbf{x}=(x_1,x_2,\\ldots,x_N)$, and the optimization procedure narrows the domain progressively along each direction $x_i$. Thus, the running time for the procedure should be\n",
      "$$N\\lg^2\\frac{1}{\\epsilon}I+\\lg\\frac{1}{\\epsilon}I=\\Theta\\big(N\\lg^2\\frac{1}{\\epsilon}I\\big)$$\n",
      "since for $N$ dimensions it must perform binary search on $x$ to within $\\epsilon$ accuracy, with the binary search on $x$ aided at each iteration by another binary search on $t$ to find $\\alpha_i^*$, also within $\\epsilon$. In order to find each $\\alpha_i^*$ and the global $\\alpha^*$ the procedure must calculate, $\\lg\\frac{1}{\\epsilon}$ times, an integral with running time $I$.\n",
      "\n",
      "Before I implemented the above thoughts, I looked for some research into similar methods and found two papers:\n",
      "* [A sufficient and necessary condition for global optimization](http://www.sciencedirect.com/science/article/pii/S0893965909002869)\n",
      "* [A Level-Value Estimation Method and Stochastic Implementation for Global Optimization](http://link.springer.com/article/10.1007%2Fs10957-012-0151-1#page-1)\n",
      "\n",
      "The first, **A sufficient and necessary condition for global optimization**, characterizes how to turn the above formulation for finding $\\alpha^*$ from a maximization problem to a minimization problem in terms of a \"deviation function\" $V_{m,f}(\\alpha)$.\n",
      "\n",
      "The second, **A Level-Value Estimation Method and Stochastic Implementation for Global Optimization**, describes an abstract algorithm and a concrete implementation that differs, I believe, from the one I describe above. I will read this second paper in the future to understand their method. However, the second paper demonstrated the feasibility of calculating the integral using a Monte Carlo method, for which the error is proportional to $O\\big(\\frac{1}{\\sqrt S}\\big)$ and independent of the dimension $N$ of the domain, where $S$ is the number of samples chosen to approximate the integral.\n",
      "\n",
      "In the future, I hope to test this technique for optimizing deep neural networks. Initially, I'd like to compare error performance of a deep network trained on a dataset with stochastic gradient descent against the global minimum $\\alpha^*$ calculated through the above integrals. If the difference is interestingly large, then perhaps I will modify this proposed algorithm to calculate the network's connection weights instead of using a local optimization algorithm like stochastic gradient descent.\n",
      "\n",
      "In the code that follows, I demonstrate solving a one-dimensional global minimization problem on $f(x)=\\frac{\\sin x}{x}$ shifted in the $x$ and $y$ directions a tiny bit to make the search more interesting.\n",
      "\n",
      "I extended my results to a 2D Ackley function, as seen here: [Global Optimization 2D](http://nbviewer.ipython.org/github/robertsdionne/notebooks/blob/master/Global%20Optimization%202D.ipynb)"
     ]
    },
    {
     "cell_type": "heading",
     "level": 2,
     "metadata": {},
     "source": [
      "Globally Optimize -sin(x)/x"
     ]
    },
    {
     "cell_type": "code",
     "collapsed": false,
     "input": [
      "%matplotlib inline\n",
      "from matplotlib import pyplot as plt\n",
      "import numpy\n",
      "import math"
     ],
     "language": "python",
     "metadata": {},
     "outputs": [],
     "prompt_number": 2
    },
    {
     "cell_type": "code",
     "collapsed": false,
     "input": [
      "def f(x):\n",
      "    return -numpy.sin(x - 25)/(x - 25) + 2"
     ],
     "language": "python",
     "metadata": {},
     "outputs": [],
     "prompt_number": 3
    },
    {
     "cell_type": "code",
     "collapsed": false,
     "input": [
      "x = numpy.arange(-100, 100, 0.1)\n",
      "plt.plot(x, f(x))"
     ],
     "language": "python",
     "metadata": {},
     "outputs": [
      {
       "metadata": {},
       "output_type": "pyout",
       "prompt_number": 4,
       "text": [
        "[<matplotlib.lines.Line2D at 0x110bb2e90>]"
       ]
      },
      {
       "metadata": {},
       "output_type": "display_data",
       "png": "[encoded data removed]",
       "text": [
        "<matplotlib.figure.Figure at 0x110b90610>"
       ]
      }
     ],
     "prompt_number": 4
    },
    {
     "cell_type": "code",
     "collapsed": false,
     "input": [
      "# Creates a deviation function argument function (the inside of the deviation function integral)\n",
      "# from \"A sufficient and necessary condition for global optimization.\"\n",
      "def Deviation(m, f):\n",
      "    return lambda alpha, x: (alpha - numpy.minimum(f(x), alpha))**m"
     ],
     "language": "python",
     "metadata": {},
     "outputs": [],
     "prompt_number": 5
    },
    {
     "cell_type": "code",
     "collapsed": false,
     "input": [
      "V = Deviation(1, f)"
     ],
     "language": "python",
     "metadata": {},
     "outputs": [],
     "prompt_number": 6
    },
    {
     "cell_type": "code",
     "collapsed": false,
     "input": [
      "# Plot our deviation function argument function over x at \\alpha = 2.\n",
      "plt.plot(x, V(2, x))"
     ],
     "language": "python",
     "metadata": {},
     "outputs": [
      {
       "metadata": {},
       "output_type": "pyout",
       "prompt_number": 7,
       "text": [
        "[<matplotlib.lines.Line2D at 0x110bee150>]"
       ]
      },
      {
       "metadata": {},
       "output_type": "display_data",
       "png": "[encoded data removed]",
       "text": [
        "<matplotlib.figure.Figure at 0x10d28b090>"
       ]
      }
     ],
     "prompt_number": 7
    },
    {
     "cell_type": "code",
     "collapsed": false,
     "input": [
      "# Generic uniform Monte Carlo estimator for the deviation function.\n",
      "def Estimator(V, alpha, N, a, b):\n",
      "    samples = (b - a) * numpy.random.random_sample(N) + a\n",
      "    return (b - a) / float(N) * V(alpha, samples).sum()"
     ],
     "language": "python",
     "metadata": {},
     "outputs": [],
     "prompt_number": 8
    },
    {
     "cell_type": "code",
     "collapsed": false,
     "input": [
      "Estimator(V, 1.001, 100000, -100, 100)"
     ],
     "language": "python",
     "metadata": {},
     "outputs": [
      {
       "metadata": {},
       "output_type": "pyout",
       "prompt_number": 9,
       "text": [
        "0.00011220653324333573"
       ]
      }
     ],
     "prompt_number": 9
    },
    {
     "cell_type": "code",
     "collapsed": false,
     "input": [
      "# Evaluate the deviation function over \\alpha \\in (-2, 2)\n",
      "y = numpy.arange(-2, 2, 0.01)\n",
      "alpha = numpy.arange(-2, 2, 0.01)\n",
      "for i in xrange(0, y.size):\n",
      "    alpha[i] = Estimator(V, y[i], 10000, -100, 100)\n",
      "plt.plot(y, alpha)"
     ],
     "language": "python",
     "metadata": {},
     "outputs": [
      {
       "metadata": {},
       "output_type": "pyout",
       "prompt_number": 10,
       "text": [
        "[<matplotlib.lines.Line2D at 0x110c90950>]"
       ]
      },
      {
       "metadata": {},
       "output_type": "display_data",
       "png": "[encoded data removed]",
       "text": [
        "<matplotlib.figure.Figure at 0x10d2a2490>"
       ]
      }
     ],
     "prompt_number": 10
    },
    {
     "cell_type": "code",
     "collapsed": false,
     "input": [
      "# Binary search over the range of f to find \\alpha^*\n",
      "def FindEssentialInfimum(f, N, a, b, epsilon):\n",
      "    V = Deviation(1, f)\n",
      "    delta = 1.0\n",
      "    alpha_max = f((b - a) * numpy.random.random_sample() + a)\n",
      "    alpha = alpha_max - delta\n",
      "    alpha_min = -float('inf')\n",
      "    expand = True\n",
      "    while expand:\n",
      "        integral = Estimator(V, alpha, N, a, b)\n",
      "        if integral > 0:\n",
      "            delta *= 2.0\n",
      "            alpha_max = alpha\n",
      "            alpha = alpha - delta\n",
      "        else:\n",
      "            delta /= 2.0\n",
      "            alpha_min = alpha\n",
      "            alpha = alpha + delta\n",
      "            expand = False\n",
      "    while alpha_max - alpha_min > epsilon:\n",
      "        integral = Estimator(V, alpha, N, a, b)\n",
      "        if integral > 0:\n",
      "            alpha_max = alpha\n",
      "        else:\n",
      "            alpha_min = alpha\n",
      "        alpha = (alpha_min + alpha_max) / 2.0\n",
      "    return alpha"
     ],
     "language": "python",
     "metadata": {},
     "outputs": [],
     "prompt_number": 11
    },
    {
     "cell_type": "code",
     "collapsed": false,
     "input": [
      "FindEssentialInfimum(f, 1000000, -100, 100, 1e-10)"
     ],
     "language": "python",
     "metadata": {},
     "outputs": [
      {
       "metadata": {},
       "output_type": "pyout",
       "prompt_number": 12,
       "text": [
        "1.0000000025084157"
       ]
      }
     ],
     "prompt_number": 12
    },
    {
     "cell_type": "code",
     "collapsed": false,
     "input": [
      "# Binary search over parameter x to find the subdomain containing the global optimum coordinate x^* and value \\alpha^*\n",
      "def FindMinimizingParameter(f, N, a, b, epsilon, delta):\n",
      "    alpha_star = FindEssentialInfimum(f, N, a, b, epsilon)\n",
      "    x_max = b\n",
      "    x_min = a\n",
      "    print 'locating x* within', (x_min, x_max)\n",
      "    while x_max - x_min > epsilon:\n",
      "        x = (x_min + x_max) / 2.0\n",
      "        alpha_left = FindEssentialInfimum(f, N, x_min, x, epsilon)\n",
      "        alpha_right = FindEssentialInfimum(f, N, x, x_max, epsilon)\n",
      "        if abs(alpha_star - alpha_left) < delta:\n",
      "            x_max = x\n",
      "            print 'f(x_max)=', f(x_max), (x_min, x_max), x_max - x_min\n",
      "        elif abs(alpha_star - alpha_right) < delta:\n",
      "            x_min = x\n",
      "            print 'f(x_min)=', f(x_min), (x_min, x_max), x_max - x_min\n",
      "        else:\n",
      "            print 'neither', alpha_star, alpha_left, alpha_right\n",
      "            break\n",
      "    return (x_min, x_max)"
     ],
     "language": "python",
     "metadata": {},
     "outputs": [],
     "prompt_number": 13
    },
    {
     "cell_type": "code",
     "collapsed": false,
     "input": [
      "FindMinimizingParameter(f, 1000000, -100, 100, 1e-10, 1e-7)"
     ],
     "language": "python",
     "metadata": {},
     "outputs": [
      {
       "output_type": "stream",
       "stream": "stdout",
       "text": [
        "locating x* within (-100, 100)\n",
        "f(x_min)="
       ]
      },
      {
       "output_type": "stream",
       "stream": "stdout",
       "text": [
        " 2.00529407 (0.0, 100) 100.0\n",
        "f(x_max)="
       ]
      },
      {
       "output_type": "stream",
       "stream": "stdout",
       "text": [
        " 2.00529407 (0.0, 50.0) 50.0\n",
        "f(x_max)="
       ]
      },
      {
       "output_type": "stream",
       "stream": "stdout",
       "text": [
        " nan (0.0, 25.0) 25.0\n",
        "f(x_min)="
       ]
      },
      {
       "output_type": "stream",
       "stream": "stdout",
       "text": [
        " 2.00530575179 (12.5, 25.0) 12.5\n",
        "f(x_min)="
       ]
      },
      {
       "output_type": "stream",
       "stream": "stdout",
       "text": [
        " 2.00530867465 (18.75, 25.0) 6.25\n",
        "f(x_min)="
       ]
      },
      {
       "output_type": "stream",
       "stream": "stdout",
       "text": [
        " 1.99469059449 (21.875, 25.0) 3.125\n",
        "f(x_min)="
       ]
      },
      {
       "output_type": "stream",
       "stream": "stdout",
       "text": [
        " 1.36002202517 (23.4375, 25.0) 1.5625\n",
        "f(x_min)="
       ]
      },
      {
       "output_type": "stream",
       "stream": "stdout",
       "text": [
        " 1.09866558534 (24.21875, 25.0) 0.78125\n",
        "f(x_min)="
       ]
      },
      {
       "output_type": "stream",
       "stream": "stdout",
       "text": [
        " 1.02523799298 (24.609375, 25.0) 0.390625\n",
        "f(x_min)="
       ]
      },
      {
       "output_type": "stream",
       "stream": "stdout",
       "text": [
        " 1.00634571319 (24.8046875, 25.0) 0.1953125\n",
        "f(x_min)="
       ]
      },
      {
       "output_type": "stream",
       "stream": "stdout",
       "text": [
        " 1.00158869945 (24.90234375, 25.0) 0.09765625\n",
        "f(x_min)="
       ]
      },
      {
       "output_type": "stream",
       "stream": "stdout",
       "text": [
        " 1.00039731693 (24.951171875, 25.0) 0.048828125\n",
        "f(x_min)="
       ]
      },
      {
       "output_type": "stream",
       "stream": "stdout",
       "text": [
        " 1.00009933811 (24.9755859375, 25.0) 0.0244140625\n",
        "f(x_min)="
       ]
      },
      {
       "output_type": "stream",
       "stream": "stdout",
       "text": [
        " 1.00002483508 (24.98779296875, 25.0) 0.01220703125\n",
        "f(x_min)="
       ]
      },
      {
       "output_type": "stream",
       "stream": "stdout",
       "text": [
        " 1.00000620881 (24.993896484375, 25.0) 0.006103515625\n",
        "f(x_min)="
       ]
      },
      {
       "output_type": "stream",
       "stream": "stdout",
       "text": [
        " 1.0000015522 (24.9969482421875, 25.0) 0.0030517578125\n",
        "f(x_min)="
       ]
      },
      {
       "output_type": "stream",
       "stream": "stdout",
       "text": [
        " 1.00000038805 (24.99847412109375, 25.0) 0.00152587890625\n",
        "f(x_max)="
       ]
      },
      {
       "output_type": "stream",
       "stream": "stdout",
       "text": [
        " 1.00000009701 (24.99847412109375, 24.999237060546875) 0.000762939453125\n",
        "f(x_min)="
       ]
      },
      {
       "output_type": "stream",
       "stream": "stdout",
       "text": [
        " 1.00000021828 (24.998855590820312, 24.999237060546875) 0.000381469726562\n",
        "f(x_min)="
       ]
      },
      {
       "output_type": "stream",
       "stream": "stdout",
       "text": [
        " 1.00000015158 (24.999046325683594, 24.999237060546875) 0.000190734863281\n",
        "f(x_min)="
       ]
      },
      {
       "output_type": "stream",
       "stream": "stdout",
       "text": [
        " 1.00000012278 (24.999141693115234, 24.999237060546875) 9.53674316406e-05\n",
        "f(x_min)="
       ]
      },
      {
       "output_type": "stream",
       "stream": "stdout",
       "text": [
        " 1.00000010952 (24.999189376831055, 24.999237060546875) 4.76837158203e-05\n",
        "f(x_min)="
       ]
      },
      {
       "output_type": "stream",
       "stream": "stdout",
       "text": [
        " 1.00000010317 (24.999213218688965, 24.999237060546875) 2.38418579102e-05\n",
        "f(x_max)="
       ]
      },
      {
       "output_type": "stream",
       "stream": "stdout",
       "text": [
        " 1.00000010007 (24.999213218688965, 24.99922513961792) 1.19209289551e-05\n",
        "f(x_min)="
       ]
      },
      {
       "output_type": "stream",
       "stream": "stdout",
       "text": [
        " 1.00000010161 (24.999219179153442, 24.99922513961792) 5.96046447754e-06\n",
        "f(x_max)="
       ]
      },
      {
       "output_type": "stream",
       "stream": "stdout",
       "text": [
        " 1.00000010084 (24.999219179153442, 24.99922215938568) 2.98023223877e-06\n",
        "f(x_min)="
       ]
      },
      {
       "output_type": "stream",
       "stream": "stdout",
       "text": [
        " 1.00000010123 (24.99922066926956, 24.99922215938568) 1.49011611938e-06\n",
        "f(x_max)="
       ]
      },
      {
       "output_type": "stream",
       "stream": "stdout",
       "text": [
        " 1.00000010103 (24.99922066926956, 24.99922141432762) 7.45058059692e-07\n",
        "f(x_max)="
       ]
      },
      {
       "output_type": "stream",
       "stream": "stdout",
       "text": [
        " 1.00000010113 (24.99922066926956, 24.99922104179859) 3.72529029846e-07\n",
        "f(x_min)="
       ]
      },
      {
       "output_type": "stream",
       "stream": "stdout",
       "text": [
        " 1.00000010118 (24.999220855534077, 24.99922104179859) 1.86264514923e-07\n",
        "f(x_max)="
       ]
      },
      {
       "output_type": "stream",
       "stream": "stdout",
       "text": [
        " 1.00000010115 (24.999220855534077, 24.999220948666334) 9.31322574615e-08\n",
        "f(x_max)="
       ]
      },
      {
       "output_type": "stream",
       "stream": "stdout",
       "text": [
        " 1.00000010117 (24.999220855534077, 24.999220902100205) 4.65661287308e-08\n",
        "f(x_max)="
       ]
      },
      {
       "output_type": "stream",
       "stream": "stdout",
       "text": [
        " 1.00000010117 (24.999220855534077, 24.99922087881714) 2.32830643654e-08\n",
        "f(x_max)="
       ]
      },
      {
       "output_type": "stream",
       "stream": "stdout",
       "text": [
        " 1.00000010117 (24.999220855534077, 24.99922086717561) 1.16415321827e-08\n",
        "f(x_max)="
       ]
      },
      {
       "output_type": "stream",
       "stream": "stdout",
       "text": [
        " 1.00000010118 (24.999220855534077, 24.999220861354843) 5.82076609135e-09\n",
        "f(x_max)="
       ]
      },
      {
       "output_type": "stream",
       "stream": "stdout",
       "text": [
        " 1.00000010118 (24.999220855534077, 24.99922085844446) 2.91038304567e-09\n",
        "f(x_max)="
       ]
      },
      {
       "output_type": "stream",
       "stream": "stdout",
       "text": [
        " 1.00000010118 (24.999220855534077, 24.999220856989268) 1.45519152284e-09\n",
        "f(x_max)="
       ]
      },
      {
       "output_type": "stream",
       "stream": "stdout",
       "text": [
        " 1.00000010118 (24.999220855534077, 24.999220856261672) 7.27595761418e-10\n",
        "f(x_max)="
       ]
      },
      {
       "output_type": "stream",
       "stream": "stdout",
       "text": [
        " 1.00000010118 (24.999220855534077, 24.999220855897875) 3.63797880709e-10\n",
        "f(x_max)="
       ]
      },
      {
       "output_type": "stream",
       "stream": "stdout",
       "text": [
        " 1.00000010118 (24.999220855534077, 24.999220855715976) 1.81898940355e-10\n",
        "f(x_max)="
       ]
      },
      {
       "output_type": "stream",
       "stream": "stdout",
       "text": [
        " 1.00000010118 (24.999220855534077, 24.999220855625026) 9.09494701773e-11\n"
       ]
      },
      {
       "metadata": {},
       "output_type": "pyout",
       "prompt_number": 111,
       "text": [
        "(24.999220855534077, 24.999220855625026)"
       ]
      }
     ],
     "prompt_number": 111
    },
    {
     "cell_type": "code",
     "collapsed": false,
     "input": [
      "import random\n",
      "x_star = random.uniform(24.999220855534077, 24.999220855625026)\n",
      "print x_star\n",
      "print f(x_star)"
     ],
     "language": "python",
     "metadata": {},
     "outputs": [
      {
       "output_type": "stream",
       "stream": "stdout",
       "text": [
        "24.9992208556\n",
        "1.00000010118\n"
       ]
      }
     ],
     "prompt_number": 14
    },
    {
     "cell_type": "heading",
     "level": 2,
     "metadata": {},
     "source": [
      "Globally Optimize the 1D Ackley Function"
     ]
    },
    {
     "cell_type": "code",
     "collapsed": false,
     "input": [
      "def Ackley(x):\n",
      "    n, a, b, c = 1.0, 20.0, 0.2, 2.0 * math.pi\n",
      "    s1, s2 = 0, 0\n",
      "    s1 += x**2\n",
      "    s2 += numpy.cos(c * x)\n",
      "    return -a * numpy.exp(-b * numpy.sqrt(1.0 / n * s1)) - numpy.exp(1.0 / n * s2) + a + math.e"
     ],
     "language": "python",
     "metadata": {},
     "outputs": [],
     "prompt_number": 15
    },
    {
     "cell_type": "code",
     "collapsed": false,
     "input": [
      "x2 = numpy.arange(-15, 30, 0.01)\n",
      "plt.plot(x2, Ackley(x2))"
     ],
     "language": "python",
     "metadata": {},
     "outputs": [
      {
       "metadata": {},
       "output_type": "pyout",
       "prompt_number": 16,
       "text": [
        "[<matplotlib.lines.Line2D at 0x110fcc110>]"
       ]
      },
      {
       "metadata": {},
       "output_type": "display_data",
       "png": "[encoded data removed]",
       "text": [
        "<matplotlib.figure.Figure at 0x110baedd0>"
       ]
      }
     ],
     "prompt_number": 16
    },
    {
     "cell_type": "code",
     "collapsed": false,
     "input": [
      "V2 = Deviation(1, Ackley)"
     ],
     "language": "python",
     "metadata": {},
     "outputs": [],
     "prompt_number": 17
    },
    {
     "cell_type": "code",
     "collapsed": false,
     "input": [
      "plt.plot(x2, V2(20, x2))"
     ],
     "language": "python",
     "metadata": {},
     "outputs": [
      {
       "metadata": {},
       "output_type": "pyout",
       "prompt_number": 18,
       "text": [
        "[<matplotlib.lines.Line2D at 0x112ee14d0>]"
       ]
      },
      {
       "metadata": {},
       "output_type": "display_data",
       "png": "[encoded data removed]",
       "text": [
        "<matplotlib.figure.Figure at 0x110bd2dd0>"
       ]
      }
     ],
     "prompt_number": 18
    },
    {
     "cell_type": "code",
     "collapsed": false,
     "input": [
      "# Evaluate the deviation function over \\alpha \\in (-2, 2)\n",
      "y = numpy.arange(-20, 20, 0.01)\n",
      "alpha = numpy.arange(-20, 20, 0.01)\n",
      "for i in xrange(0, y.size):\n",
      "    alpha[i] = Estimator(V2, y[i], 10000, -15, 30)\n",
      "plt.plot(y, alpha)"
     ],
     "language": "python",
     "metadata": {},
     "outputs": [
      {
       "metadata": {},
       "output_type": "pyout",
       "prompt_number": 19,
       "text": [
        "[<matplotlib.lines.Line2D at 0x112f720d0>]"
       ]
      },
      {
       "metadata": {},
       "output_type": "display_data",
       "png": "[encoded data removed]",
       "text": [
        "<matplotlib.figure.Figure at 0x110fd7bd0>"
       ]
      }
     ],
     "prompt_number": 19
    },
    {
     "cell_type": "code",
     "collapsed": false,
     "input": [
      "FindEssentialInfimum(Ackley, 1000000, -15, 30, 1e-10)"
     ],
     "language": "python",
     "metadata": {},
     "outputs": [
      {
       "metadata": {},
       "output_type": "pyout",
       "prompt_number": 20,
       "text": [
        "9.4844566174145939e-05"
       ]
      }
     ],
     "prompt_number": 20
    },
    {
     "cell_type": "code",
     "collapsed": false,
     "input": [
      "FindMinimizingParameter(Ackley, 1000000, -15, 30, 1e-5, 1e-3)"
     ],
     "language": "python",
     "metadata": {},
     "outputs": [
      {
       "output_type": "stream",
       "stream": "stdout",
       "text": [
        "locating x* within (-15, 30)\n",
        "f(x_max)="
       ]
      },
      {
       "output_type": "stream",
       "stream": "stdout",
       "text": [
        " 17.8877991843 (-15, 7.5) 22.5\n",
        "f(x_min)="
       ]
      },
      {
       "output_type": "stream",
       "stream": "stdout",
       "text": [
        " 12.2709507736 (-3.75, 7.5) 11.25\n",
        "f(x_max)="
       ]
      },
      {
       "output_type": "stream",
       "stream": "stdout",
       "text": [
        " 6.94438127099 (-3.75, 1.875) 5.625\n",
        "f(x_min)="
       ]
      },
      {
       "output_type": "stream",
       "stream": "stdout",
       "text": [
        " 3.61865529344 (-0.9375, 1.875) 2.8125\n",
        "f(x_max)="
       ]
      },
      {
       "output_type": "stream",
       "stream": "stdout",
       "text": [
        " 4.13305811077 (-0.9375, 0.46875) 1.40625\n",
        "f(x_min)="
       ]
      },
      {
       "output_type": "stream",
       "stream": "stdout",
       "text": [
        " 2.53116681866 (-0.234375, 0.46875) 0.703125\n",
        "f(x_max)="
       ]
      },
      {
       "output_type": "stream",
       "stream": "stdout",
       "text": [
        " 1.08365136922 (-0.234375, 0.1171875) 0.3515625\n",
        "f(x_min)="
       ]
      },
      {
       "output_type": "stream",
       "stream": "stdout",
       "text": [
        " 0.409183070516 (-0.05859375, 0.1171875) 0.17578125\n",
        "f(x_max)="
       ]
      },
      {
       "output_type": "stream",
       "stream": "stdout",
       "text": [
        " 0.162383136589 (-0.05859375, 0.029296875) 0.087890625\n",
        "f(x_min)="
       ]
      },
      {
       "output_type": "stream",
       "stream": "stdout",
       "text": [
        " 0.0699890490146 (-0.0146484375, 0.029296875) 0.0439453125\n",
        "f(x_max)="
       ]
      },
      {
       "output_type": "stream",
       "stream": "stdout",
       "text": [
        " 0.0321517684239 (-0.0146484375, 0.00732421875) 0.02197265625\n",
        "f(x_min)="
       ]
      },
      {
       "output_type": "stream",
       "stream": "stdout",
       "text": [
        " 0.0153625402728 (-0.003662109375, 0.00732421875) 0.010986328125\n",
        "f(x_max)="
       ]
      },
      {
       "output_type": "stream",
       "stream": "stdout",
       "text": [
        " 0.00750276808709 (-0.003662109375, 0.0018310546875) 0.0054931640625\n",
        "f(x_min)="
       ]
      },
      {
       "output_type": "stream",
       "stream": "stdout",
       "text": [
        " 0.00370674817698 (-0.00091552734375, 0.0018310546875) 0.00274658203125\n",
        "f(x_max)="
       ]
      },
      {
       "output_type": "stream",
       "stream": "stdout",
       "text": [
        " 0.00184221447845 (-0.00091552734375, 0.000457763671875) 0.00137329101562\n",
        "f(x_max)="
       ]
      },
      {
       "output_type": "stream",
       "stream": "stdout",
       "text": [
        " 0.000918317296982 (-0.00091552734375, -0.0002288818359375) 0.000686645507812\n",
        "f(x_min)="
       ]
      },
      {
       "output_type": "stream",
       "stream": "stdout",
       "text": [
        " 0.00230625550648 (-0.00057220458984375, -0.0002288818359375) 0.000343322753906\n",
        "f(x_min)="
       ]
      },
      {
       "output_type": "stream",
       "stream": "stdout",
       "text": [
        " 0.00161071707182 (-0.000400543212890625, -0.0002288818359375) 0.000171661376953\n",
        "f(x_min)="
       ]
      },
      {
       "output_type": "stream",
       "stream": "stdout",
       "text": [
        " 0.00126412484995 (-0.0003147125244140625, -0.0002288818359375) 8.58306884766e-05\n",
        "f(x_max)="
       ]
      },
      {
       "output_type": "stream",
       "stream": "stdout",
       "text": [
        " 0.00109112298965 (-0.0003147125244140625, -0.00027179718017578125) 4.29153442383e-05\n",
        "f(x_min)="
       ]
      },
      {
       "output_type": "stream",
       "stream": "stdout",
       "text": [
        " 0.00117759939887 (-0.0002932548522949219, -0.00027179718017578125) 2.14576721191e-05\n",
        "f(x_min)="
       ]
      },
      {
       "output_type": "stream",
       "stream": "stdout",
       "text": [
        " 0.00113435506403 (-0.00028252601623535156, -0.00027179718017578125) 1.07288360596e-05\n",
        "f(x_min)="
       ]
      },
      {
       "output_type": "stream",
       "stream": "stdout",
       "text": [
        " 0.00111273749428 (-0.0002771615982055664, -0.00027179718017578125) 5.36441802979e-06\n"
       ]
      },
      {
       "metadata": {},
       "output_type": "pyout",
       "prompt_number": 54,
       "text": [
        "(-0.0002771615982055664, -0.00027179718017578125)"
       ]
      }
     ],
     "prompt_number": 54
    },
    {
     "cell_type": "heading",
     "level": 2,
     "metadata": {},
     "source": [
      "Globally Optimize a Neuron with Rectified Linear Activation"
     ]
    },
    {
     "cell_type": "code",
     "collapsed": false,
     "input": [
      "data = numpy.random.random_sample(10)\n",
      "data"
     ],
     "language": "python",
     "metadata": {},
     "outputs": [
      {
       "metadata": {},
       "output_type": "pyout",
       "prompt_number": 21,
       "text": [
        "array([ 0.29008865,  0.57672773,  0.28381241,  0.02042732,  0.00269087,\n",
        "        0.93735703,  0.97868773,  0.12916121,  0.03548163,  0.21511228])"
       ]
      }
     ],
     "prompt_number": 21
    },
    {
     "cell_type": "code",
     "collapsed": false,
     "input": [
      "def Neuron(theta):\n",
      "    return 1.0 / 2.0 * ((data - numpy.maximum(0, numpy.outer(theta, data)))**2).sum(axis=1)"
     ],
     "language": "python",
     "metadata": {},
     "outputs": [],
     "prompt_number": 22
    },
    {
     "cell_type": "code",
     "collapsed": false,
     "input": [
      "theta = numpy.arange(-10, 10, 0.01)\n",
      "plt.plot(theta, Neuron(theta))"
     ],
     "language": "python",
     "metadata": {},
     "outputs": [
      {
       "metadata": {},
       "output_type": "pyout",
       "prompt_number": 23,
       "text": [
        "[<matplotlib.lines.Line2D at 0x112fa3d90>]"
       ]
      },
      {
       "metadata": {},
       "output_type": "display_data",
       "png": "[encoded data removed]",
       "text": [
        "<matplotlib.figure.Figure at 0x110fd7dd0>"
       ]
      }
     ],
     "prompt_number": 23
    },
    {
     "cell_type": "code",
     "collapsed": false,
     "input": [
      "V3 = Deviation(1, Neuron)"
     ],
     "language": "python",
     "metadata": {},
     "outputs": [],
     "prompt_number": 24
    },
    {
     "cell_type": "code",
     "collapsed": false,
     "input": [
      "plt.plot(theta, V3(10, theta))"
     ],
     "language": "python",
     "metadata": {},
     "outputs": [
      {
       "metadata": {},
       "output_type": "pyout",
       "prompt_number": 25,
       "text": [
        "[<matplotlib.lines.Line2D at 0x113f72b10>]"
       ]
      },
      {
       "metadata": {},
       "output_type": "display_data",
       "png": "[encoded data removed]",
       "text": [
        "<matplotlib.figure.Figure at 0x110fc1090>"
       ]
      }
     ],
     "prompt_number": 25
    },
    {
     "cell_type": "code",
     "collapsed": false,
     "input": [
      "# Evaluate the deviation function over \\alpha \\in (-2, 2)\n",
      "y = numpy.arange(-10, 10, 0.1)\n",
      "alpha = numpy.arange(-10, 10, 0.1)\n",
      "for i in xrange(0, y.size):\n",
      "    alpha[i] = Estimator(V3, y[i], 10000, -10, 10)\n",
      "plt.plot(y, alpha)"
     ],
     "language": "python",
     "metadata": {},
     "outputs": [
      {
       "metadata": {},
       "output_type": "pyout",
       "prompt_number": 26,
       "text": [
        "[<matplotlib.lines.Line2D at 0x11405f790>]"
       ]
      },
      {
       "metadata": {},
       "output_type": "display_data",
       "png": "[encoded data removed]",
       "text": [
        "<matplotlib.figure.Figure at 0x112f0ee90>"
       ]
      }
     ],
     "prompt_number": 26
    },
    {
     "cell_type": "code",
     "collapsed": false,
     "input": [
      "FindEssentialInfimum(Neuron, 1000000, -10, 10, 1e-10)"
     ],
     "language": "python",
     "metadata": {},
     "outputs": [
      {
       "metadata": {},
       "output_type": "pyout",
       "prompt_number": 27,
       "text": [
        "array([  2.56265675e-10])"
       ]
      }
     ],
     "prompt_number": 27
    },
    {
     "cell_type": "code",
     "collapsed": false,
     "input": [
      "FindMinimizingParameter(Neuron, 1000000, -10, 10, 1e-10, 1e-7)"
     ],
     "language": "python",
     "metadata": {},
     "outputs": [
      {
       "output_type": "stream",
       "stream": "stdout",
       "text": [
        "locating x* within (-10, 10)\n",
        "f(x_min)="
       ]
      },
      {
       "output_type": "stream",
       "stream": "stdout",
       "text": [
        " [ 2.35881945] (0.0, 10) 10.0\n",
        "f(x_max)="
       ]
      },
      {
       "output_type": "stream",
       "stream": "stdout",
       "text": [
        " [ 37.74111112] (0.0, 5.0) 5.0\n",
        "f(x_max)="
       ]
      },
      {
       "output_type": "stream",
       "stream": "stdout",
       "text": [
        " [ 5.30734375] (0.0, 2.5) 2.5\n",
        "f(x_max)="
       ]
      },
      {
       "output_type": "stream",
       "stream": "stdout",
       "text": [
        " [ 0.14742622] (0.0, 1.25) 1.25\n",
        "f(x_min)="
       ]
      },
      {
       "output_type": "stream",
       "stream": "stdout",
       "text": [
        " [ 0.33170898] (0.625, 1.25) 0.625\n",
        "f(x_min)="
       ]
      },
      {
       "output_type": "stream",
       "stream": "stdout",
       "text": [
        " [ 0.00921414] (0.9375, 1.25) 0.3125\n",
        "f(x_max)="
       ]
      },
      {
       "output_type": "stream",
       "stream": "stdout",
       "text": [
        " [ 0.02073181] (0.9375, 1.09375) 0.15625\n",
        "f(x_max)="
       ]
      },
      {
       "output_type": "stream",
       "stream": "stdout",
       "text": [
        " [ 0.00057588] (0.9375, 1.015625) 0.078125\n",
        "f(x_min)="
       ]
      },
      {
       "output_type": "stream",
       "stream": "stdout",
       "text": [
        " [ 0.00129574] (0.9765625, 1.015625) 0.0390625\n",
        "f(x_min)="
       ]
      },
      {
       "output_type": "stream",
       "stream": "stdout",
       "text": [
        " [  3.59927283e-05] (0.99609375, 1.015625) 0.01953125\n",
        "f(x_max)="
       ]
      },
      {
       "output_type": "stream",
       "stream": "stdout",
       "text": [
        " [  8.09836388e-05] (0.99609375, 1.005859375) 0.009765625\n",
        "f(x_max)="
       ]
      },
      {
       "output_type": "stream",
       "stream": "stdout",
       "text": [
        " [  2.24954552e-06] (0.99609375, 1.0009765625) 0.0048828125\n",
        "f(x_min)="
       ]
      },
      {
       "output_type": "stream",
       "stream": "stdout",
       "text": [
        " [  5.06147742e-06] (0.99853515625, 1.0009765625) 0.00244140625\n",
        "f(x_min)="
       ]
      },
      {
       "output_type": "stream",
       "stream": "stdout",
       "text": [
        " [  1.40596595e-07] (0.999755859375, 1.0009765625) 0.001220703125\n",
        "f(x_max)="
       ]
      },
      {
       "output_type": "stream",
       "stream": "stdout",
       "text": [
        " [  3.16342339e-07] (0.999755859375, 1.0003662109375) 0.0006103515625\n",
        "f(x_max)="
       ]
      },
      {
       "output_type": "stream",
       "stream": "stdout",
       "text": [
        " [  8.78728719e-09] (0.999755859375, 1.00006103515625) 0.00030517578125\n",
        "f(x_max)="
       ]
      },
      {
       "output_type": "stream",
       "stream": "stdout",
       "text": [
        " [  1.97713962e-08] (0.999755859375, 0.999908447265625) 0.000152587890625\n",
        "f(x_max)="
       ]
      },
      {
       "output_type": "stream",
       "stream": "stdout",
       "text": [
        " [  6.64538594e-08] (0.999755859375, 0.9998321533203125) 7.62939453125e-05\n",
        "f(x_max)="
       ]
      },
      {
       "output_type": "stream",
       "stream": "stdout",
       "text": [
        " [  1.00092693e-07] (0.999755859375, 0.9997940063476562) 3.81469726562e-05\n",
        "f(x_min)="
       ]
      },
      {
       "output_type": "stream",
       "stream": "stdout",
       "text": [
        " [  1.19486511e-07] (0.9997749328613281, 0.9997940063476562) 1.90734863281e-05\n",
        "f(x_min)="
       ]
      },
      {
       "output_type": "stream",
       "stream": "stdout",
       "text": [
        " [  1.09575069e-07] (0.9997844696044922, 0.9997940063476562) 9.53674316406e-06\n",
        "f(x_min)="
       ]
      },
      {
       "output_type": "stream",
       "stream": "stdout",
       "text": [
        " [  1.04780248e-07] (0.9997892379760742, 0.9997940063476562) 4.76837158203e-06\n",
        "f(x_min)="
       ]
      },
      {
       "output_type": "stream",
       "stream": "stdout",
       "text": [
        " [  1.02423062e-07] (0.9997916221618652, 0.9997940063476562) 2.38418579102e-06\n",
        "f(x_min)="
       ]
      },
      {
       "output_type": "stream",
       "stream": "stdout",
       "text": [
        " [  1.01254526e-07] (0.9997928142547607, 0.9997940063476562) 1.19209289551e-06\n",
        "f(x_min)="
       ]
      },
      {
       "output_type": "stream",
       "stream": "stdout",
       "text": [
        " [  1.00672771e-07] (0.9997934103012085, 0.9997940063476562) 5.96046447754e-07\n",
        "f(x_max)="
       ]
      },
      {
       "output_type": "stream",
       "stream": "stdout",
       "text": [
        " [  1.00382523e-07] (0.9997934103012085, 0.9997937083244324) 2.98023223877e-07\n",
        "f(x_max)="
       ]
      },
      {
       "output_type": "stream",
       "stream": "stdout",
       "text": [
        " [  1.00527595e-07] (0.9997934103012085, 0.9997935593128204) 1.49011611938e-07\n",
        "f(x_min)="
       ]
      },
      {
       "output_type": "stream",
       "stream": "stdout",
       "text": [
        " [  1.00600170e-07] (0.9997934848070145, 0.9997935593128204) 7.45058059692e-08\n",
        "f(x_min)="
       ]
      },
      {
       "output_type": "stream",
       "stream": "stdout",
       "text": [
        " [  1.00563879e-07] (0.9997935220599174, 0.9997935593128204) 3.72529029846e-08\n",
        "f(x_max)="
       ]
      },
      {
       "output_type": "stream",
       "stream": "stdout",
       "text": [
        " [  1.00545736e-07] (0.9997935220599174, 0.9997935406863689) 1.86264514923e-08\n",
        "f(x_max)="
       ]
      },
      {
       "output_type": "stream",
       "stream": "stdout",
       "text": [
        " [  1.00554807e-07] (0.9997935220599174, 0.9997935313731432) 9.31322574615e-09\n",
        "f(x_max)="
       ]
      },
      {
       "output_type": "stream",
       "stream": "stdout",
       "text": [
        " [  1.00559343e-07] (0.9997935220599174, 0.9997935267165303) 4.65661287308e-09\n",
        "f(x_max)="
       ]
      },
      {
       "output_type": "stream",
       "stream": "stdout",
       "text": [
        " [  1.00561611e-07] (0.9997935220599174, 0.9997935243882239) 2.32830643654e-09\n",
        "f(x_max)="
       ]
      },
      {
       "output_type": "stream",
       "stream": "stdout",
       "text": [
        " [  1.00562745e-07] (0.9997935220599174, 0.9997935232240707) 1.16415321827e-09\n",
        "f(x_max)="
       ]
      },
      {
       "output_type": "stream",
       "stream": "stdout",
       "text": [
        " [  1.00563312e-07] (0.9997935220599174, 0.9997935226419941) 5.82076609135e-10\n",
        "f(x_max)="
       ]
      },
      {
       "output_type": "stream",
       "stream": "stdout",
       "text": [
        " [  1.00563596e-07] (0.9997935220599174, 0.9997935223509558) 2.91038304567e-10\n",
        "f(x_max)="
       ]
      },
      {
       "output_type": "stream",
       "stream": "stdout",
       "text": [
        " [  1.00563737e-07] (0.9997935220599174, 0.9997935222054366) 1.45519152284e-10\n",
        "f(x_max)="
       ]
      },
      {
       "output_type": "stream",
       "stream": "stdout",
       "text": [
        " [  1.00563808e-07] (0.9997935220599174, 0.999793522132677) 7.27595761418e-11\n"
       ]
      },
      {
       "metadata": {},
       "output_type": "pyout",
       "prompt_number": 114,
       "text": [
        "(0.9997935220599174, 0.999793522132677)"
       ]
      }
     ],
     "prompt_number": 114
    },
    {
     "cell_type": "heading",
     "level": 2,
     "metadata": {},
     "source": [
      "Globally Optimize a Stack of Two Neurons with Rectified Linear Activation (Incomplete)"
     ]
    },
    {
     "cell_type": "code",
     "collapsed": false,
     "input": [
      "Neuron(0.9997935220599174)"
     ],
     "language": "python",
     "metadata": {},
     "outputs": [
      {
       "metadata": {},
       "output_type": "pyout",
       "prompt_number": 28,
       "text": [
        "array([  5.11261525e-08])"
       ]
      }
     ],
     "prompt_number": 28
    },
    {
     "cell_type": "code",
     "collapsed": false,
     "input": [
      "def Neuron2(theta):\n",
      "    numpy.maximum(0, numpy.outer(theta[0], data))\n",
      "    return 1.0 / 2.0 * ((data - numpy.maximum(0, numpy.outer(theta[1], numpy.maximum(0, numpy.outer(theta[0], data)))))**2).sum(axis=0)"
     ],
     "language": "python",
     "metadata": {},
     "outputs": [],
     "prompt_number": 29
    },
    {
     "cell_type": "code",
     "collapsed": false,
     "input": [
      "theta = numpy.arange(-10, 10, 1)\n",
      "x, y = numpy.meshgrid(theta, theta)\n",
      "grid = numpy.array([x, y])\n",
      "grid"
     ],
     "language": "python",
     "metadata": {},
     "outputs": [
      {
       "metadata": {},
       "output_type": "pyout",
       "prompt_number": 43,
       "text": [
        "array([[[-10,  -9,  -8,  -7,  -6,  -5,  -4,  -3,  -2,  -1,   0,   1,   2,\n",
        "           3,   4,   5,   6,   7,   8,   9],\n",
        "        [-10,  -9,  -8,  -7,  -6,  -5,  -4,  -3,  -2,  -1,   0,   1,   2,\n",
        "           3,   4,   5,   6,   7,   8,   9],\n",
        "        [-10,  -9,  -8,  -7,  -6,  -5,  -4,  -3,  -2,  -1,   0,   1,   2,\n",
        "           3,   4,   5,   6,   7,   8,   9],\n",
        "        [-10,  -9,  -8,  -7,  -6,  -5,  -4,  -3,  -2,  -1,   0,   1,   2,\n",
        "           3,   4,   5,   6,   7,   8,   9],\n",
        "        [-10,  -9,  -8,  -7,  -6,  -5,  -4,  -3,  -2,  -1,   0,   1,   2,\n",
        "           3,   4,   5,   6,   7,   8,   9],\n",
        "        [-10,  -9,  -8,  -7,  -6,  -5,  -4,  -3,  -2,  -1,   0,   1,   2,\n",
        "           3,   4,   5,   6,   7,   8,   9],\n",
        "        [-10,  -9,  -8,  -7,  -6,  -5,  -4,  -3,  -2,  -1,   0,   1,   2,\n",
        "           3,   4,   5,   6,   7,   8,   9],\n",
        "        [-10,  -9,  -8,  -7,  -6,  -5,  -4,  -3,  -2,  -1,   0,   1,   2,\n",
        "           3,   4,   5,   6,   7,   8,   9],\n",
        "        [-10,  -9,  -8,  -7,  -6,  -5,  -4,  -3,  -2,  -1,   0,   1,   2,\n",
        "           3,   4,   5,   6,   7,   8,   9],\n",
        "        [-10,  -9,  -8,  -7,  -6,  -5,  -4,  -3,  -2,  -1,   0,   1,   2,\n",
        "           3,   4,   5,   6,   7,   8,   9],\n",
        "        [-10,  -9,  -8,  -7,  -6,  -5,  -4,  -3,  -2,  -1,   0,   1,   2,\n",
        "           3,   4,   5,   6,   7,   8,   9],\n",
        "        [-10,  -9,  -8,  -7,  -6,  -5,  -4,  -3,  -2,  -1,   0,   1,   2,\n",
        "           3,   4,   5,   6,   7,   8,   9],\n",
        "        [-10,  -9,  -8,  -7,  -6,  -5,  -4,  -3,  -2,  -1,   0,   1,   2,\n",
        "           3,   4,   5,   6,   7,   8,   9],\n",
        "        [-10,  -9,  -8,  -7,  -6,  -5,  -4,  -3,  -2,  -1,   0,   1,   2,\n",
        "           3,   4,   5,   6,   7,   8,   9],\n",
        "        [-10,  -9,  -8,  -7,  -6,  -5,  -4,  -3,  -2,  -1,   0,   1,   2,\n",
        "           3,   4,   5,   6,   7,   8,   9],\n",
        "        [-10,  -9,  -8,  -7,  -6,  -5,  -4,  -3,  -2,  -1,   0,   1,   2,\n",
        "           3,   4,   5,   6,   7,   8,   9],\n",
        "        [-10,  -9,  -8,  -7,  -6,  -5,  -4,  -3,  -2,  -1,   0,   1,   2,\n",
        "           3,   4,   5,   6,   7,   8,   9],\n",
        "        [-10,  -9,  -8,  -7,  -6,  -5,  -4,  -3,  -2,  -1,   0,   1,   2,\n",
        "           3,   4,   5,   6,   7,   8,   9],\n",
        "        [-10,  -9,  -8,  -7,  -6,  -5,  -4,  -3,  -2,  -1,   0,   1,   2,\n",
        "           3,   4,   5,   6,   7,   8,   9],\n",
        "        [-10,  -9,  -8,  -7,  -6,  -5,  -4,  -3,  -2,  -1,   0,   1,   2,\n",
        "           3,   4,   5,   6,   7,   8,   9]],\n",
        "\n",
        "       [[-10, -10, -10, -10, -10, -10, -10, -10, -10, -10, -10, -10, -10,\n",
        "         -10, -10, -10, -10, -10, -10, -10],\n",
        "        [ -9,  -9,  -9,  -9,  -9,  -9,  -9,  -9,  -9,  -9,  -9,  -9,  -9,\n",
        "          -9,  -9,  -9,  -9,  -9,  -9,  -9],\n",
        "        [ -8,  -8,  -8,  -8,  -8,  -8,  -8,  -8,  -8,  -8,  -8,  -8,  -8,\n",
        "          -8,  -8,  -8,  -8,  -8,  -8,  -8],\n",
        "        [ -7,  -7,  -7,  -7,  -7,  -7,  -7,  -7,  -7,  -7,  -7,  -7,  -7,\n",
        "          -7,  -7,  -7,  -7,  -7,  -7,  -7],\n",
        "        [ -6,  -6,  -6,  -6,  -6,  -6,  -6,  -6,  -6,  -6,  -6,  -6,  -6,\n",
        "          -6,  -6,  -6,  -6,  -6,  -6,  -6],\n",
        "        [ -5,  -5,  -5,  -5,  -5,  -5,  -5,  -5,  -5,  -5,  -5,  -5,  -5,\n",
        "          -5,  -5,  -5,  -5,  -5,  -5,  -5],\n",
        "        [ -4,  -4,  -4,  -4,  -4,  -4,  -4,  -4,  -4,  -4,  -4,  -4,  -4,\n",
        "          -4,  -4,  -4,  -4,  -4,  -4,  -4],\n",
        "        [ -3,  -3,  -3,  -3,  -3,  -3,  -3,  -3,  -3,  -3,  -3,  -3,  -3,\n",
        "          -3,  -3,  -3,  -3,  -3,  -3,  -3],\n",
        "        [ -2,  -2,  -2,  -2,  -2,  -2,  -2,  -2,  -2,  -2,  -2,  -2,  -2,\n",
        "          -2,  -2,  -2,  -2,  -2,  -2,  -2],\n",
        "        [ -1,  -1,  -1,  -1,  -1,  -1,  -1,  -1,  -1,  -1,  -1,  -1,  -1,\n",
        "          -1,  -1,  -1,  -1,  -1,  -1,  -1],\n",
        "        [  0,   0,   0,   0,   0,   0,   0,   0,   0,   0,   0,   0,   0,\n",
        "           0,   0,   0,   0,   0,   0,   0],\n",
        "        [  1,   1,   1,   1,   1,   1,   1,   1,   1,   1,   1,   1,   1,\n",
        "           1,   1,   1,   1,   1,   1,   1],\n",
        "        [  2,   2,   2,   2,   2,   2,   2,   2,   2,   2,   2,   2,   2,\n",
        "           2,   2,   2,   2,   2,   2,   2],\n",
        "        [  3,   3,   3,   3,   3,   3,   3,   3,   3,   3,   3,   3,   3,\n",
        "           3,   3,   3,   3,   3,   3,   3],\n",
        "        [  4,   4,   4,   4,   4,   4,   4,   4,   4,   4,   4,   4,   4,\n",
        "           4,   4,   4,   4,   4,   4,   4],\n",
        "        [  5,   5,   5,   5,   5,   5,   5,   5,   5,   5,   5,   5,   5,\n",
        "           5,   5,   5,   5,   5,   5,   5],\n",
        "        [  6,   6,   6,   6,   6,   6,   6,   6,   6,   6,   6,   6,   6,\n",
        "           6,   6,   6,   6,   6,   6,   6],\n",
        "        [  7,   7,   7,   7,   7,   7,   7,   7,   7,   7,   7,   7,   7,\n",
        "           7,   7,   7,   7,   7,   7,   7],\n",
        "        [  8,   8,   8,   8,   8,   8,   8,   8,   8,   8,   8,   8,   8,\n",
        "           8,   8,   8,   8,   8,   8,   8],\n",
        "        [  9,   9,   9,   9,   9,   9,   9,   9,   9,   9,   9,   9,   9,\n",
        "           9,   9,   9,   9,   9,   9,   9]]])"
       ]
      }
     ],
     "prompt_number": 43
    },
    {
     "cell_type": "code",
     "collapsed": false,
     "input": [
      "gr = numpy.array([[2], [-1]])\n",
      "intermediate = numpy.maximum(0, numpy.outer(theta[0], data))\n",
      "print intermediate\n",
      "print numpy.maximum(0, numpy.outer(theta[1], intermediate))"
     ],
     "language": "python",
     "metadata": {},
     "outputs": [
      {
       "output_type": "stream",
       "stream": "stdout",
       "text": [
        "[[ 0.5801773   1.15345547  0.56762483  0.04085465  0.00538174  1.87471406\n",
        "   1.95737547  0.25832243  0.07096325  0.43022457]]\n",
        "[[ 0.  0.  0.  0.  0.  0.  0.  0.  0.  0.]]\n"
       ]
      }
     ],
     "prompt_number": 41
    }
   ],
   "metadata": {}
  }
 ]
}