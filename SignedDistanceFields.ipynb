{
 "cells": [
  {
   "cell_type": "code",
   "execution_count": 1,
   "metadata": {
    "collapsed": false
   },
   "outputs": [],
   "source": [
    "import tensorflow as tf\n",
    "import numpy as np\n",
    "import matplotlib\n",
    "import matplotlib.pyplot"
   ]
  },
  {
   "cell_type": "code",
   "execution_count": 2,
   "metadata": {
    "collapsed": true
   },
   "outputs": [],
   "source": [
    "%matplotlib inline"
   ]
  },
  {
   "cell_type": "code",
   "execution_count": 3,
   "metadata": {
    "collapsed": false
   },
   "outputs": [],
   "source": [
    "session = tf.InteractiveSession()"
   ]
  },
  {
   "cell_type": "code",
   "execution_count": 4,
   "metadata": {
    "collapsed": false
   },
   "outputs": [],
   "source": [
    "HEIGHT, WIDTH = 150, 200\n",
    "ASPECT = float(WIDTH) / HEIGHT\n",
    "LIGHT_DIRECTION = tf.nn.l2_normalize(tf.ones([3]), 0)\n",
    "\n",
    "grid = np.array(np.meshgrid(np.linspace(-ASPECT, ASPECT, WIDTH), np.linspace(1, -1, HEIGHT)), dtype='float32')\n",
    "pixel_coordinates = tf.transpose(tf.constant(grid), perm=[1, 2, 0])"
   ]
  },
  {
   "cell_type": "code",
   "execution_count": 5,
   "metadata": {
    "collapsed": true
   },
   "outputs": [],
   "source": [
    "def length(position):\n",
    "    return tf.sqrt(tf.reduce_sum(tf.square(position), 2, keep_dims=True))"
   ]
  },
  {
   "cell_type": "code",
   "execution_count": 6,
   "metadata": {
    "collapsed": true
   },
   "outputs": [],
   "source": [
    "import math"
   ]
  },
  {
   "cell_type": "code",
   "execution_count": 7,
   "metadata": {
    "collapsed": false
   },
   "outputs": [],
   "source": [
    "angles = pixel_coordinates * tf.constant([math.pi / 2.0 / ASPECT, 3.0 * math.pi / 8.0])\n",
    "mapped_pixels = -tf.nn.l2_normalize(angles, 2) * tf.log(tf.cos(length(angles)))\n",
    "# mapped_pixels = pixel_coordinates"
   ]
  },
  {
   "cell_type": "code",
   "execution_count": 8,
   "metadata": {
    "collapsed": true
   },
   "outputs": [],
   "source": [
    "pixel_world_coordinates = tf.concat(2, [mapped_pixels, -tf.ones([HEIGHT, WIDTH, 1])])"
   ]
  },
  {
   "cell_type": "code",
   "execution_count": 9,
   "metadata": {
    "collapsed": false
   },
   "outputs": [],
   "source": [
    "pixel_rays = tf.nn.l2_normalize(pixel_world_coordinates, 2)"
   ]
  },
  {
   "cell_type": "code",
   "execution_count": 10,
   "metadata": {
    "collapsed": false
   },
   "outputs": [],
   "source": [
    "pixel_origins = tf.zeros_like(pixel_rays)"
   ]
  },
  {
   "cell_type": "code",
   "execution_count": 11,
   "metadata": {
    "collapsed": false
   },
   "outputs": [],
   "source": [
    "view_position = tf.Variable(tf.constant([0, 0, 10], dtype='float'))"
   ]
  },
  {
   "cell_type": "code",
   "execution_count": 12,
   "metadata": {
    "collapsed": true
   },
   "outputs": [],
   "source": [
    "pixel_positions = pixel_origins + view_position"
   ]
  },
  {
   "cell_type": "code",
   "execution_count": 13,
   "metadata": {
    "collapsed": true
   },
   "outputs": [],
   "source": [
    "EPSILON = 1e-6"
   ]
  },
  {
   "cell_type": "code",
   "execution_count": 14,
   "metadata": {
    "collapsed": true
   },
   "outputs": [],
   "source": [
    "def dot(a, b):\n",
    "    return tf.reduce_sum(a * b, 2, keep_dims=True)"
   ]
  },
  {
   "cell_type": "code",
   "execution_count": 15,
   "metadata": {
    "collapsed": true
   },
   "outputs": [],
   "source": [
    "def repeat(position, spacing, primitive):\n",
    "    repeat_position = tf.mod(position, spacing) - 0.5 * spacing\n",
    "    return primitive(repeat_position)"
   ]
  },
  {
   "cell_type": "code",
   "execution_count": 16,
   "metadata": {
    "collapsed": true
   },
   "outputs": [],
   "source": [
    "def normal(position, primitive):\n",
    "    dx = tf.constant([1, 0, 0], dtype='float')\n",
    "    dy = tf.constant([0, 1, 0], dtype='float')\n",
    "    dz = tf.constant([0, 0, 1], dtype='float')\n",
    "    return tf.nn.l2_normalize(tf.concat(2, [\n",
    "            primitive(position + dx) - primitive(position - dx),\n",
    "            primitive(position + dy) - primitive(position - dy),\n",
    "            primitive(position + dz) - primitive(position - dz),\n",
    "        ]), 2)"
   ]
  },
  {
   "cell_type": "code",
   "execution_count": 17,
   "metadata": {
    "collapsed": true
   },
   "outputs": [],
   "source": [
    "def distance_to_sphere(position):\n",
    "    return length(position) - 1.0"
   ]
  },
  {
   "cell_type": "code",
   "execution_count": 18,
   "metadata": {
    "collapsed": true
   },
   "outputs": [],
   "source": [
    "def distance_function(position):\n",
    "    d = 3.0\n",
    "    dx = tf.constant([1, 0, 0], dtype='float')\n",
    "    dy = tf.constant([0, 1, 0], dtype='float')\n",
    "    return tf.reduce_min(\n",
    "        tf.concat(2, [\n",
    "            distance_to_sphere(position - 3.0 * d * dx - d * dy),\n",
    "            distance_to_sphere(position - 2.0 * d * dx - d * dy),\n",
    "            distance_to_sphere(position - 1.0 * d * dx - d * dy),\n",
    "            distance_to_sphere(position - d * dy),\n",
    "            distance_to_sphere(position + 1.0 * d * dx - d * dy),\n",
    "            distance_to_sphere(position + 2.0 * d * dx - d * dy),\n",
    "            distance_to_sphere(position + 3.0 * d * dx - d * dy),\n",
    "            distance_to_sphere(position - 3.0 * d * dx),\n",
    "            distance_to_sphere(position - 2.0 * d * dx),\n",
    "            distance_to_sphere(position - 1.0 * d * dx),\n",
    "            distance_to_sphere(position),\n",
    "            distance_to_sphere(position + 1.0 * d * dx),\n",
    "            distance_to_sphere(position + 2.0 * d * dx),\n",
    "            distance_to_sphere(position + 3.0 * d * dx),\n",
    "            distance_to_sphere(position - 3.0 * d * dx + d * dy),\n",
    "            distance_to_sphere(position - 2.0 * d * dx + d * dy),\n",
    "            distance_to_sphere(position - 1.0 * d * dx + d * dy),\n",
    "            distance_to_sphere(position + d * dy),\n",
    "            distance_to_sphere(position + 1.0 * d * dx + d * dy),\n",
    "            distance_to_sphere(position + 2.0 * d * dx + d * dy),\n",
    "            distance_to_sphere(position + 3.0 * d * dx + d * dy),\n",
    "        ]), 2, keep_dims=True)"
   ]
  },
  {
   "cell_type": "code",
   "execution_count": 19,
   "metadata": {
    "collapsed": false
   },
   "outputs": [],
   "source": [
    "for i in range(50):\n",
    "    distance = distance_function(pixel_positions)\n",
    "    pixel_positions = pixel_positions + 0.99 * tf.to_float(distance > EPSILON) * distance * pixel_rays"
   ]
  },
  {
   "cell_type": "code",
   "execution_count": 20,
   "metadata": {
    "collapsed": true
   },
   "outputs": [],
   "source": [
    "normals = normal(pixel_positions, distance_function)"
   ]
  },
  {
   "cell_type": "code",
   "execution_count": 21,
   "metadata": {
    "collapsed": true
   },
   "outputs": [],
   "source": [
    "color = tf.to_float(distance >= EPSILON) * 0.5 * tf.ones_like(pixel_positions) + tf.to_float(distance < EPSILON) * tf.ones([3]) * (0.9 * tf.nn.relu(dot(normals, LIGHT_DIRECTION)) + 0.1)"
   ]
  },
  {
   "cell_type": "code",
   "execution_count": 22,
   "metadata": {
    "collapsed": true
   },
   "outputs": [],
   "source": [
    "jpeg = tf.image.encode_jpeg(tf.image.convert_image_dtype(color, tf.uint8), 'rgb')"
   ]
  },
  {
   "cell_type": "code",
   "execution_count": 23,
   "metadata": {
    "collapsed": true
   },
   "outputs": [],
   "source": [
    "session.run(tf.initialize_all_variables())"
   ]
  },
  {
   "cell_type": "code",
   "execution_count": 24,
   "metadata": {
    "collapsed": false
   },
   "outputs": [],
   "source": [
    "image, jpeg_data = session.run([color, jpeg])"
   ]
  },
  {
   "cell_type": "code",
   "execution_count": 25,
   "metadata": {
    "collapsed": false,
    "scrolled": true
   },
   "outputs": [
    {
     "data": {
      "text/plain": [
       "<matplotlib.image.AxesImage at 0x7ff1ad7f24e0>"
      ]
     },
     "execution_count": 25,
     "metadata": {},
     "output_type": "execute_result"
    },
    {
     "data": {
      "image/png": "[encoded data removed]",
      "text/plain": [
       "<matplotlib.figure.Figure at 0x7ff1aeefac88>"
      ]
     },
     "metadata": {},
     "output_type": "display_data"
    }
   ],
   "source": [
    "matplotlib.pyplot.imshow(image)"
   ]
  },
  {
   "cell_type": "code",
   "execution_count": 26,
   "metadata": {
    "collapsed": false
   },
   "outputs": [
    {
     "ename": "TypeError",
     "evalue": "must be str, not bytes",
     "output_type": "error",
     "traceback": [
      "\u001b[1;31m---------------------------------------------------------------------------\u001b[0m",
      "\u001b[1;31mTypeError\u001b[0m                                 Traceback (most recent call last)",
      "\u001b[1;32m<ipython-input-26-5f17956bbd6b>\u001b[0m in \u001b[0;36m<module>\u001b[1;34m()\u001b[0m\n\u001b[0;32m      1\u001b[0m \u001b[0mjpeg_file\u001b[0m \u001b[1;33m=\u001b[0m \u001b[0mopen\u001b[0m\u001b[1;33m(\u001b[0m\u001b[1;34m'out.jpg'\u001b[0m\u001b[1;33m,\u001b[0m \u001b[1;34m'w'\u001b[0m\u001b[1;33m)\u001b[0m\u001b[1;33m\u001b[0m\u001b[0m\n\u001b[1;32m----> 2\u001b[1;33m \u001b[0mjpeg_file\u001b[0m\u001b[1;33m.\u001b[0m\u001b[0mwrite\u001b[0m\u001b[1;33m(\u001b[0m\u001b[0mjpeg_data\u001b[0m\u001b[1;33m)\u001b[0m\u001b[1;33m\u001b[0m\u001b[0m\n\u001b[0m\u001b[0;32m      3\u001b[0m \u001b[0mjpeg_file\u001b[0m\u001b[1;33m.\u001b[0m\u001b[0mclose\u001b[0m\u001b[1;33m(\u001b[0m\u001b[1;33m)\u001b[0m\u001b[1;33m\u001b[0m\u001b[0m\n",
      "\u001b[1;31mTypeError\u001b[0m: must be str, not bytes"
     ]
    }
   ],
   "source": [
    "jpeg_file = open('out.jpg', 'w')\n",
    "jpeg_file.write(jpeg_data)\n",
    "jpeg_file.close()"
   ]
  },
  {
   "cell_type": "code",
   "execution_count": null,
   "metadata": {
    "collapsed": false
   },
   "outputs": [],
   "source": [
    "unwarped_image = np.zeros_like(image)"
   ]
  },
  {
   "cell_type": "code",
   "execution_count": null,
   "metadata": {
    "collapsed": true
   },
   "outputs": [],
   "source": [
    "pix_coords = np.transpose(grid, axes=[1, 2, 0])\n",
    "pix_angles = pix_coords * np.array([math.pi / 3.0 / ASPECT, 3.0 * math.pi / 8.0])"
   ]
  },
  {
   "cell_type": "code",
   "execution_count": null,
   "metadata": {
    "collapsed": false
   },
   "outputs": [],
   "source": [
    "theta_y = np.linalg.norm(pix_angles, axis=2)[:, :, np.newaxis]\n",
    "dir_y = pix_angles / theta_y\n",
    "s_x = np.arccos(np.exp(-np.tan(theta_y)))"
   ]
  },
  {
   "cell_type": "code",
   "execution_count": null,
   "metadata": {
    "collapsed": true
   },
   "outputs": [],
   "source": [
    "theta_x = np.arctan(s_x)"
   ]
  },
  {
   "cell_type": "code",
   "execution_count": null,
   "metadata": {
    "collapsed": true
   },
   "outputs": [],
   "source": [
    "x = dir_y * theta_x"
   ]
  },
  {
   "cell_type": "code",
   "execution_count": null,
   "metadata": {
    "collapsed": false
   },
   "outputs": [],
   "source": [
    "x_coords = x / np.array([math.pi / 4.0, math.pi / 4.0])"
   ]
  },
  {
   "cell_type": "code",
   "execution_count": null,
   "metadata": {
    "collapsed": false
   },
   "outputs": [],
   "source": [
    "np.min(x_coords[:, :, 0])"
   ]
  },
  {
   "cell_type": "code",
   "execution_count": null,
   "metadata": {
    "collapsed": false
   },
   "outputs": [],
   "source": [
    "indices = np.floor((x_coords + 1) * np.array([HEIGHT, WIDTH]) / 2.0).astype('int')"
   ]
  },
  {
   "cell_type": "code",
   "execution_count": null,
   "metadata": {
    "collapsed": false
   },
   "outputs": [],
   "source": [
    "indices = np.maximum(indices, 0)"
   ]
  },
  {
   "cell_type": "code",
   "execution_count": null,
   "metadata": {
    "collapsed": false
   },
   "outputs": [],
   "source": [
    "for i in range(HEIGHT):\n",
    "    for j in range(WIDTH):\n",
    "        unwarped_image[i, j] = image[min(indices[i, j, 0], HEIGHT-1), min(indices[i, j, 1], WIDTH-1)]"
   ]
  },
  {
   "cell_type": "code",
   "execution_count": null,
   "metadata": {
    "collapsed": false
   },
   "outputs": [],
   "source": [
    "matplotlib.pyplot.imshow(unwarped_image)"
   ]
  },
  {
   "cell_type": "code",
   "execution_count": null,
   "metadata": {
    "collapsed": true
   },
   "outputs": [],
   "source": []
  }
 ],
 "metadata": {
  "kernelspec": {
   "display_name": "Python 3",
   "language": "python",
   "name": "python3"
  },
  "language_info": {
   "codemirror_mode": {
    "name": "ipython",
    "version": 3
   },
   "file_extension": ".py",
   "mimetype": "text/x-python",
   "name": "python",
   "nbconvert_exporter": "python",
   "pygments_lexer": "ipython3",
   "version": "3.4.3"
  }
 },
 "nbformat": 4,
 "nbformat_minor": 0
}
