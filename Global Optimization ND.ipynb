{
 "metadata": {
  "name": "",
  "signature": "sha256:a2d5d79c1d100650a2212a83b39d0baa6013f3ae754f0f7cb556d7a61ba230f2"
 },
 "nbformat": 3,
 "nbformat_minor": 0,
 "worksheets": [
  {
   "cells": [
    {
     "cell_type": "code",
     "collapsed": false,
     "input": [
      "%matplotlib inline\n",
      "import math\n",
      "import matplotlib\n",
      "from matplotlib import pyplot as p\n",
      "import numpy as np\n",
      "import random"
     ],
     "language": "python",
     "metadata": {},
     "outputs": []
    },
    {
     "cell_type": "code",
     "collapsed": false,
     "input": [
      "def Ackley(x):\n",
      "    n, a, b, c = x.shape[0], 20.0, 0.2, 2.0 * math.pi\n",
      "    s1, s2 = (x**2).sum(0), np.cos(c * x).sum(0)\n",
      "    return -a * np.exp(-b * np.sqrt(1.0 / n * s1)) - np.exp(1.0 / n * s2) + a + math.e"
     ],
     "language": "python",
     "metadata": {},
     "outputs": []
    },
    {
     "cell_type": "code",
     "collapsed": false,
     "input": [
      "def Rosenbrock(x):\n",
      "    x1 = x[1:]\n",
      "    x0 = x[:-1]\n",
      "    return (100.0 * (x1 - x0**2)**2 + (x0 - 1)**2).sum(0)"
     ],
     "language": "python",
     "metadata": {},
     "outputs": []
    },
    {
     "cell_type": "code",
     "collapsed": false,
     "input": [
      "Ackley(np.zeros((3, 2)))"
     ],
     "language": "python",
     "metadata": {},
     "outputs": []
    },
    {
     "cell_type": "code",
     "collapsed": false,
     "input": [
      "Rosenbrock(np.ones((3, 2)))"
     ],
     "language": "python",
     "metadata": {},
     "outputs": []
    },
    {
     "cell_type": "code",
     "collapsed": false,
     "input": [
      "x = np.linspace(-15, 30, 1000)\n",
      "x0, x1 = np.meshgrid(x, x)\n",
      "y = Ackley(np.array([x0, x1, np.zeros(x0.shape)]))\n",
      "\n",
      "x = np.zeros((3, 1000))\n",
      "x[0] = np.linspace(-15, 30, 1000)\n",
      "p.plot(x[0], Ackley(x))"
     ],
     "language": "python",
     "metadata": {},
     "outputs": []
    },
    {
     "cell_type": "code",
     "collapsed": false,
     "input": [
      "figure, legend = p.subplots()\n",
      "plot = legend.pcolormesh(x0, x1, y, cmap=matplotlib.cm.RdBu)\n",
      "cb = figure.colorbar(plot, ax=legend)"
     ],
     "language": "python",
     "metadata": {},
     "outputs": []
    },
    {
     "cell_type": "code",
     "collapsed": false,
     "input": [
      "def Deviation(f):\n",
      "    return lambda alpha, x: alpha - np.minimum(alpha, f(x))"
     ],
     "language": "python",
     "metadata": {},
     "outputs": []
    },
    {
     "cell_type": "code",
     "collapsed": false,
     "input": [
      "V = Deviation(Ackley)"
     ],
     "language": "python",
     "metadata": {},
     "outputs": []
    },
    {
     "cell_type": "code",
     "collapsed": false,
     "input": [
      "x = np.linspace(-15, 30, 1000)\n",
      "x0, x1 = np.meshgrid(x, x)\n",
      "y = V(10, np.array([x0, x1, np.zeros(x0.shape)]))\n",
      "\n",
      "x = np.zeros((3, 1000))\n",
      "x[0] = np.linspace(-15, 30, 1000)"
     ],
     "language": "python",
     "metadata": {},
     "outputs": []
    },
    {
     "cell_type": "code",
     "collapsed": false,
     "input": [
      "p.plot(x[0], V(10, x))"
     ],
     "language": "python",
     "metadata": {},
     "outputs": []
    },
    {
     "cell_type": "code",
     "collapsed": false,
     "input": [
      "figure, legend = p.subplots()\n",
      "plot = legend.pcolormesh(x0, x1, y, cmap=matplotlib.cm.RdBu)\n",
      "cb = figure.colorbar(plot, ax=legend)"
     ],
     "language": "python",
     "metadata": {},
     "outputs": []
    },
    {
     "cell_type": "code",
     "collapsed": false,
     "input": [
      "def Estimator(V, alpha, N, a, b):\n",
      "#     print I, I.shape\n",
      "#     samples = (I[:, 1] - I[:, 0]) * np.random.random_sample((I.shape[0], N)).T + I[:, 0]\n",
      "    samples = (b - a) * np.random.random_sample((N, a.size)) + a\n",
      "    return (b - a).prod() / float(N) * V(alpha, samples.T).sum()"
     ],
     "language": "python",
     "metadata": {},
     "outputs": []
    },
    {
     "cell_type": "code",
     "collapsed": false,
     "input": [
      "Estimator(V, 3, 2**16, -15.0 * np.ones(3), 30.0 * np.ones(3))"
     ],
     "language": "python",
     "metadata": {},
     "outputs": []
    },
    {
     "cell_type": "code",
     "collapsed": false,
     "input": [
      "# Evaluate the deviation function over \\alpha \\in (-2, 2)\n",
      "y = np.linspace(-20, 20, 1000)\n",
      "alpha = y.copy()\n",
      "for i in xrange(0, y.size):\n",
      "    alpha[i] = Estimator(V, y[i], 2**16, -15.0 * np.ones(3), 30.0 * np.ones(3))\n",
      "p.plot(y, alpha)"
     ],
     "language": "python",
     "metadata": {},
     "outputs": []
    },
    {
     "cell_type": "code",
     "collapsed": false,
     "input": [
      "# Binary search over the range of f to find \\alpha^*\n",
      "def FindEssentialInfimum(f, N, a, b, epsilon):\n",
      "    V = Deviation(f)\n",
      "    delta = 1.0\n",
      "    sample = (b - a) * np.random.random_sample(a.size) + a\n",
      "    alpha_max = f(sample[:, np.newaxis])[0]\n",
      "#     print 'alpha_max', alpha_max\n",
      "    alpha = alpha_max - delta\n",
      "    alpha_min = -float('inf')\n",
      "    expand = True\n",
      "    while expand:\n",
      "        integral = Estimator(V, alpha, N, a, b)\n",
      "        if integral > 0:\n",
      "            delta *= 2.0\n",
      "            alpha_max = alpha\n",
      "            alpha = alpha - delta\n",
      "        else:\n",
      "            delta /= 2.0\n",
      "            alpha_min = alpha\n",
      "            alpha = alpha + delta\n",
      "            expand = False\n",
      "#         print (alpha_min, alpha_max)\n",
      "    while alpha_max - alpha_min > epsilon:\n",
      "        integral = Estimator(V, alpha, N, a, b)\n",
      "        if integral > 0:\n",
      "            alpha_max = alpha\n",
      "        else:\n",
      "            alpha_min = alpha\n",
      "        alpha = (alpha_min + alpha_max) / 2.0\n",
      "#         print (alpha_min, alpha_max)\n",
      "    return alpha"
     ],
     "language": "python",
     "metadata": {},
     "outputs": []
    },
    {
     "cell_type": "code",
     "collapsed": false,
     "input": [
      "FindEssentialInfimum(Ackley, 2**16, -15.0 * np.ones(3), 30.0 * np.ones(3), 1e-10)"
     ],
     "language": "python",
     "metadata": {},
     "outputs": []
    },
    {
     "cell_type": "code",
     "collapsed": false,
     "input": [
      "# Binary search over parameter x to find the subdomain containing the global optimum coordinate x^* and value \\alpha^*\n",
      "def FindMinimizingParameter(f, N, a, b, epsilon, data_dimension=0):\n",
      "    x_max = b\n",
      "    x_min = a\n",
      "    while (x_max - x_min > epsilon)[data_dimension:].any():\n",
      "        alpha_star = float('inf')\n",
      "        i = data_dimension + (x_max - x_min)[data_dimension:].argmax()\n",
      "        print\n",
      "        print u'locating x%d\\u207a within' % i, (x_min[i], x_max[i])\n",
      "        while True:\n",
      "            x = (x_min[i] + x_max[i]) / 2.0\n",
      "            potential_alpha_star = FindEssentialInfimum(f, N, x_min, x_max, epsilon)\n",
      "            if potential_alpha_star < alpha_star:\n",
      "                alpha_star = potential_alpha_star\n",
      "            else:\n",
      "                break\n",
      "            print u'\\u03b1\\u207a', alpha_star\n",
      "            x_left = x_max.copy()\n",
      "            x_left[i] = x\n",
      "            x_right = x_min.copy()\n",
      "            x_right[i] = x\n",
      "            alpha_left = FindEssentialInfimum(f, N, x_min, x_left, epsilon)\n",
      "            alpha_right = FindEssentialInfimum(f, N, x_right, x_max, epsilon)\n",
      "            if abs(alpha_star - alpha_left) < abs(alpha_star - alpha_right):\n",
      "                x_max = x_left\n",
      "                parameter_range = (x_max - x_min)[data_dimension:]\n",
      "                j = data_dimension + parameter_range.argmin()\n",
      "                k = data_dimension + parameter_range.argmax()\n",
      "                print 'x%d in' % i, (x_min[i], x_max[i]), \\\n",
      "                    'dx%d' % i, x_max[i] - x_min[i], \\\n",
      "                    'min dx%d' % j, x_max[j] - x_min[j], \\\n",
      "                    'max dx%d' % k, x_max[k] - x_min[k], \\\n",
      "                    u'd\\u03b1', abs(alpha_star - alpha_left)\n",
      "            else:\n",
      "                x_min = x_right\n",
      "                parameter_range = (x_max - x_min)[data_dimension:]\n",
      "                j = data_dimension + parameter_range.argmin()\n",
      "                k = data_dimension + parameter_range.argmax()\n",
      "                print 'x%d in' % i, (x_min[i], x_max[i]), \\\n",
      "                    'dx%d' % i, x_max[i] - x_min[i], \\\n",
      "                    'min dx%d' % j, x_max[j] - x_min[j], \\\n",
      "                    'max dx%d' % k, x_max[k] - x_min[k], \\\n",
      "                    u'd\\u03b1', abs(alpha_star - alpha_right)\n",
      "    return (x_min, x_max)"
     ],
     "language": "python",
     "metadata": {},
     "outputs": []
    },
    {
     "cell_type": "code",
     "collapsed": false,
     "input": [
      "FindMinimizingParameter(Ackley, 2**19, -15.0 * np.ones(3), 30.0 * np.ones(3), 1e-10)"
     ],
     "language": "python",
     "metadata": {},
     "outputs": []
    },
    {
     "cell_type": "code",
     "collapsed": false,
     "input": [
      "Ackley(np.array([ -5.45696821e-11,  -5.45696821e-11,   2.72848411e-11]))"
     ],
     "language": "python",
     "metadata": {},
     "outputs": []
    },
    {
     "cell_type": "code",
     "collapsed": false,
     "input": [
      "FindMinimizingParameter(Ackley, 2**16, -15.0 * np.ones(3), 30.0 * np.ones(3), 1e-10)"
     ],
     "language": "python",
     "metadata": {},
     "outputs": []
    },
    {
     "cell_type": "code",
     "collapsed": false,
     "input": [
      "Ackley(np.array([ -5.45696821e-11,  -5.45696821e-11,  -1.36424205e-11]))"
     ],
     "language": "python",
     "metadata": {},
     "outputs": []
    },
    {
     "cell_type": "code",
     "collapsed": false,
     "input": [
      "FindMinimizingParameter(Rosenbrock, 2**16, -2.0 * np.ones(6), 3.0 * np.ones(6), 1e-10)"
     ],
     "language": "python",
     "metadata": {},
     "outputs": []
    },
    {
     "cell_type": "code",
     "collapsed": false,
     "input": [
      "Rosenbrock(np.array([1.0078125, 1.015625, 1.03149408]))"
     ],
     "language": "python",
     "metadata": {},
     "outputs": []
    },
    {
     "cell_type": "code",
     "collapsed": false,
     "input": [
      "def AutoEncoder(x):\n",
      "    h0 = x[0:10]\n",
      "    W0 = x[10:50].reshape(4, 10, x.shape[1] if len(x.shape) > 1 else 1)\n",
      "    b0 = x[50:54]\n",
      "    h1 = np.minimum(0.0, np.einsum('jk...,k...', W0, h0) + b0.T).T\n",
      "    W1 = W0.transpose(1, 0, 2)\n",
      "    b1 = x[54:64]\n",
      "    h2 = np.minimum(0.0, np.einsum('jk...,k...', W1, h1) + b1.T).T\n",
      "    return np.abs(h0 - h2).sum(0)"
     ],
     "language": "python",
     "metadata": {},
     "outputs": []
    },
    {
     "cell_type": "code",
     "collapsed": false,
     "input": [
      "def AutoEncoderOutput(x):\n",
      "    h0 = x[0:10]\n",
      "    W0 = x[10:50].reshape(4, 10, x.shape[1] if len(x.shape) > 1 else 1)\n",
      "    b0 = x[50:54]\n",
      "    h1 = np.minimum(0.0, np.einsum('jk...,k...', W0, h0) + b0.T).T\n",
      "    W1 = W0.transpose(1, 0, 2)\n",
      "    b1 = x[54:64]\n",
      "    h2 = np.minimum(0.0, np.einsum('jk...,k...', W1, h1) + b1.T).T\n",
      "    return h2"
     ],
     "language": "python",
     "metadata": {},
     "outputs": [],
     "prompt_number": 816
    },
    {
     "cell_type": "code",
     "collapsed": false,
     "input": [
      "V3 = Deviation(AutoEncoder)"
     ],
     "language": "python",
     "metadata": {},
     "outputs": []
    },
    {
     "cell_type": "code",
     "collapsed": false,
     "input": [
      "x_min = -1.0 * np.ones(10)\n",
      "x_max =  1.0 * np.ones(10)\n",
      "w_min = -10.0 * np.ones(54)\n",
      "w_max =  10.0 * np.ones(54)\n",
      "theta_min = np.concatenate([x_min, w_min])\n",
      "theta_max = np.concatenate([x_max, w_max])"
     ],
     "language": "python",
     "metadata": {},
     "outputs": []
    },
    {
     "cell_type": "code",
     "collapsed": false,
     "input": [
      "Estimator(V3, 30.0, 2**16, theta_min, theta_max)"
     ],
     "language": "python",
     "metadata": {},
     "outputs": []
    },
    {
     "cell_type": "code",
     "collapsed": false,
     "input": [
      "FindEssentialInfimum(AutoEncoder, 2**16, theta_min, theta_max, 1e-10)"
     ],
     "language": "python",
     "metadata": {},
     "outputs": []
    },
    {
     "cell_type": "code",
     "collapsed": false,
     "input": [
      "# Evaluate the deviation function over \\alpha \\in (-2, 2)\n",
      "y = np.linspace(-20, 50, 100)\n",
      "alpha = y.copy()\n",
      "for i in xrange(0, y.size):\n",
      "    alpha[i] = Estimator(V3, y[i], 2**16, -10.0 * np.ones(64), 10.0 * np.ones(64))\n",
      "p.plot(y, alpha)"
     ],
     "language": "python",
     "metadata": {},
     "outputs": []
    },
    {
     "cell_type": "code",
     "collapsed": false,
     "input": [
      "FindMinimizingParameter(AutoEncoder, 2**12, theta_min, theta_max, 1e-10, data_dimension=10)"
     ],
     "language": "python",
     "metadata": {},
     "outputs": [
      {
       "output_type": "stream",
       "stream": "stdout",
       "text": [
        " (3.9814274869786459, 3.9814274869968358) dx33 1.81898940355e-11 min dx13 1.81898940355e-11 max dx34 1.45519152284e-10 d\u03b1 54.6632302353\n",
        "\n"
       ]
      },
      {
       "output_type": "stream",
       "stream": "stdout",
       "text": [
        "locating x34\u207a within (4.928392468864331, 4.9283924690098502)\n",
        "\u03b1\u207a"
       ]
      },
      {
       "output_type": "stream",
       "stream": "stdout",
       "text": [
        " 236.012897221\n",
        "x34 in"
       ]
      },
      {
       "output_type": "stream",
       "stream": "stdout",
       "text": [
        " (4.9283924689370906, 4.9283924690098502) dx34 7.27595761418e-11 min dx13 1.81898940355e-11 max dx35 1.45519152284e-10 d\u03b1 144.30025725\n",
        "\u03b1\u207a"
       ]
      },
      {
       "output_type": "stream",
       "stream": "stdout",
       "text": [
        " 231.936200614\n",
        "x34 in"
       ]
      },
      {
       "output_type": "stream",
       "stream": "stdout",
       "text": [
        " (4.9283924689370906, 4.9283924689734704) dx34 3.63797880709e-11 min dx13 1.81898940355e-11 max dx35 1.45519152284e-10 d\u03b1 183.370976097\n",
        "\u03b1\u207a"
       ]
      },
      {
       "output_type": "stream",
       "stream": "stdout",
       "text": [
        " 23.7631579806\n",
        "x34 in"
       ]
      },
      {
       "output_type": "stream",
       "stream": "stdout",
       "text": [
        " (4.9283924689552805, 4.9283924689734704) dx34 1.81898940355e-11 min dx13 1.81898940355e-11 max dx35 1.45519152284e-10 d\u03b1 18.6031272038\n",
        "\n"
       ]
      },
      {
       "output_type": "stream",
       "stream": "stdout",
       "text": [
        "locating x35\u207a within (8.7728194482042454, 8.7728194483497646)\n",
        "\u03b1\u207a"
       ]
      },
      {
       "output_type": "stream",
       "stream": "stdout",
       "text": [
        " 113.993147655\n",
        "x35 in"
       ]
      },
      {
       "output_type": "stream",
       "stream": "stdout",
       "text": [
        " (8.772819448277005, 8.7728194483497646) dx35 7.27595761418e-11 min dx13 1.81898940355e-11 max dx37 1.45519152284e-10 d\u03b1 6.38935023779\n",
        "\n"
       ]
      },
      {
       "output_type": "stream",
       "stream": "stdout",
       "text": [
        "locating x37\u207a within (3.7923007136851083, 3.7923007138306275)\n",
        "\u03b1\u207a"
       ]
      },
      {
       "output_type": "stream",
       "stream": "stdout",
       "text": [
        " 117.664976845\n",
        "x37 in"
       ]
      },
      {
       "output_type": "stream",
       "stream": "stdout",
       "text": [
        " (3.7923007136851083, 3.7923007137578679) dx37 7.27595761418e-11 min dx13 1.81898940355e-11 max dx40 1.45519152284e-10 d\u03b1 92.6795125906\n",
        "\u03b1\u207a"
       ]
      },
      {
       "output_type": "stream",
       "stream": "stdout",
       "text": [
        " 56.6347042784\n",
        "x37 in"
       ]
      },
      {
       "output_type": "stream",
       "stream": "stdout",
       "text": [
        " (3.7923007137214881, 3.7923007137578679) dx37 3.63797880709e-11 min dx13 1.81898940355e-11 max dx40 1.45519152284e-10 d\u03b1 49.4110642106\n",
        "\u03b1\u207a"
       ]
      },
      {
       "output_type": "stream",
       "stream": "stdout",
       "text": [
        " 5.8059365833\n",
        "x37 in"
       ]
      },
      {
       "output_type": "stream",
       "stream": "stdout",
       "text": [
        " (3.7923007137214881, 3.792300713739678) dx37 1.81898940355e-11 min dx13 1.81898940355e-11 max dx40 1.45519152284e-10 d\u03b1 0.0681591771459\n",
        "\n"
       ]
      },
      {
       "output_type": "stream",
       "stream": "stdout",
       "text": [
        "locating x40\u207a within (-7.7506265226111282, -7.750626522465609)\n",
        "\u03b1\u207a"
       ]
      },
      {
       "output_type": "stream",
       "stream": "stdout",
       "text": [
        " 85.8651750704\n",
        "x40 in"
       ]
      },
      {
       "output_type": "stream",
       "stream": "stdout",
       "text": [
        " (-7.7506265226111282, -7.7506265225383686) dx40 7.27595761418e-11 min dx13 1.81898940355e-11 max dx42 1.45519152284e-10 d\u03b1 74.5619452755\n",
        "\u03b1\u207a"
       ]
      },
      {
       "output_type": "stream",
       "stream": "stdout",
       "text": [
        " 5.67289419701\n",
        "x40 in"
       ]
      },
      {
       "output_type": "stream",
       "stream": "stdout",
       "text": [
        " (-7.7506265225747484, -7.7506265225383686) dx40 3.63797880709e-11 min dx13 1.81898940355e-11 max dx42 1.45519152284e-10 d\u03b1 0.52080686777\n",
        "\n"
       ]
      },
      {
       "output_type": "stream",
       "stream": "stdout",
       "text": [
        "locating x42\u207a within (-7.1704703112482093, -7.1704703111026902)\n",
        "\u03b1\u207a"
       ]
      },
      {
       "output_type": "stream",
       "stream": "stdout",
       "text": [
        " 25.5670393738\n",
        "x42 in"
       ]
      },
      {
       "output_type": "stream",
       "stream": "stdout",
       "text": [
        " (-7.1704703112482093, -7.1704703111754498) dx42 7.27595761418e-11 min dx13 1.81898940355e-11 max dx43 1.45519152284e-10 d\u03b1 17.7933956898\n",
        "\n"
       ]
      },
      {
       "output_type": "stream",
       "stream": "stdout",
       "text": [
        "locating x43\u207a within (3.9700901971082203, 3.9700901972537395)\n",
        "\u03b1\u207a"
       ]
      },
      {
       "output_type": "stream",
       "stream": "stdout",
       "text": [
        " 30.3148840314\n",
        "x43 in"
       ]
      },
      {
       "output_type": "stream",
       "stream": "stdout",
       "text": [
        " (3.9700901971809799, 3.9700901972537395) dx43 7.27595761418e-11 min dx13 1.81898940355e-11 max dx44 1.45519152284e-10 d\u03b1 0.0524038797353\n",
        "\n"
       ]
      },
      {
       "output_type": "stream",
       "stream": "stdout",
       "text": [
        "locating x44\u207a within (4.8498073383234441, 4.8498073384689633)\n",
        "\u03b1\u207a"
       ]
      },
      {
       "output_type": "stream",
       "stream": "stdout",
       "text": [
        " 743.098150748\n",
        "x44 in"
       ]
      },
      {
       "output_type": "stream",
       "stream": "stdout",
       "text": [
        " (4.8498073383962037, 4.8498073384689633) dx44 7.27595761418e-11 min dx13 1.81898940355e-11 max dx45 1.45519152284e-10 d\u03b1 589.997760569\n",
        "\u03b1\u207a"
       ]
      },
      {
       "output_type": "stream",
       "stream": "stdout",
       "text": [
        " 30.1639782324\n",
        "x44 in"
       ]
      },
      {
       "output_type": "stream",
       "stream": "stdout",
       "text": [
        " (4.8498073383962037, 4.8498073384325835) dx44 3.63797880709e-11 min dx13 1.81898940355e-11 max dx45 1.45519152284e-10 d\u03b1 111.940904094\n",
        "\n"
       ]
      },
      {
       "output_type": "stream",
       "stream": "stdout",
       "text": [
        "locating x45\u207a within (2.4510257209476549, 2.4510257210931741)\n",
        "\u03b1\u207a"
       ]
      },
      {
       "output_type": "stream",
       "stream": "stdout",
       "text": [
        " 150.475994813\n",
        "x45 in"
       ]
      },
      {
       "output_type": "stream",
       "stream": "stdout",
       "text": [
        " (2.4510257210204145, 2.4510257210931741) dx45 7.27595761418e-11 min dx13 1.81898940355e-11 max dx47 1.45519152284e-10 d\u03b1 81.5265431653\n",
        "\u03b1\u207a"
       ]
      },
      {
       "output_type": "stream",
       "stream": "stdout",
       "text": [
        " 140.250800143\n",
        "x45 in"
       ]
      },
      {
       "output_type": "stream",
       "stream": "stdout",
       "text": [
        " (2.4510257210567943, 2.4510257210931741) dx45 3.63797880709e-11 min dx13 1.81898940355e-11 max dx47 1.45519152284e-10 d\u03b1 34.8839447429\n",
        "\n"
       ]
      },
      {
       "output_type": "stream",
       "stream": "stdout",
       "text": [
        "locating x47\u207a within (6.2449527636636049, 6.244952763809124)\n",
        "\u03b1\u207a"
       ]
      },
      {
       "output_type": "stream",
       "stream": "stdout",
       "text": [
        " 10.0916240423\n",
        "x47 in"
       ]
      },
      {
       "output_type": "stream",
       "stream": "stdout",
       "text": [
        " (6.2449527636636049, 6.2449527637363644) dx47 7.27595761418e-11 min dx13 1.81898940355e-11 max dx49 1.45519152284e-10 d\u03b1 4.45975994999\n",
        "\u03b1\u207a"
       ]
      },
      {
       "output_type": "stream",
       "stream": "stdout",
       "text": [
        " 7.80313173048\n",
        "x47 in"
       ]
      },
      {
       "output_type": "stream",
       "stream": "stdout",
       "text": [
        " (6.2449527636636049, 6.2449527636999846) dx47 3.63797880709e-11 min dx13 1.81898940355e-11 max dx49 1.45519152284e-10 d\u03b1 111.930105299\n",
        "\n"
       ]
      },
      {
       "output_type": "stream",
       "stream": "stdout",
       "text": [
        "locating x49\u207a within (-4.46900121474755, -4.4690012146020308)\n",
        "\u03b1\u207a"
       ]
      },
      {
       "output_type": "stream",
       "stream": "stdout",
       "text": [
        " 4.92138000293\n",
        "x49 in"
       ]
      },
      {
       "output_type": "stream",
       "stream": "stdout",
       "text": [
        " (-4.4690012146747904, -4.4690012146020308) dx49 7.27595761418e-11 min dx13 1.81898940355e-11 max dx51 1.45519152284e-10 d\u03b1 41.6389001386\n",
        "\n"
       ]
      },
      {
       "output_type": "stream",
       "stream": "stdout",
       "text": [
        "locating x51\u207a within (3.3270687278127298, 3.3270687279582489)\n",
        "\u03b1\u207a"
       ]
      },
      {
       "output_type": "stream",
       "stream": "stdout",
       "text": [
        " 6.4638942538\n",
        "x51 in"
       ]
      },
      {
       "output_type": "stream",
       "stream": "stdout",
       "text": [
        " (3.3270687278854894, 3.3270687279582489) dx51 7.27595761418e-11 min dx13 1.81898940355e-11 max dx52 1.45519152284e-10 d\u03b1 206.429036134\n",
        "\u03b1\u207a"
       ]
      },
      {
       "output_type": "stream",
       "stream": "stdout",
       "text": [
        " 5.79802755941\n",
        "x51 in"
       ]
      },
      {
       "output_type": "stream",
       "stream": "stdout",
       "text": [
        " (3.3270687278854894, 3.3270687279218691) dx51 3.63797880709e-11 min dx13 1.81898940355e-11 max dx52 1.45519152284e-10 d\u03b1 21.1602876307\n",
        "\n"
       ]
      },
      {
       "output_type": "stream",
       "stream": "stdout",
       "text": [
        "locating x52\u207a within (3.2433798584679607, 3.2433798586134799)\n",
        "\u03b1\u207a"
       ]
      },
      {
       "output_type": "stream",
       "stream": "stdout",
       "text": [
        " 828.928290007\n",
        "x52 in"
       ]
      },
      {
       "output_type": "stream",
       "stream": "stdout",
       "text": [
        " (3.2433798585407203, 3.2433798586134799) dx52 7.27595761418e-11 min dx13 1.81898940355e-11 max dx53 1.45519152284e-10 d\u03b1 746.207708212\n",
        "\u03b1\u207a"
       ]
      },
      {
       "output_type": "stream",
       "stream": "stdout",
       "text": [
        " 14.6384292821\n",
        "x52 in"
       ]
      },
      {
       "output_type": "stream",
       "stream": "stdout",
       "text": [
        " (3.2433798585771001, 3.2433798586134799) dx52 3.63797880709e-11 min dx13 1.81898940355e-11 max dx53 1.45519152284e-10 d\u03b1 67.4826177694\n",
        "\n"
       ]
      },
      {
       "output_type": "stream",
       "stream": "stdout",
       "text": [
        "locating x53\u207a within (2.4445294312317856, 2.4445294313773047)\n",
        "\u03b1\u207a"
       ]
      },
      {
       "output_type": "stream",
       "stream": "stdout",
       "text": [
        " 158.431621291\n",
        "x53 in"
       ]
      },
      {
       "output_type": "stream",
       "stream": "stdout",
       "text": [
        " (2.4445294313045451, 2.4445294313773047) dx53 7.27595761418e-11 min dx13 1.81898940355e-11 max dx55 1.45519152284e-10 d\u03b1 25.257177784\n",
        "\u03b1\u207a"
       ]
      },
      {
       "output_type": "stream",
       "stream": "stdout",
       "text": [
        " 5.17424079978\n",
        "x53 in"
       ]
      },
      {
       "output_type": "stream",
       "stream": "stdout",
       "text": [
        " (2.4445294313409249, 2.4445294313773047) dx53 3.63797880709e-11 min dx13 1.81898940355e-11 max dx55 1.45519152284e-10 d\u03b1 0.339953784682\n",
        "\n"
       ]
      },
      {
       "output_type": "stream",
       "stream": "stdout",
       "text": [
        "locating x55\u207a within (-1.5523930499330163, -1.5523930497874971)\n",
        "\u03b1\u207a"
       ]
      },
      {
       "output_type": "stream",
       "stream": "stdout",
       "text": [
        " 182.221640059\n",
        "x55 in"
       ]
      },
      {
       "output_type": "stream",
       "stream": "stdout",
       "text": [
        " (-1.5523930498602567, -1.5523930497874971) dx55 7.27595761418e-11 min dx13 1.81898940355e-11 max dx56 1.45519152284e-10 d\u03b1 66.3566653389\n",
        "\u03b1\u207a"
       ]
      },
      {
       "output_type": "stream",
       "stream": "stdout",
       "text": [
        " 6.8664299793\n",
        "x55 in"
       ]
      },
      {
       "output_type": "stream",
       "stream": "stdout",
       "text": [
        " (-1.5523930498602567, -1.5523930498238769) dx55 3.63797880709e-11 min dx13 1.81898940355e-11 max dx56 1.45519152284e-10 d\u03b1 260.234419173\n",
        "\n"
       ]
      },
      {
       "output_type": "stream",
       "stream": "stdout",
       "text": [
        "locating x56\u207a within (0.36726283811731264, 0.36726283826283179)\n",
        "\u03b1\u207a"
       ]
      },
      {
       "output_type": "stream",
       "stream": "stdout",
       "text": [
        " 4.71481352395\n",
        "x56 in"
       ]
      },
      {
       "output_type": "stream",
       "stream": "stdout",
       "text": [
        " (0.36726283811731264, 0.36726283819007222) dx56 7.27595761418e-11 min dx13 1.81898940355e-11 max dx58 1.45519152284e-10 d\u03b1 25.3965428866\n",
        "\n"
       ]
      },
      {
       "output_type": "stream",
       "stream": "stdout",
       "text": [
        "locating x58\u207a within (4.0480424782435875, 4.0480424783891067)\n",
        "\u03b1\u207a"
       ]
      },
      {
       "output_type": "stream",
       "stream": "stdout",
       "text": [
        " 277.702118647\n",
        "x58 in"
       ]
      },
      {
       "output_type": "stream",
       "stream": "stdout",
       "text": [
        " (4.0480424783163471, 4.0480424783891067) dx58 7.27595761418e-11 min dx13 1.81898940355e-11 max dx60 1.45519152284e-10 d\u03b1 257.790048248\n",
        "\u03b1\u207a"
       ]
      },
      {
       "output_type": "stream",
       "stream": "stdout",
       "text": [
        " 6.02629773642\n",
        "x58 in"
       ]
      },
      {
       "output_type": "stream",
       "stream": "stdout",
       "text": [
        " (4.0480424783163471, 4.0480424783527269) dx58 3.63797880709e-11 min dx13 1.81898940355e-11 max dx60 1.45519152284e-10 d\u03b1 12.5615899055\n",
        "\u03b1\u207a"
       ]
      },
      {
       "output_type": "stream",
       "stream": "stdout",
       "text": [
        " 4.47665190165\n",
        "x58 in"
       ]
      },
      {
       "output_type": "stream",
       "stream": "stdout",
       "text": [
        " (4.0480424783163471, 4.048042478334537) dx58 1.81898940355e-11 min dx13 1.81898940355e-11 max dx60 1.45519152284e-10 d\u03b1 8.73907526958\n",
        "\n"
       ]
      },
      {
       "output_type": "stream",
       "stream": "stdout",
       "text": [
        "locating x60\u207a within (7.4248293822165579, 7.424829382362077)\n",
        "\u03b1\u207a"
       ]
      },
      {
       "output_type": "stream",
       "stream": "stdout",
       "text": [
        " 10.8817560941\n",
        "x60 in"
       ]
      },
      {
       "output_type": "stream",
       "stream": "stdout",
       "text": [
        " (7.4248293822893174, 7.424829382362077) dx60 7.27595761418e-11 min dx13 1.81898940355e-11 max dx61 1.45519152284e-10 d\u03b1 312.610531515\n",
        "\u03b1\u207a"
       ]
      },
      {
       "output_type": "stream",
       "stream": "stdout",
       "text": [
        " 6.96853698571\n",
        "x60 in"
       ]
      },
      {
       "output_type": "stream",
       "stream": "stdout",
       "text": [
        " (7.4248293823256972, 7.424829382362077) dx60 3.63797880709e-11 min dx13 1.81898940355e-11 max dx61 1.45519152284e-10 d\u03b1 75.3762902007\n",
        "\n"
       ]
      },
      {
       "output_type": "stream",
       "stream": "stdout",
       "text": [
        "locating x61\u207a within (-0.12078891260898672, -0.12078891246346757)\n",
        "\u03b1\u207a"
       ]
      },
      {
       "output_type": "stream",
       "stream": "stdout",
       "text": [
        " 894.031178808\n",
        "x61 in"
       ]
      },
      {
       "output_type": "stream",
       "stream": "stdout",
       "text": [
        " (-0.12078891260898672, -0.12078891253622714) dx61 7.27595761418e-11 min dx13 1.81898940355e-11 max dx62 1.45519152284e-10 d\u03b1 420.054006781\n",
        "\u03b1\u207a"
       ]
      },
      {
       "output_type": "stream",
       "stream": "stdout",
       "text": [
        " 756.958662663\n",
        "x61 in"
       ]
      },
      {
       "output_type": "stream",
       "stream": "stdout",
       "text": [
        " (-0.12078891260898672, -0.12078891257260693) dx61 3.63797880709e-11 min dx13 1.81898940355e-11 max dx62 1.45519152284e-10 d\u03b1 503.35998349\n",
        "\u03b1\u207a"
       ]
      },
      {
       "output_type": "stream",
       "stream": "stdout",
       "text": [
        " 66.3913148375\n",
        "x61 in"
       ]
      },
      {
       "output_type": "stream",
       "stream": "stdout",
       "text": [
        " (-0.12078891259079683, -0.12078891257260693) dx61 1.81898940355e-11 min dx13 1.81898940355e-11 max dx62 1.45519152284e-10 d\u03b1 25.2750855596\n",
        "\n"
       ]
      },
      {
       "output_type": "stream",
       "stream": "stdout",
       "text": [
        "locating x62\u207a within (5.140584545006277, 5.1405845451517962)\n",
        "\u03b1\u207a"
       ]
      },
      {
       "output_type": "stream",
       "stream": "stdout",
       "text": [
        " 3.63051797484\n",
        "x62 in"
       ]
      },
      {
       "output_type": "stream",
       "stream": "stdout",
       "text": [
        " (5.1405845450790366, 5.1405845451517962) dx62 7.27595761418e-11 min dx13 1.81898940355e-11 max dx63 1.45519152284e-10 d\u03b1 290.360272808\n",
        "\n"
       ]
      },
      {
       "output_type": "stream",
       "stream": "stdout",
       "text": [
        "locating x63\u207a within (-0.7664232183014974, -0.76642321815597825)\n",
        "\u03b1\u207a"
       ]
      },
      {
       "output_type": "stream",
       "stream": "stdout",
       "text": [
        " 233.509503613\n",
        "x63 in"
       ]
      },
      {
       "output_type": "stream",
       "stream": "stdout",
       "text": [
        " (-0.7664232183014974, -0.76642321822873782) dx63 7.27595761418e-11 min dx13 1.81898940355e-11 max dx10 7.27595761418e-11 d\u03b1 2.39288692913\n",
        "\u03b1\u207a"
       ]
      },
      {
       "output_type": "stream",
       "stream": "stdout",
       "text": [
        " 18.1487527909\n",
        "x63 in"
       ]
      },
      {
       "output_type": "stream",
       "stream": "stdout",
       "text": [
        " (-0.76642321826511761, -0.76642321822873782) dx63 3.63797880709e-11 min dx13 1.81898940355e-11 max dx10 7.27595761418e-11 d\u03b1 341.181076449\n",
        "\u03b1\u207a"
       ]
      },
      {
       "output_type": "stream",
       "stream": "stdout",
       "text": [
        " 11.3109558867\n",
        "x63 in"
       ]
      },
      {
       "output_type": "stream",
       "stream": "stdout",
       "text": [
        " (-0.76642321824692772, -0.76642321822873782) dx63 1.81898940355e-11 min dx13 1.81898940355e-11 max dx10 7.27595761418e-11 d\u03b1 3.06227723173\n"
       ]
      },
      {
       "metadata": {},
       "output_type": "pyout",
       "prompt_number": 813,
       "text": [
        "(array([-1.        , -1.        , -1.        , -1.        , -1.        ,\n",
        "        -1.        , -1.        , -1.        , -1.        , -1.        ,\n",
        "         9.50368781, -9.68974692, -8.51795423, -9.64985245,  0.95909599,\n",
        "        -5.78185997,  7.41449334, -5.45694284,  8.35273957, -3.72536273,\n",
        "        -6.35220811,  7.52811054, -8.86854796, -3.32350093, -0.83174918,\n",
        "        -1.00365108, -8.24851145, -4.43132483,  0.43495192, -3.37165284,\n",
        "         3.60660804, -8.51507284, -6.04062801,  3.98142749,  4.92839247,\n",
        "         8.77281945,  7.25050378,  3.79230071,  9.42236185, -2.80084774,\n",
        "        -7.75062652,  1.54792851, -7.17047031,  3.9700902 ,  4.84980734,\n",
        "         2.45102572,  0.47722918,  6.24495276, -4.6238128 , -4.46900121,\n",
        "         9.58891186,  3.32706873,  3.24337986,  2.44452943,  3.50890604,\n",
        "        -1.55239305,  0.36726284,  5.77721942,  4.04804248,  9.21719808,\n",
        "         7.42482938, -0.12078891,  5.14058455, -0.76642322]),\n",
        " array([ 1.        ,  1.        ,  1.        ,  1.        ,  1.        ,\n",
        "         1.        ,  1.        ,  1.        ,  1.        ,  1.        ,\n",
        "         9.50368781, -9.68974692, -8.51795423, -9.64985245,  0.95909599,\n",
        "        -5.78185997,  7.41449334, -5.45694284,  8.35273957, -3.72536273,\n",
        "        -6.35220811,  7.52811054, -8.86854796, -3.32350093, -0.83174918,\n",
        "        -1.00365108, -8.24851145, -4.43132483,  0.43495192, -3.37165284,\n",
        "         3.60660804, -8.51507283, -6.04062801,  3.98142749,  4.92839247,\n",
        "         8.77281945,  7.25050378,  3.79230071,  9.42236185, -2.80084774,\n",
        "        -7.75062652,  1.54792851, -7.17047031,  3.9700902 ,  4.84980734,\n",
        "         2.45102572,  0.47722918,  6.24495276, -4.6238128 , -4.46900121,\n",
        "         9.58891186,  3.32706873,  3.24337986,  2.44452943,  3.50890604,\n",
        "        -1.55239305,  0.36726284,  5.77721942,  4.04804248,  9.21719808,\n",
        "         7.42482938, -0.12078891,  5.14058455, -0.76642322]))"
       ]
      }
     ],
     "prompt_number": 813
    },
    {
     "cell_type": "code",
     "collapsed": false,
     "input": [
      "a = _"
     ],
     "language": "python",
     "metadata": {},
     "outputs": [],
     "prompt_number": 814
    },
    {
     "cell_type": "code",
     "collapsed": false,
     "input": [
      "a[0]"
     ],
     "language": "python",
     "metadata": {},
     "outputs": [
      {
       "metadata": {},
       "output_type": "pyout",
       "prompt_number": 822,
       "text": [
        "array([-1.        , -1.        , -1.        , -1.        , -1.        ,\n",
        "       -1.        , -1.        , -1.        , -1.        , -1.        ,\n",
        "        9.50368781, -9.68974692, -8.51795423, -9.64985245,  0.95909599,\n",
        "       -5.78185997,  7.41449334, -5.45694284,  8.35273957, -3.72536273,\n",
        "       -6.35220811,  7.52811054, -8.86854796, -3.32350093, -0.83174918,\n",
        "       -1.00365108, -8.24851145, -4.43132483,  0.43495192, -3.37165284,\n",
        "        3.60660804, -8.51507284, -6.04062801,  3.98142749,  4.92839247,\n",
        "        8.77281945,  7.25050378,  3.79230071,  9.42236185, -2.80084774,\n",
        "       -7.75062652,  1.54792851, -7.17047031,  3.9700902 ,  4.84980734,\n",
        "        2.45102572,  0.47722918,  6.24495276, -4.6238128 , -4.46900121,\n",
        "        9.58891186,  3.32706873,  3.24337986,  2.44452943,  3.50890604,\n",
        "       -1.55239305,  0.36726284,  5.77721942,  4.04804248,  9.21719808,\n",
        "        7.42482938, -0.12078891,  5.14058455, -0.76642322])"
       ]
      }
     ],
     "prompt_number": 822
    },
    {
     "cell_type": "code",
     "collapsed": false,
     "input": [
      "b = a[0].copy()\n",
      "b[0:10] = np.array([0.5, 0.5, .5, .5, .5, 0.5, 0.5, .5, 0.5, .5])"
     ],
     "language": "python",
     "metadata": {},
     "outputs": [],
     "prompt_number": 831
    },
    {
     "cell_type": "code",
     "collapsed": false,
     "input": [
      "AutoEncoderOutput(b).T"
     ],
     "language": "python",
     "metadata": {},
     "outputs": [
      {
       "metadata": {},
       "output_type": "pyout",
       "prompt_number": 832,
       "text": [
        "array([[  0.        , -83.66129323,   0.        ,   0.        ,\n",
        "          0.        ,   0.        ,   0.        ,   0.        ,\n",
        "          0.        ,   0.        ]])"
       ]
      }
     ],
     "prompt_number": 832
    },
    {
     "cell_type": "code",
     "collapsed": false,
     "input": [],
     "language": "python",
     "metadata": {},
     "outputs": []
    }
   ],
   "metadata": {}
  }
 ]
}