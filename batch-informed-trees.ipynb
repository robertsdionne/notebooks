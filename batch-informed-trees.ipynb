{
 "cells": [
  {
   "cell_type": "code",
   "execution_count": 2,
   "metadata": {
    "collapsed": true
   },
   "outputs": [],
   "source": [
    "import numpy as np"
   ]
  },
  {
   "cell_type": "markdown",
   "metadata": {},
   "source": [
    "# Global Optimization with modified Batch Informed Trees*\n",
    "\n",
    "Steps:\n",
    "1. Set $x_{start} = -(1,1,\\ldots,1)$ and $x_{goal} = (1, 1,\\ldots, 1)$.\n",
    "2. Sample states uniformly from unit n-ball.\n",
    "3. Re-center and -scale sampled states to hyper ellipsoid with $x_{start}$ and $x_{goal}$ as foci.\n",
    "4. Add sample states to paths conditional on having lower loss values than ancestor states.\n",
    "    1. Optionally, perform zero-knowledge proof that sampled directional derivatives along path segment are all negative.\n",
    "5. Stop when no more progress is made towards goal.\n",
    "6. Catalogue minima.\n",
    "\n",
    "## Sample uniformly from unit n-ball\n",
    "\n",
    "2 dimensions $x^2 + y^2 <= 1$\n",
    "\n",
    "3 dimensions $x^2 + y^2 + z^2 <= 1$\n",
    "\n",
    "4 dimensions $x^2 + y^2 + z^2 + w^2 <= 1$\n",
    "\n",
    "...\n",
    "\n",
    "n dimensions $x_1^2 + x_2^2 + \\ldots + x_n^2 <= 1$\n",
    "\n",
    "## Re-center and -scale sampled state to hyperellipsoid\n"
   ]
  },
  {
   "cell_type": "code",
   "execution_count": null,
   "metadata": {
    "collapsed": true
   },
   "outputs": [],
   "source": []
  }
 ],
 "metadata": {
  "kernelspec": {
   "display_name": "Python 3",
   "language": "python",
   "name": "python3"
  },
  "language_info": {
   "codemirror_mode": {
    "name": "ipython",
    "version": 3
   },
   "file_extension": ".py",
   "mimetype": "text/x-python",
   "name": "python",
   "nbconvert_exporter": "python",
   "pygments_lexer": "ipython3",
   "version": "3.4.3"
  }
 },
 "nbformat": 4,
 "nbformat_minor": 0
}
